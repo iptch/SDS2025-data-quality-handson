{
 "cells": [
  {
   "cell_type": "code",
   "execution_count": 9,
   "metadata": {},
   "outputs": [
    {
     "ename": "ValueError",
     "evalue": "numpy.dtype size changed, may indicate binary incompatibility. Expected 96 from C header, got 88 from PyObject",
     "output_type": "error",
     "traceback": [
      "\u001B[31m---------------------------------------------------------------------------\u001B[39m",
      "\u001B[31mValueError\u001B[39m                                Traceback (most recent call last)",
      "\u001B[36mCell\u001B[39m\u001B[36m \u001B[39m\u001B[32mIn[9]\u001B[39m\u001B[32m, line 1\u001B[39m\n\u001B[32m----> \u001B[39m\u001B[32m1\u001B[39m \u001B[38;5;28;01mimport\u001B[39;00m\u001B[38;5;250m \u001B[39m\u001B[34;01mgreat_expectations\u001B[39;00m\u001B[38;5;250m \u001B[39m\u001B[38;5;28;01mas\u001B[39;00m\u001B[38;5;250m \u001B[39m\u001B[34;01mgx\u001B[39;00m\n\u001B[32m      3\u001B[39m context = gx.get_context()\n\u001B[32m      5\u001B[39m data_source = context.data_sources.add_sqlite(\u001B[33m\"\u001B[39m\u001B[33msample\u001B[39m\u001B[33m\"\u001B[39m, connection_string=\u001B[33m\"\u001B[39m\u001B[33msqlite:///database.db\u001B[39m\u001B[33m\"\u001B[39m)\n",
      "\u001B[36mFile \u001B[39m\u001B[32m~/PycharmProjects/DataQuality/.venv/lib/python3.12/site-packages/great_expectations/__init__.py:10\u001B[39m\n\u001B[32m      7\u001B[39m \u001B[38;5;28;01mdel\u001B[39;00m _get_versions\n\u001B[32m      9\u001B[39m \u001B[38;5;66;03m# great_expectations.data_context must be imported first or we will have circular dependency issues\u001B[39;00m\n\u001B[32m---> \u001B[39m\u001B[32m10\u001B[39m \u001B[38;5;28;01mimport\u001B[39;00m\u001B[38;5;250m \u001B[39m\u001B[34;01mgreat_expectations\u001B[39;00m\u001B[34;01m.\u001B[39;00m\u001B[34;01mdata_context\u001B[39;00m  \u001B[38;5;66;03m# isort:skip\u001B[39;00m\n\u001B[32m     11\u001B[39m \u001B[38;5;28;01mimport\u001B[39;00m\u001B[38;5;250m \u001B[39m\u001B[34;01mgreat_expectations\u001B[39;00m\u001B[34;01m.\u001B[39;00m\u001B[34;01mcore\u001B[39;00m\n\u001B[32m     13\u001B[39m \u001B[38;5;28;01mfrom\u001B[39;00m\u001B[38;5;250m \u001B[39m\u001B[34;01mgreat_expectations\u001B[39;00m\u001B[34;01m.\u001B[39;00m\u001B[34;01mdata_context\u001B[39;00m\u001B[34;01m.\u001B[39;00m\u001B[34;01mdata_context\u001B[39;00m\u001B[34;01m.\u001B[39;00m\u001B[34;01mcontext_factory\u001B[39;00m\u001B[38;5;250m \u001B[39m\u001B[38;5;28;01mimport\u001B[39;00m get_context\n",
      "\u001B[36mFile \u001B[39m\u001B[32m~/PycharmProjects/DataQuality/.venv/lib/python3.12/site-packages/great_expectations/data_context/__init__.py:1\u001B[39m\n\u001B[32m----> \u001B[39m\u001B[32m1\u001B[39m \u001B[38;5;28;01mfrom\u001B[39;00m\u001B[38;5;250m \u001B[39m\u001B[34;01mgreat_expectations\u001B[39;00m\u001B[34;01m.\u001B[39;00m\u001B[34;01mdata_context\u001B[39;00m\u001B[34;01m.\u001B[39;00m\u001B[34;01mdata_context\u001B[39;00m\u001B[38;5;250m \u001B[39m\u001B[38;5;28;01mimport\u001B[39;00m (\n\u001B[32m      2\u001B[39m     AbstractDataContext,\n\u001B[32m      3\u001B[39m     CloudDataContext,\n\u001B[32m      4\u001B[39m     EphemeralDataContext,\n\u001B[32m      5\u001B[39m     FileDataContext,\n\u001B[32m      6\u001B[39m     get_context,\n\u001B[32m      7\u001B[39m     project_manager,\n\u001B[32m      8\u001B[39m     set_context,\n\u001B[32m      9\u001B[39m )\n",
      "\u001B[36mFile \u001B[39m\u001B[32m~/PycharmProjects/DataQuality/.venv/lib/python3.12/site-packages/great_expectations/data_context/data_context/__init__.py:1\u001B[39m\n\u001B[32m----> \u001B[39m\u001B[32m1\u001B[39m \u001B[38;5;28;01mfrom\u001B[39;00m\u001B[38;5;250m \u001B[39m\u001B[34;01mgreat_expectations\u001B[39;00m\u001B[34;01m.\u001B[39;00m\u001B[34;01mdata_context\u001B[39;00m\u001B[34;01m.\u001B[39;00m\u001B[34;01mdata_context\u001B[39;00m\u001B[34;01m.\u001B[39;00m\u001B[34;01mabstract_data_context\u001B[39;00m\u001B[38;5;250m \u001B[39m\u001B[38;5;28;01mimport\u001B[39;00m (\n\u001B[32m      2\u001B[39m     AbstractDataContext,\n\u001B[32m      3\u001B[39m )\n\u001B[32m      4\u001B[39m \u001B[38;5;28;01mfrom\u001B[39;00m\u001B[38;5;250m \u001B[39m\u001B[34;01mgreat_expectations\u001B[39;00m\u001B[34;01m.\u001B[39;00m\u001B[34;01mdata_context\u001B[39;00m\u001B[34;01m.\u001B[39;00m\u001B[34;01mdata_context\u001B[39;00m\u001B[34;01m.\u001B[39;00m\u001B[34;01mcloud_data_context\u001B[39;00m\u001B[38;5;250m \u001B[39m\u001B[38;5;28;01mimport\u001B[39;00m (\n\u001B[32m      5\u001B[39m     CloudDataContext,\n\u001B[32m      6\u001B[39m )\n\u001B[32m      7\u001B[39m \u001B[38;5;28;01mfrom\u001B[39;00m\u001B[38;5;250m \u001B[39m\u001B[34;01mgreat_expectations\u001B[39;00m\u001B[34;01m.\u001B[39;00m\u001B[34;01mdata_context\u001B[39;00m\u001B[34;01m.\u001B[39;00m\u001B[34;01mdata_context\u001B[39;00m\u001B[34;01m.\u001B[39;00m\u001B[34;01mcontext_factory\u001B[39;00m\u001B[38;5;250m \u001B[39m\u001B[38;5;28;01mimport\u001B[39;00m (\n\u001B[32m      8\u001B[39m     get_context,\n\u001B[32m      9\u001B[39m     project_manager,\n\u001B[32m     10\u001B[39m     set_context,\n\u001B[32m     11\u001B[39m )\n",
      "\u001B[36mFile \u001B[39m\u001B[32m~/PycharmProjects/DataQuality/.venv/lib/python3.12/site-packages/great_expectations/data_context/data_context/abstract_data_context.py:43\u001B[39m\n\u001B[32m     41\u001B[39m \u001B[38;5;28;01mfrom\u001B[39;00m\u001B[38;5;250m \u001B[39m\u001B[34;01mgreat_expectations\u001B[39;00m\u001B[34;01m.\u001B[39;00m\u001B[34;01manalytics\u001B[39;00m\u001B[34;01m.\u001B[39;00m\u001B[34;01mevents\u001B[39;00m\u001B[38;5;250m \u001B[39m\u001B[38;5;28;01mimport\u001B[39;00m DataContextInitializedEvent\n\u001B[32m     42\u001B[39m \u001B[38;5;28;01mfrom\u001B[39;00m\u001B[38;5;250m \u001B[39m\u001B[34;01mgreat_expectations\u001B[39;00m\u001B[34;01m.\u001B[39;00m\u001B[34;01mcompatibility\u001B[39;00m\u001B[34;01m.\u001B[39;00m\u001B[34;01mtyping_extensions\u001B[39;00m\u001B[38;5;250m \u001B[39m\u001B[38;5;28;01mimport\u001B[39;00m override\n\u001B[32m---> \u001B[39m\u001B[32m43\u001B[39m \u001B[38;5;28;01mfrom\u001B[39;00m\u001B[38;5;250m \u001B[39m\u001B[34;01mgreat_expectations\u001B[39;00m\u001B[34;01m.\u001B[39;00m\u001B[34;01mcore\u001B[39;00m\u001B[38;5;250m \u001B[39m\u001B[38;5;28;01mimport\u001B[39;00m ExpectationSuite\n\u001B[32m     44\u001B[39m \u001B[38;5;28;01mfrom\u001B[39;00m\u001B[38;5;250m \u001B[39m\u001B[34;01mgreat_expectations\u001B[39;00m\u001B[34;01m.\u001B[39;00m\u001B[34;01mcore\u001B[39;00m\u001B[34;01m.\u001B[39;00m\u001B[34;01mbatch\u001B[39;00m\u001B[38;5;250m \u001B[39m\u001B[38;5;28;01mimport\u001B[39;00m (\n\u001B[32m     45\u001B[39m     Batch,\n\u001B[32m     46\u001B[39m     BatchRequestBase,\n\u001B[32m     47\u001B[39m     IDDict,\n\u001B[32m     48\u001B[39m     get_batch_request_from_acceptable_arguments,\n\u001B[32m     49\u001B[39m )\n\u001B[32m     50\u001B[39m \u001B[38;5;28;01mfrom\u001B[39;00m\u001B[38;5;250m \u001B[39m\u001B[34;01mgreat_expectations\u001B[39;00m\u001B[34;01m.\u001B[39;00m\u001B[34;01mcore\u001B[39;00m\u001B[34;01m.\u001B[39;00m\u001B[34;01mconfig_peer\u001B[39;00m\u001B[38;5;250m \u001B[39m\u001B[38;5;28;01mimport\u001B[39;00m ConfigPeer\n",
      "\u001B[36mFile \u001B[39m\u001B[32m~/PycharmProjects/DataQuality/.venv/lib/python3.12/site-packages/great_expectations/core/__init__.py:3\u001B[39m\n\u001B[32m      1\u001B[39m \u001B[38;5;28;01mimport\u001B[39;00m\u001B[38;5;250m \u001B[39m\u001B[34;01mlogging\u001B[39;00m\n\u001B[32m----> \u001B[39m\u001B[32m3\u001B[39m \u001B[38;5;28;01mfrom\u001B[39;00m\u001B[38;5;250m \u001B[39m\u001B[34;01m.\u001B[39;00m\u001B[34;01mdomain\u001B[39;00m\u001B[38;5;250m \u001B[39m\u001B[38;5;28;01mimport\u001B[39;00m Domain\n\u001B[32m      4\u001B[39m \u001B[38;5;28;01mfrom\u001B[39;00m\u001B[38;5;250m \u001B[39m\u001B[34;01m.\u001B[39;00m\u001B[34;01mexpectation_suite\u001B[39;00m\u001B[38;5;250m \u001B[39m\u001B[38;5;28;01mimport\u001B[39;00m (\n\u001B[32m      5\u001B[39m     ExpectationSuite,\n\u001B[32m      6\u001B[39m     ExpectationSuiteSchema,\n\u001B[32m      7\u001B[39m     expectationSuiteSchema,\n\u001B[32m      8\u001B[39m )\n\u001B[32m      9\u001B[39m \u001B[38;5;28;01mfrom\u001B[39;00m\u001B[38;5;250m \u001B[39m\u001B[34;01m.\u001B[39;00m\u001B[34;01mexpectation_validation_result\u001B[39;00m\u001B[38;5;250m \u001B[39m\u001B[38;5;28;01mimport\u001B[39;00m (\n\u001B[32m     10\u001B[39m     ExpectationSuiteValidationResult,\n\u001B[32m     11\u001B[39m     ExpectationSuiteValidationResultSchema,\n\u001B[32m   (...)\u001B[39m\u001B[32m     16\u001B[39m     get_metric_kwargs_id,\n\u001B[32m     17\u001B[39m )\n",
      "\u001B[36mFile \u001B[39m\u001B[32m~/PycharmProjects/DataQuality/.venv/lib/python3.12/site-packages/great_expectations/core/domain.py:9\u001B[39m\n\u001B[32m      6\u001B[39m \u001B[38;5;28;01mfrom\u001B[39;00m\u001B[38;5;250m \u001B[39m\u001B[34;01mtyping\u001B[39;00m\u001B[38;5;250m \u001B[39m\u001B[38;5;28;01mimport\u001B[39;00m Any, Dict, Optional, TypeVar, Union\n\u001B[32m      8\u001B[39m \u001B[38;5;28;01mfrom\u001B[39;00m\u001B[38;5;250m \u001B[39m\u001B[34;01mgreat_expectations\u001B[39;00m\u001B[34;01m.\u001B[39;00m\u001B[34;01mcompatibility\u001B[39;00m\u001B[34;01m.\u001B[39;00m\u001B[34;01mtyping_extensions\u001B[39;00m\u001B[38;5;250m \u001B[39m\u001B[38;5;28;01mimport\u001B[39;00m override\n\u001B[32m----> \u001B[39m\u001B[32m9\u001B[39m \u001B[38;5;28;01mfrom\u001B[39;00m\u001B[38;5;250m \u001B[39m\u001B[34;01mgreat_expectations\u001B[39;00m\u001B[34;01m.\u001B[39;00m\u001B[34;01mcore\u001B[39;00m\u001B[34;01m.\u001B[39;00m\u001B[34;01mid_dict\u001B[39;00m\u001B[38;5;250m \u001B[39m\u001B[38;5;28;01mimport\u001B[39;00m IDDict\n\u001B[32m     10\u001B[39m \u001B[38;5;28;01mfrom\u001B[39;00m\u001B[38;5;250m \u001B[39m\u001B[34;01mgreat_expectations\u001B[39;00m\u001B[34;01m.\u001B[39;00m\u001B[34;01mcore\u001B[39;00m\u001B[34;01m.\u001B[39;00m\u001B[34;01mmetric_domain_types\u001B[39;00m\u001B[38;5;250m \u001B[39m\u001B[38;5;28;01mimport\u001B[39;00m MetricDomainTypes\n\u001B[32m     11\u001B[39m \u001B[38;5;28;01mfrom\u001B[39;00m\u001B[38;5;250m \u001B[39m\u001B[34;01mgreat_expectations\u001B[39;00m\u001B[34;01m.\u001B[39;00m\u001B[34;01mtypes\u001B[39;00m\u001B[38;5;250m \u001B[39m\u001B[38;5;28;01mimport\u001B[39;00m SerializableDictDot, SerializableDotDict\n",
      "\u001B[36mFile \u001B[39m\u001B[32m~/PycharmProjects/DataQuality/.venv/lib/python3.12/site-packages/great_expectations/core/id_dict.py:8\u001B[39m\n\u001B[32m      5\u001B[39m \u001B[38;5;28;01mfrom\u001B[39;00m\u001B[38;5;250m \u001B[39m\u001B[34;01mtyping\u001B[39;00m\u001B[38;5;250m \u001B[39m\u001B[38;5;28;01mimport\u001B[39;00m Any, Set, TypeVar, Union\n\u001B[32m      7\u001B[39m \u001B[38;5;28;01mfrom\u001B[39;00m\u001B[38;5;250m \u001B[39m\u001B[34;01mgreat_expectations\u001B[39;00m\u001B[34;01m.\u001B[39;00m\u001B[34;01mcompatibility\u001B[39;00m\u001B[34;01m.\u001B[39;00m\u001B[34;01mtyping_extensions\u001B[39;00m\u001B[38;5;250m \u001B[39m\u001B[38;5;28;01mimport\u001B[39;00m override\n\u001B[32m----> \u001B[39m\u001B[32m8\u001B[39m \u001B[38;5;28;01mfrom\u001B[39;00m\u001B[38;5;250m \u001B[39m\u001B[34;01mgreat_expectations\u001B[39;00m\u001B[34;01m.\u001B[39;00m\u001B[34;01mutil\u001B[39;00m\u001B[38;5;250m \u001B[39m\u001B[38;5;28;01mimport\u001B[39;00m convert_to_json_serializable  \u001B[38;5;66;03m# noqa: TID251 # FIXME CoP\u001B[39;00m\n\u001B[32m     10\u001B[39m T = TypeVar(\u001B[33m\"\u001B[39m\u001B[33mT\u001B[39m\u001B[33m\"\u001B[39m)\n\u001B[32m     13\u001B[39m IDDictID = Union[\u001B[38;5;28mstr\u001B[39m, \u001B[38;5;28mtuple\u001B[39m[()]]\n",
      "\u001B[36mFile \u001B[39m\u001B[32m~/PycharmProjects/DataQuality/.venv/lib/python3.12/site-packages/great_expectations/util.py:43\u001B[39m\n\u001B[32m     26\u001B[39m \u001B[38;5;28;01mfrom\u001B[39;00m\u001B[38;5;250m \u001B[39m\u001B[34;01mtyping\u001B[39;00m\u001B[38;5;250m \u001B[39m\u001B[38;5;28;01mimport\u001B[39;00m (\n\u001B[32m     27\u001B[39m     TYPE_CHECKING,\n\u001B[32m     28\u001B[39m     Any,\n\u001B[32m   (...)\u001B[39m\u001B[32m     39\u001B[39m     overload,\n\u001B[32m     40\u001B[39m )\n\u001B[32m     42\u001B[39m \u001B[38;5;28;01mimport\u001B[39;00m\u001B[38;5;250m \u001B[39m\u001B[34;01mnumpy\u001B[39;00m\u001B[38;5;250m \u001B[39m\u001B[38;5;28;01mas\u001B[39;00m\u001B[38;5;250m \u001B[39m\u001B[34;01mnp\u001B[39;00m\n\u001B[32m---> \u001B[39m\u001B[32m43\u001B[39m \u001B[38;5;28;01mimport\u001B[39;00m\u001B[38;5;250m \u001B[39m\u001B[34;01mpandas\u001B[39;00m\u001B[38;5;250m \u001B[39m\u001B[38;5;28;01mas\u001B[39;00m\u001B[38;5;250m \u001B[39m\u001B[34;01mpd\u001B[39;00m\n\u001B[32m     44\u001B[39m \u001B[38;5;28;01mfrom\u001B[39;00m\u001B[38;5;250m \u001B[39m\u001B[34;01mdateutil\u001B[39;00m\u001B[34;01m.\u001B[39;00m\u001B[34;01mparser\u001B[39;00m\u001B[38;5;250m \u001B[39m\u001B[38;5;28;01mimport\u001B[39;00m parse\n\u001B[32m     45\u001B[39m \u001B[38;5;28;01mfrom\u001B[39;00m\u001B[38;5;250m \u001B[39m\u001B[34;01mpackaging\u001B[39;00m\u001B[38;5;250m \u001B[39m\u001B[38;5;28;01mimport\u001B[39;00m version\n",
      "\u001B[36mFile \u001B[39m\u001B[32m~/PycharmProjects/DataQuality/.venv/lib/python3.12/site-packages/pandas/__init__.py:46\u001B[39m\n\u001B[32m     43\u001B[39m \u001B[38;5;66;03m# let init-time option registration happen\u001B[39;00m\n\u001B[32m     44\u001B[39m \u001B[38;5;28;01mimport\u001B[39;00m\u001B[38;5;250m \u001B[39m\u001B[34;01mpandas\u001B[39;00m\u001B[34;01m.\u001B[39;00m\u001B[34;01mcore\u001B[39;00m\u001B[34;01m.\u001B[39;00m\u001B[34;01mconfig_init\u001B[39;00m  \u001B[38;5;66;03m# pyright: ignore[reportUnusedImport] # noqa: F401\u001B[39;00m\n\u001B[32m---> \u001B[39m\u001B[32m46\u001B[39m \u001B[38;5;28;01mfrom\u001B[39;00m\u001B[38;5;250m \u001B[39m\u001B[34;01mpandas\u001B[39;00m\u001B[34;01m.\u001B[39;00m\u001B[34;01mcore\u001B[39;00m\u001B[34;01m.\u001B[39;00m\u001B[34;01mapi\u001B[39;00m\u001B[38;5;250m \u001B[39m\u001B[38;5;28;01mimport\u001B[39;00m (\n\u001B[32m     47\u001B[39m     \u001B[38;5;66;03m# dtype\u001B[39;00m\n\u001B[32m     48\u001B[39m     ArrowDtype,\n\u001B[32m     49\u001B[39m     Int8Dtype,\n\u001B[32m     50\u001B[39m     Int16Dtype,\n\u001B[32m     51\u001B[39m     Int32Dtype,\n\u001B[32m     52\u001B[39m     Int64Dtype,\n\u001B[32m     53\u001B[39m     UInt8Dtype,\n\u001B[32m     54\u001B[39m     UInt16Dtype,\n\u001B[32m     55\u001B[39m     UInt32Dtype,\n\u001B[32m     56\u001B[39m     UInt64Dtype,\n\u001B[32m     57\u001B[39m     Float32Dtype,\n\u001B[32m     58\u001B[39m     Float64Dtype,\n\u001B[32m     59\u001B[39m     CategoricalDtype,\n\u001B[32m     60\u001B[39m     PeriodDtype,\n\u001B[32m     61\u001B[39m     IntervalDtype,\n\u001B[32m     62\u001B[39m     DatetimeTZDtype,\n\u001B[32m     63\u001B[39m     StringDtype,\n\u001B[32m     64\u001B[39m     BooleanDtype,\n\u001B[32m     65\u001B[39m     \u001B[38;5;66;03m# missing\u001B[39;00m\n\u001B[32m     66\u001B[39m     NA,\n\u001B[32m     67\u001B[39m     isna,\n\u001B[32m     68\u001B[39m     isnull,\n\u001B[32m     69\u001B[39m     notna,\n\u001B[32m     70\u001B[39m     notnull,\n\u001B[32m     71\u001B[39m     \u001B[38;5;66;03m# indexes\u001B[39;00m\n\u001B[32m     72\u001B[39m     Index,\n\u001B[32m     73\u001B[39m     CategoricalIndex,\n\u001B[32m     74\u001B[39m     RangeIndex,\n\u001B[32m     75\u001B[39m     MultiIndex,\n\u001B[32m     76\u001B[39m     IntervalIndex,\n\u001B[32m     77\u001B[39m     TimedeltaIndex,\n\u001B[32m     78\u001B[39m     DatetimeIndex,\n\u001B[32m     79\u001B[39m     PeriodIndex,\n\u001B[32m     80\u001B[39m     IndexSlice,\n\u001B[32m     81\u001B[39m     \u001B[38;5;66;03m# tseries\u001B[39;00m\n\u001B[32m     82\u001B[39m     NaT,\n\u001B[32m     83\u001B[39m     Period,\n\u001B[32m     84\u001B[39m     period_range,\n\u001B[32m     85\u001B[39m     Timedelta,\n\u001B[32m     86\u001B[39m     timedelta_range,\n\u001B[32m     87\u001B[39m     Timestamp,\n\u001B[32m     88\u001B[39m     date_range,\n\u001B[32m     89\u001B[39m     bdate_range,\n\u001B[32m     90\u001B[39m     Interval,\n\u001B[32m     91\u001B[39m     interval_range,\n\u001B[32m     92\u001B[39m     DateOffset,\n\u001B[32m     93\u001B[39m     \u001B[38;5;66;03m# conversion\u001B[39;00m\n\u001B[32m     94\u001B[39m     to_numeric,\n\u001B[32m     95\u001B[39m     to_datetime,\n\u001B[32m     96\u001B[39m     to_timedelta,\n\u001B[32m     97\u001B[39m     \u001B[38;5;66;03m# misc\u001B[39;00m\n\u001B[32m     98\u001B[39m     Flags,\n\u001B[32m     99\u001B[39m     Grouper,\n\u001B[32m    100\u001B[39m     factorize,\n\u001B[32m    101\u001B[39m     unique,\n\u001B[32m    102\u001B[39m     value_counts,\n\u001B[32m    103\u001B[39m     NamedAgg,\n\u001B[32m    104\u001B[39m     array,\n\u001B[32m    105\u001B[39m     Categorical,\n\u001B[32m    106\u001B[39m     set_eng_float_format,\n\u001B[32m    107\u001B[39m     Series,\n\u001B[32m    108\u001B[39m     DataFrame,\n\u001B[32m    109\u001B[39m )\n\u001B[32m    111\u001B[39m \u001B[38;5;28;01mfrom\u001B[39;00m\u001B[38;5;250m \u001B[39m\u001B[34;01mpandas\u001B[39;00m\u001B[34;01m.\u001B[39;00m\u001B[34;01mcore\u001B[39;00m\u001B[34;01m.\u001B[39;00m\u001B[34;01mdtypes\u001B[39;00m\u001B[34;01m.\u001B[39;00m\u001B[34;01mdtypes\u001B[39;00m\u001B[38;5;250m \u001B[39m\u001B[38;5;28;01mimport\u001B[39;00m SparseDtype\n\u001B[32m    113\u001B[39m \u001B[38;5;28;01mfrom\u001B[39;00m\u001B[38;5;250m \u001B[39m\u001B[34;01mpandas\u001B[39;00m\u001B[34;01m.\u001B[39;00m\u001B[34;01mtseries\u001B[39;00m\u001B[34;01m.\u001B[39;00m\u001B[34;01mapi\u001B[39;00m\u001B[38;5;250m \u001B[39m\u001B[38;5;28;01mimport\u001B[39;00m infer_freq\n",
      "\u001B[36mFile \u001B[39m\u001B[32m~/PycharmProjects/DataQuality/.venv/lib/python3.12/site-packages/pandas/core/api.py:1\u001B[39m\n\u001B[32m----> \u001B[39m\u001B[32m1\u001B[39m \u001B[38;5;28;01mfrom\u001B[39;00m\u001B[38;5;250m \u001B[39m\u001B[34;01mpandas\u001B[39;00m\u001B[34;01m.\u001B[39;00m\u001B[34;01m_libs\u001B[39;00m\u001B[38;5;250m \u001B[39m\u001B[38;5;28;01mimport\u001B[39;00m (\n\u001B[32m      2\u001B[39m     NaT,\n\u001B[32m      3\u001B[39m     Period,\n\u001B[32m      4\u001B[39m     Timedelta,\n\u001B[32m      5\u001B[39m     Timestamp,\n\u001B[32m      6\u001B[39m )\n\u001B[32m      7\u001B[39m \u001B[38;5;28;01mfrom\u001B[39;00m\u001B[38;5;250m \u001B[39m\u001B[34;01mpandas\u001B[39;00m\u001B[34;01m.\u001B[39;00m\u001B[34;01m_libs\u001B[39;00m\u001B[34;01m.\u001B[39;00m\u001B[34;01mmissing\u001B[39;00m\u001B[38;5;250m \u001B[39m\u001B[38;5;28;01mimport\u001B[39;00m NA\n\u001B[32m      9\u001B[39m \u001B[38;5;28;01mfrom\u001B[39;00m\u001B[38;5;250m \u001B[39m\u001B[34;01mpandas\u001B[39;00m\u001B[34;01m.\u001B[39;00m\u001B[34;01mcore\u001B[39;00m\u001B[34;01m.\u001B[39;00m\u001B[34;01mdtypes\u001B[39;00m\u001B[34;01m.\u001B[39;00m\u001B[34;01mdtypes\u001B[39;00m\u001B[38;5;250m \u001B[39m\u001B[38;5;28;01mimport\u001B[39;00m (\n\u001B[32m     10\u001B[39m     ArrowDtype,\n\u001B[32m     11\u001B[39m     CategoricalDtype,\n\u001B[32m   (...)\u001B[39m\u001B[32m     14\u001B[39m     PeriodDtype,\n\u001B[32m     15\u001B[39m )\n",
      "\u001B[36mFile \u001B[39m\u001B[32m~/PycharmProjects/DataQuality/.venv/lib/python3.12/site-packages/pandas/_libs/__init__.py:18\u001B[39m\n\u001B[32m     16\u001B[39m \u001B[38;5;28;01mimport\u001B[39;00m\u001B[38;5;250m \u001B[39m\u001B[34;01mpandas\u001B[39;00m\u001B[34;01m.\u001B[39;00m\u001B[34;01m_libs\u001B[39;00m\u001B[34;01m.\u001B[39;00m\u001B[34;01mpandas_parser\u001B[39;00m  \u001B[38;5;66;03m# noqa: E501 # isort: skip # type: ignore[reportUnusedImport]\u001B[39;00m\n\u001B[32m     17\u001B[39m \u001B[38;5;28;01mimport\u001B[39;00m\u001B[38;5;250m \u001B[39m\u001B[34;01mpandas\u001B[39;00m\u001B[34;01m.\u001B[39;00m\u001B[34;01m_libs\u001B[39;00m\u001B[34;01m.\u001B[39;00m\u001B[34;01mpandas_datetime\u001B[39;00m  \u001B[38;5;66;03m# noqa: F401,E501 # isort: skip # type: ignore[reportUnusedImport]\u001B[39;00m\n\u001B[32m---> \u001B[39m\u001B[32m18\u001B[39m \u001B[38;5;28;01mfrom\u001B[39;00m\u001B[38;5;250m \u001B[39m\u001B[34;01mpandas\u001B[39;00m\u001B[34;01m.\u001B[39;00m\u001B[34;01m_libs\u001B[39;00m\u001B[34;01m.\u001B[39;00m\u001B[34;01minterval\u001B[39;00m\u001B[38;5;250m \u001B[39m\u001B[38;5;28;01mimport\u001B[39;00m Interval\n\u001B[32m     19\u001B[39m \u001B[38;5;28;01mfrom\u001B[39;00m\u001B[38;5;250m \u001B[39m\u001B[34;01mpandas\u001B[39;00m\u001B[34;01m.\u001B[39;00m\u001B[34;01m_libs\u001B[39;00m\u001B[34;01m.\u001B[39;00m\u001B[34;01mtslibs\u001B[39;00m\u001B[38;5;250m \u001B[39m\u001B[38;5;28;01mimport\u001B[39;00m (\n\u001B[32m     20\u001B[39m     NaT,\n\u001B[32m     21\u001B[39m     NaTType,\n\u001B[32m   (...)\u001B[39m\u001B[32m     26\u001B[39m     iNaT,\n\u001B[32m     27\u001B[39m )\n",
      "\u001B[36mFile \u001B[39m\u001B[32minterval.pyx:1\u001B[39m, in \u001B[36minit pandas._libs.interval\u001B[39m\u001B[34m()\u001B[39m\n",
      "\u001B[31mValueError\u001B[39m: numpy.dtype size changed, may indicate binary incompatibility. Expected 96 from C header, got 88 from PyObject"
     ]
    }
   ],
   "source": [
    "import great_expectations as gx\n",
    "\n",
    "context = gx.get_context()\n",
    "\n",
    "data_source = context.data_sources.add_sqlite(\"sample\", connection_string=\"sqlite:///database.db\")"
   ]
  },
  {
   "cell_type": "code",
   "execution_count": null,
   "metadata": {},
   "outputs": [],
   "source": [
    "asset_name = \"users\"\n",
    "database_table_name = \"users\"\n",
    "table_data_asset = data_source.add_table_asset(\n",
    "    table_name=database_table_name, name=asset_name\n",
    ")"
   ]
  },
  {
   "cell_type": "code",
   "execution_count": null,
   "metadata": {},
   "outputs": [],
   "source": [
    "full_table_batch_definition = table_data_asset.add_batch_definition_whole_table(\n",
    "    name=\"users_full_table\",\n",
    ")"
   ]
  },
  {
   "cell_type": "code",
   "execution_count": null,
   "metadata": {},
   "outputs": [
    {
     "data": {
      "application/vnd.jupyter.widget-view+json": {
       "model_id": "3ccb183b77cc479e8619cd662c4547b2",
       "version_major": 2,
       "version_minor": 0
      },
      "text/plain": [
       "Calculating Metrics:   0%|          | 0/1 [00:00<?, ?it/s]"
      ]
     },
     "metadata": {},
     "output_type": "display_data"
    },
    {
     "data": {
      "text/plain": [
       "   id username                email           created_at\n",
       "0   1  initial  initial@example.com  2025-03-31 09:59:35\n",
       "1   2    admin    admin@example.com  2025-03-31 11:11:17\n",
       "2   3    user1    user1@example.com  2025-03-31 11:11:17\n",
       "3   4    user2    user2@example.com  2025-03-31 11:11:17"
      ]
     },
     "execution_count": 5,
     "metadata": {},
     "output_type": "execute_result"
    }
   ],
   "source": [
    "full_table_batch = full_table_batch_definition.get_batch()\n",
    "full_table_batch.head()\n"
   ]
  },
  {
   "cell_type": "code",
   "execution_count": null,
   "metadata": {},
   "outputs": [
    {
     "data": {
      "application/vnd.jupyter.widget-view+json": {
       "model_id": "a8f93fb5f94d48cfb2fa28589dd314d3",
       "version_major": 2,
       "version_minor": 0
      },
      "text/plain": [
       "Calculating Metrics:   0%|          | 0/13 [00:00<?, ?it/s]"
      ]
     },
     "metadata": {},
     "output_type": "display_data"
    }
   ],
   "source": [
    "preset_expectation = gx.expectations.ExpectColumnValuesToMatchRegex(\n",
    "    column=\"username\", regex=\"user.*\"\n",
    ")\n",
    "validation_results = full_table_batch.validate(preset_expectation, result_format=\"COMPLETE\")"
   ]
  },
  {
   "cell_type": "code",
   "execution_count": null,
   "metadata": {},
   "outputs": [],
   "source": [
    "assert ['admin', 'initial'] == validation_results.get(\"result\").get(\"unexpected_list\")"
   ]
  },
  {
   "cell_type": "markdown",
   "metadata": {},
   "source": [
    "## Database Interactions\n"
   ]
  },
  {
   "cell_type": "code",
   "metadata": {
    "ExecuteTime": {
     "end_time": "2025-03-31T20:32:22.308322Z",
     "start_time": "2025-03-31T20:32:22.300337Z"
    }
   },
   "source": [
    "import database"
   ],
   "outputs": [],
   "execution_count": 1
  },
  {
   "cell_type": "code",
   "metadata": {
    "ExecuteTime": {
     "end_time": "2025-03-31T20:34:27.012465Z",
     "start_time": "2025-03-31T20:34:26.975190Z"
    }
   },
   "source": [
    "database.init()"
   ],
   "outputs": [
    {
     "name": "stdout",
     "output_type": "stream",
     "text": [
      "Database reset completed\n",
      "Initializing database to step 0: 0_spring_2011\n",
      "Migration 0_create_table.sql from 0_spring_2011 - Successfully applied\n",
      "Migration 1_bike_rental_2011_spring.sql from 0_spring_2011 - Successfully applied\n"
     ]
    },
    {
     "data": {
      "text/plain": [
       "True"
      ]
     },
     "execution_count": 6,
     "metadata": {},
     "output_type": "execute_result"
    }
   ],
   "execution_count": 6
  },
  {
   "cell_type": "code",
   "metadata": {
    "ExecuteTime": {
     "end_time": "2025-03-31T20:32:54.067087Z",
     "start_time": "2025-03-31T20:32:54.059412Z"
    }
   },
   "source": [
    "database.status()"
   ],
   "outputs": [
    {
     "name": "stdout",
     "output_type": "stream",
     "text": [
      "Applied migrations: 2\n",
      "Directory 0_spring_2011: 2/2 files applied\n",
      "Directory 1_summer_2011: 0/1 files applied\n",
      "Directory 2_fall_2011: 0/1 files applied\n",
      "Directory 3_winter_2011: 0/1 files applied\n",
      "Directory 4_full_2012: 0/4 files applied\n"
     ]
    },
    {
     "data": {
      "text/plain": [
       "{'total_applied': 2,\n",
       " 'directories': {'0_spring_2011': {'applied': 2, 'total': 2},\n",
       "  '1_summer_2011': {'applied': 0, 'total': 1},\n",
       "  '2_fall_2011': {'applied': 0, 'total': 1},\n",
       "  '3_winter_2011': {'applied': 0, 'total': 1},\n",
       "  '4_full_2012': {'applied': 0, 'total': 4}}}"
      ]
     },
     "execution_count": 3,
     "metadata": {},
     "output_type": "execute_result"
    }
   ],
   "execution_count": 3
  },
  {
   "cell_type": "code",
   "metadata": {
    "ExecuteTime": {
     "end_time": "2025-03-31T20:34:57.090626Z",
     "start_time": "2025-03-31T20:34:57.021690Z"
    }
   },
   "source": [
    "database.set(3)"
   ],
   "outputs": [
    {
     "name": "stdout",
     "output_type": "stream",
     "text": [
      "Processing directory: 0_spring_2011\n",
      "Skipping 0_create_table.sql (already applied)\n",
      "Skipping 1_bike_rental_2011_spring.sql (already applied)\n",
      "Processing directory: 1_summer_2011\n",
      "Migration 0_bike_rental_2011_summer.sql from 1_summer_2011 - Successfully applied\n",
      "Processing directory: 2_fall_2011\n",
      "Migration 0_bike_rental_2011_fall.sql from 2_fall_2011 - Successfully applied\n",
      "Processing directory: 3_winter_2011\n",
      "Migration 0_bike_rental_2011_winter.sql from 3_winter_2011 - Successfully applied\n"
     ]
    },
    {
     "data": {
      "text/plain": [
       "True"
      ]
     },
     "execution_count": 7,
     "metadata": {},
     "output_type": "execute_result"
    }
   ],
   "execution_count": 7
  },
  {
   "cell_type": "code",
   "metadata": {
    "ExecuteTime": {
     "end_time": "2025-03-31T20:34:21.391659Z",
     "start_time": "2025-03-31T20:34:21.377495Z"
    }
   },
   "source": [
    "database.status()"
   ],
   "outputs": [
    {
     "name": "stdout",
     "output_type": "stream",
     "text": [
      "Applied migrations: 5\n",
      "Directory 0_spring_2011: 2/2 files applied\n",
      "Directory 1_summer_2011: 1/1 files applied\n",
      "Directory 2_fall_2011: 1/1 files applied\n",
      "Directory 3_winter_2011: 1/1 files applied\n",
      "Directory 4_full_2012: 0/4 files applied\n"
     ]
    },
    {
     "data": {
      "text/plain": [
       "{'total_applied': 5,\n",
       " 'directories': {'0_spring_2011': {'applied': 2, 'total': 2},\n",
       "  '1_summer_2011': {'applied': 1, 'total': 1},\n",
       "  '2_fall_2011': {'applied': 1, 'total': 1},\n",
       "  '3_winter_2011': {'applied': 1, 'total': 1},\n",
       "  '4_full_2012': {'applied': 0, 'total': 4}}}"
      ]
     },
     "execution_count": 5,
     "metadata": {},
     "output_type": "execute_result"
    }
   ],
   "execution_count": 5
  },
  {
   "metadata": {
    "ExecuteTime": {
     "end_time": "2025-03-31T20:36:37.764895Z",
     "start_time": "2025-03-31T20:36:37.754843Z"
    }
   },
   "cell_type": "code",
   "source": "database.set(3)",
   "outputs": [
    {
     "name": "stdout",
     "output_type": "stream",
     "text": [
      "Processing directory: 0_spring_2011\n",
      "Skipping 0_create_table.sql (already applied)\n",
      "Skipping 1_bike_rental_2011_spring.sql (already applied)\n",
      "Processing directory: 1_summer_2011\n",
      "Skipping 0_bike_rental_2011_summer.sql (already applied)\n",
      "Processing directory: 2_fall_2011\n",
      "Skipping 0_bike_rental_2011_fall.sql (already applied)\n",
      "Processing directory: 3_winter_2011\n",
      "Skipping 0_bike_rental_2011_winter.sql (already applied)\n"
     ]
    },
    {
     "data": {
      "text/plain": [
       "True"
      ]
     },
     "execution_count": 10,
     "metadata": {},
     "output_type": "execute_result"
    }
   ],
   "execution_count": 10
  }
 ],
 "metadata": {
  "kernelspec": {
   "display_name": ".venv",
   "language": "python",
   "name": "python3"
  },
  "language_info": {
   "codemirror_mode": {
    "name": "ipython",
    "version": 3
   },
   "file_extension": ".py",
   "mimetype": "text/x-python",
   "name": "python",
   "nbconvert_exporter": "python",
   "pygments_lexer": "ipython3",
   "version": "3.12.7"
  }
 },
 "nbformat": 4,
 "nbformat_minor": 2
}
