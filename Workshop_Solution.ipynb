{
 "cells": [
  {
   "cell_type": "markdown",
   "metadata": {},
   "source": [
    "**Set the kernel to \"Workshop Environment\" from the Jupyter Kernels.**"
   ]
  },
  {
   "cell_type": "markdown",
   "metadata": {},
   "source": [
    "# Data Quality Testing with Great Expectations\n",
    "\n",
    "## Introduction\n",
    "Data quality is the foundation of reliable analytics. Poor data leads to flawed insights and decisions. This workshop explores data quality testing using the powerful Great Expectations library.\n",
    "\n",
    "## Why Data Quality Matters\n",
    "- **Trust**: Quality data builds confidence in results\n",
    "- **Efficiency**: Early detection prevents downstream issues \n",
    "- **Consistency**: Ensures reliable model performance\n",
    "- **Governance**: Meets regulatory requirements\n",
    "\n",
    "## Our Approach\n",
    "Using the \"Bike Sharing\" dataset from UCI, we'll learn how to:\n",
    "- Define expectations about your data\n",
    "- Validate these expectations systematically\n",
    "- Document and report quality issues\n",
    "- Integrate quality checks into pipelines\n",
    "\n",
    "## Task 1: Explore the Dataset\n",
    "Let's begin by exploring the Bike Sharing dataset. Download the data, load it into a dataframe, and perform initial exploratory analysis to understand its structure and contents."
   ]
  },
  {
   "cell_type": "code",
   "execution_count": 1,
   "metadata": {},
   "outputs": [
    {
     "name": "stderr",
     "output_type": "stream",
     "text": [
      "metric column.standard_deviation.aggregate_fn is being registered with different metric_provider; overwriting metric_provider\n"
     ]
    }
   ],
   "source": [
    "# Import necessary libraries for data processing and quality testing\n",
    "# - great_expectations: Our primary tool for data quality validation\n",
    "# - sqlite3: To connect with our SQLite database\n",
    "# - pandas: For data manipulation and analysis\n",
    "import great_expectations as gx\n",
    "import sqlite3\n",
    "import pandas as pd\n",
    "\n",
    "from utils import database\n",
    "from utils.checker import check"
   ]
  },
  {
   "cell_type": "code",
   "execution_count": 2,
   "metadata": {},
   "outputs": [
    {
     "name": "stderr",
     "output_type": "stream",
     "text": [
      "\u001b[32m2025-04-10 11:13:03.772\u001b[0m | \u001b[1mINFO    \u001b[0m | \u001b[36mutils.database\u001b[0m:\u001b[36mreset_database\u001b[0m:\u001b[36m54\u001b[0m - \u001b[1mDatabase reset completed\u001b[0m\n",
      "\u001b[32m2025-04-10 11:13:03.773\u001b[0m | \u001b[1mINFO    \u001b[0m | \u001b[36mutils.database\u001b[0m:\u001b[36minit\u001b[0m:\u001b[36m142\u001b[0m - \u001b[1mInitializing database to step 0: 0_spring_2011\u001b[0m\n",
      "\u001b[32m2025-04-10 11:13:03.776\u001b[0m | \u001b[1mINFO    \u001b[0m | \u001b[36mutils.database\u001b[0m:\u001b[36mapply_migration\u001b[0m:\u001b[36m88\u001b[0m - \u001b[1mMigration 0_create_table.sql from 0_spring_2011 - Successfully applied\u001b[0m\n",
      "\u001b[32m2025-04-10 11:13:03.792\u001b[0m | \u001b[1mINFO    \u001b[0m | \u001b[36mutils.database\u001b[0m:\u001b[36mapply_migration\u001b[0m:\u001b[36m88\u001b[0m - \u001b[1mMigration 1_bike_rental_2011_spring.sql from 0_spring_2011 - Successfully applied\u001b[0m\n"
     ]
    }
   ],
   "source": [
    "# Initialize the database with our bike sharing dataset\n",
    "# This sets up a SQLite database with the necessary tables and imports the data\n",
    "database.init()\n",
    "\n",
    "# Create a connection to our database for querying\n",
    "conn = sqlite3.connect(\"database.db\")"
   ]
  },
  {
   "cell_type": "code",
   "execution_count": 3,
   "metadata": {},
   "outputs": [],
   "source": [
    "# Set up Great Expectations context\n",
    "# This creates the environment where we define and validate expectations\n",
    "context = gx.get_context()\n",
    "\n",
    "# Add our SQLite database as a data source for Great Expectations\n",
    "# This allows us to test data directly from the database\n",
    "data_source = context.data_sources.add_sqlite(\n",
    "    \"sample\", connection_string=\"sqlite:///database.db\"\n",
    ")"
   ]
  },
  {
   "cell_type": "code",
   "execution_count": 4,
   "metadata": {},
   "outputs": [],
   "source": [
    "# Define the data asset we want to validate\n",
    "# An asset in Great Expectations represents a table or query result that we want to test\n",
    "asset_name = \"bike_rental\"\n",
    "database_table_name = \"bike_rental\"\n",
    "table_data_asset = data_source.add_table_asset(\n",
    "    table_name=database_table_name, name=asset_name\n",
    ")\n",
    "\n",
    "# Create a batch definition that specifies which data we want to validate\n",
    "# Here we're selecting the entire table for our first season (spring 2011)\n",
    "full_table_batch_definition = table_data_asset.add_batch_definition_whole_table(\n",
    "    name=\"0_spring_2011\",\n",
    ")"
   ]
  },
  {
   "cell_type": "code",
   "execution_count": 5,
   "metadata": {},
   "outputs": [
    {
     "data": {
      "application/vnd.jupyter.widget-view+json": {
       "model_id": "9b7efc2ff15949d690ad0a719e2962fd",
       "version_major": 2,
       "version_minor": 0
      },
      "text/plain": [
       "Calculating Metrics:   0%|          | 0/1 [00:00<?, ?it/s]"
      ]
     },
     "metadata": {},
     "output_type": "display_data"
    },
    {
     "data": {
      "text/html": [
       "<div>\n",
       "<style scoped>\n",
       "    .dataframe tbody tr th:only-of-type {\n",
       "        vertical-align: middle;\n",
       "    }\n",
       "\n",
       "    .dataframe tbody tr th {\n",
       "        vertical-align: top;\n",
       "    }\n",
       "\n",
       "    .dataframe thead th {\n",
       "        text-align: right;\n",
       "    }\n",
       "</style>\n",
       "<table border=\"1\" class=\"dataframe\">\n",
       "  <thead>\n",
       "    <tr style=\"text-align: right;\">\n",
       "      <th></th>\n",
       "      <th>season</th>\n",
       "      <th>weekday</th>\n",
       "      <th>temp</th>\n",
       "      <th>casual</th>\n",
       "      <th>registered</th>\n",
       "      <th>total</th>\n",
       "    </tr>\n",
       "  </thead>\n",
       "  <tbody>\n",
       "    <tr>\n",
       "      <th>0</th>\n",
       "      <td>Spring</td>\n",
       "      <td>Monday</td>\n",
       "      <td>7.98</td>\n",
       "      <td>2</td>\n",
       "      <td>11</td>\n",
       "      <td>13</td>\n",
       "    </tr>\n",
       "    <tr>\n",
       "      <th>1</th>\n",
       "      <td>Spring</td>\n",
       "      <td>Monday</td>\n",
       "      <td>7.98</td>\n",
       "      <td>1</td>\n",
       "      <td>6</td>\n",
       "      <td>7</td>\n",
       "    </tr>\n",
       "    <tr>\n",
       "      <th>2</th>\n",
       "      <td>Spring</td>\n",
       "      <td>Monday</td>\n",
       "      <td>7.98</td>\n",
       "      <td>1</td>\n",
       "      <td>5</td>\n",
       "      <td>6</td>\n",
       "    </tr>\n",
       "    <tr>\n",
       "      <th>3</th>\n",
       "      <td>Spring</td>\n",
       "      <td>Monday</td>\n",
       "      <td>7.98</td>\n",
       "      <td>0</td>\n",
       "      <td>1</td>\n",
       "      <td>1</td>\n",
       "    </tr>\n",
       "    <tr>\n",
       "      <th>4</th>\n",
       "      <td>Spring</td>\n",
       "      <td>Monday</td>\n",
       "      <td>7.04</td>\n",
       "      <td>1</td>\n",
       "      <td>1</td>\n",
       "      <td>2</td>\n",
       "    </tr>\n",
       "  </tbody>\n",
       "</table>\n",
       "</div>"
      ],
      "text/plain": [
       "   season weekday  temp casual registered total\n",
       "0  Spring  Monday  7.98      2         11    13\n",
       "1  Spring  Monday  7.98      1          6     7\n",
       "2  Spring  Monday  7.98      1          5     6\n",
       "3  Spring  Monday  7.98      0          1     1\n",
       "4  Spring  Monday  7.04      1          1     2"
      ]
     },
     "execution_count": 5,
     "metadata": {},
     "output_type": "execute_result"
    }
   ],
   "source": [
    "# Load the data into a batch and display the first few rows\n",
    "# This gives us our first look at the structure and content of the dataset\n",
    "full_table_batch = full_table_batch_definition.get_batch()\n",
    "\n",
    "full_table_batch.head().data.loc[\n",
    "    :, [\"season\", \"weekday\", \"temp\", \"casual\", \"registered\", \"total\"]\n",
    "]"
   ]
  },
  {
   "cell_type": "code",
   "execution_count": 6,
   "metadata": {},
   "outputs": [
    {
     "data": {
      "text/html": [
       "<div>\n",
       "<style scoped>\n",
       "    .dataframe tbody tr th:only-of-type {\n",
       "        vertical-align: middle;\n",
       "    }\n",
       "\n",
       "    .dataframe tbody tr th {\n",
       "        vertical-align: top;\n",
       "    }\n",
       "\n",
       "    .dataframe thead th {\n",
       "        text-align: right;\n",
       "    }\n",
       "</style>\n",
       "<table border=\"1\" class=\"dataframe\">\n",
       "  <thead>\n",
       "    <tr style=\"text-align: right;\">\n",
       "      <th></th>\n",
       "      <th>season</th>\n",
       "      <th>weekday</th>\n",
       "      <th>temp</th>\n",
       "      <th>casual</th>\n",
       "      <th>registered</th>\n",
       "      <th>total</th>\n",
       "    </tr>\n",
       "  </thead>\n",
       "  <tbody>\n",
       "    <tr>\n",
       "      <th>0</th>\n",
       "      <td>Spring</td>\n",
       "      <td>Monday</td>\n",
       "      <td>7.98</td>\n",
       "      <td>2</td>\n",
       "      <td>11</td>\n",
       "      <td>13</td>\n",
       "    </tr>\n",
       "    <tr>\n",
       "      <th>1</th>\n",
       "      <td>Spring</td>\n",
       "      <td>Monday</td>\n",
       "      <td>7.04</td>\n",
       "      <td>2</td>\n",
       "      <td>30</td>\n",
       "      <td>32</td>\n",
       "    </tr>\n",
       "    <tr>\n",
       "      <th>2</th>\n",
       "      <td>Spring</td>\n",
       "      <td>Tuesday</td>\n",
       "      <td>10.80</td>\n",
       "      <td>2</td>\n",
       "      <td>58</td>\n",
       "      <td>60</td>\n",
       "    </tr>\n",
       "    <tr>\n",
       "      <th>3</th>\n",
       "      <td>Spring</td>\n",
       "      <td>Wednesday</td>\n",
       "      <td>7.04</td>\n",
       "      <td>2</td>\n",
       "      <td>24</td>\n",
       "      <td>26</td>\n",
       "    </tr>\n",
       "    <tr>\n",
       "      <th>4</th>\n",
       "      <td>Spring</td>\n",
       "      <td>Thursday</td>\n",
       "      <td>4.22</td>\n",
       "      <td>2</td>\n",
       "      <td>106</td>\n",
       "      <td>108</td>\n",
       "    </tr>\n",
       "    <tr>\n",
       "      <th>...</th>\n",
       "      <td>...</td>\n",
       "      <td>...</td>\n",
       "      <td>...</td>\n",
       "      <td>...</td>\n",
       "      <td>...</td>\n",
       "      <td>...</td>\n",
       "    </tr>\n",
       "    <tr>\n",
       "      <th>81</th>\n",
       "      <td>Spring</td>\n",
       "      <td>Monday</td>\n",
       "      <td>17.38</td>\n",
       "      <td>2</td>\n",
       "      <td>27</td>\n",
       "      <td>29</td>\n",
       "    </tr>\n",
       "    <tr>\n",
       "      <th>82</th>\n",
       "      <td>Spring</td>\n",
       "      <td>Tuesday</td>\n",
       "      <td>20.20</td>\n",
       "      <td>2</td>\n",
       "      <td>8</td>\n",
       "      <td>10</td>\n",
       "    </tr>\n",
       "    <tr>\n",
       "      <th>83</th>\n",
       "      <td>Spring</td>\n",
       "      <td>Thursday</td>\n",
       "      <td>20.20</td>\n",
       "      <td>2</td>\n",
       "      <td>14</td>\n",
       "      <td>16</td>\n",
       "    </tr>\n",
       "    <tr>\n",
       "      <th>84</th>\n",
       "      <td>Spring</td>\n",
       "      <td>Friday</td>\n",
       "      <td>18.32</td>\n",
       "      <td>2</td>\n",
       "      <td>11</td>\n",
       "      <td>13</td>\n",
       "    </tr>\n",
       "    <tr>\n",
       "      <th>85</th>\n",
       "      <td>Spring</td>\n",
       "      <td>Monday</td>\n",
       "      <td>22.08</td>\n",
       "      <td>2</td>\n",
       "      <td>0</td>\n",
       "      <td>2</td>\n",
       "    </tr>\n",
       "  </tbody>\n",
       "</table>\n",
       "<p>86 rows × 6 columns</p>\n",
       "</div>"
      ],
      "text/plain": [
       "    season    weekday   temp casual registered total\n",
       "0   Spring     Monday   7.98      2         11    13\n",
       "1   Spring     Monday   7.04      2         30    32\n",
       "2   Spring    Tuesday  10.80      2         58    60\n",
       "3   Spring  Wednesday   7.04      2         24    26\n",
       "4   Spring   Thursday   4.22      2        106   108\n",
       "..     ...        ...    ...    ...        ...   ...\n",
       "81  Spring     Monday  17.38      2         27    29\n",
       "82  Spring    Tuesday  20.20      2          8    10\n",
       "83  Spring   Thursday  20.20      2         14    16\n",
       "84  Spring     Friday  18.32      2         11    13\n",
       "85  Spring     Monday  22.08      2          0     2\n",
       "\n",
       "[86 rows x 6 columns]"
      ]
     },
     "execution_count": 6,
     "metadata": {},
     "output_type": "execute_result"
    }
   ],
   "source": [
    "# Query the database directly to investigate potential data quality issues\n",
    "# Here we're looking for records where the 'casual' rider count equals 2\n",
    "# This helps us understand the distribution of this variable\n",
    "query = \"\"\"\n",
    "SELECT season, weekday, temp, casual, registered, total\n",
    "FROM bike_rental\n",
    "WHERE casual = 2\n",
    "\"\"\"\n",
    "\n",
    "pd.read_sql_query(query, conn)"
   ]
  },
  {
   "cell_type": "markdown",
   "metadata": {},
   "source": [
    "# Task 2: Set Expectations for the Spring Data\n",
    "\n",
    "Now that you've explored the dataset, it's time to define your first expectations - the rules that your data should follow to be considered high quality.\n",
    "\n",
    "## Basic Expectations Examples\n",
    "\n",
    "Great Expectations provides various expectation types to validate different aspects of your data. Check out all available expectation in the gallery. https://greatexpectations.io/expectations/\n",
    "\n",
    "1. **Column Existence**\n",
    "   ```python\n",
    "   # Check that specific columns exist in your dataset\n",
    "   expect_column_to_exist(column=\"temp\")\n",
    "\n",
    "2. **Set Membership**\n",
    "   ```python\n",
    "   # Confirm categorical variables contain only allowed values\n",
    "   expect_column_values_to_be_in_set(\n",
    "       column=\"weathersit\", \n",
    "       value_set=[1, 2, 3, 4]  # 1:Clear, 2:Cloudy, 3:Light Rain, 4:Heavy Rain\n",
    "   )\n",
    "   ```\n"
   ]
  },
  {
   "cell_type": "code",
   "execution_count": 7,
   "metadata": {},
   "outputs": [
    {
     "data": {
      "application/vnd.jupyter.widget-view+json": {
       "model_id": "6da7a9e7fcaf4fff82f101bda5b9cc64",
       "version_major": 2,
       "version_minor": 0
      },
      "text/plain": [
       "Calculating Metrics:   0%|          | 0/2 [00:00<?, ?it/s]"
      ]
     },
     "metadata": {},
     "output_type": "display_data"
    },
    {
     "name": "stderr",
     "output_type": "stream",
     "text": [
      "\u001b[32m2025-04-10 11:13:03.884\u001b[0m | \u001b[32m\u001b[1mSUCCESS \u001b[0m | \u001b[36mutils.checker\u001b[0m:\u001b[36mcheck\u001b[0m:\u001b[36m24\u001b[0m - \u001b[32m\u001b[1mGreat job! The result is as expected.\u001b[0m\n"
     ]
    }
   ],
   "source": [
    "# Task 1: Check if the 'season' column exists in the dataset\n",
    "# This is a fundamental check to ensure that our data has the expected structure\n",
    "\n",
    "### SOLUTION_START ###\n",
    "expectation = gx.expectations.ExpectColumnToExist(\n",
    "    column=\"season\",\n",
    ")\n",
    "### SOLUTION_END ###\n",
    "\n",
    "result = full_table_batch.validate(expectation, result_format=\"COMPLETE\")\n",
    "check(task=1, result=result)"
   ]
  },
  {
   "cell_type": "code",
   "execution_count": 8,
   "metadata": {},
   "outputs": [
    {
     "data": {
      "text/plain": [
       "{\n",
       "  \"success\": true,\n",
       "  \"expectation_config\": {\n",
       "    \"type\": \"expect_column_to_exist\",\n",
       "    \"kwargs\": {\n",
       "      \"batch_id\": \"sample-bike_rental\",\n",
       "      \"column\": \"season\"\n",
       "    },\n",
       "    \"meta\": {}\n",
       "  },\n",
       "  \"result\": {},\n",
       "  \"meta\": {},\n",
       "  \"exception_info\": {\n",
       "    \"raised_exception\": false,\n",
       "    \"exception_traceback\": null,\n",
       "    \"exception_message\": null\n",
       "  }\n",
       "}"
      ]
     },
     "execution_count": 8,
     "metadata": {},
     "output_type": "execute_result"
    }
   ],
   "source": [
    "result"
   ]
  },
  {
   "cell_type": "code",
   "execution_count": 9,
   "metadata": {},
   "outputs": [],
   "source": [
    "# TODO: make them set one expectation for another datatype themselves"
   ]
  },
  {
   "cell_type": "code",
   "execution_count": 10,
   "metadata": {},
   "outputs": [],
   "source": [
    "# TODO: add expectations of maximum bike rentals according to the max today + 50 or so"
   ]
  },
  {
   "cell_type": "code",
   "execution_count": 11,
   "metadata": {},
   "outputs": [],
   "source": [
    "# TODO: set expectation for correlation of rising temperatures to rising bike rentals"
   ]
  },
  {
   "cell_type": "code",
   "execution_count": 12,
   "metadata": {},
   "outputs": [],
   "source": [
    "# TODO: check the expectations"
   ]
  },
  {
   "cell_type": "markdown",
   "metadata": {},
   "source": [
    "But, you didn't come to this Workshop just to see a fancy way of doing exactly the same as your basic unit test is doing, so let's get into more complex stuff"
   ]
  },
  {
   "cell_type": "markdown",
   "metadata": {},
   "source": [
    "# Task 3: Adjust and Set New Expectations for the Summer Data"
   ]
  },
  {
   "cell_type": "code",
   "execution_count": 13,
   "metadata": {},
   "outputs": [],
   "source": [
    "# TODO: load the summer dataset"
   ]
  },
  {
   "cell_type": "code",
   "execution_count": 14,
   "metadata": {},
   "outputs": [],
   "source": [
    "# TODO: run the expectations for that new dataset and look at the output"
   ]
  },
  {
   "cell_type": "markdown",
   "metadata": {},
   "source": [
    "## Excursion: Data Docs"
   ]
  },
  {
   "cell_type": "code",
   "execution_count": 15,
   "metadata": {},
   "outputs": [],
   "source": [
    "# TODO: explain data docs and how it works"
   ]
  },
  {
   "cell_type": "code",
   "execution_count": 16,
   "metadata": {},
   "outputs": [],
   "source": [
    "# TODO: generate the data docs"
   ]
  },
  {
   "cell_type": "code",
   "execution_count": 17,
   "metadata": {},
   "outputs": [],
   "source": [
    "# TODO: look at the data docs"
   ]
  },
  {
   "cell_type": "markdown",
   "metadata": {},
   "source": [
    "## Back To Business"
   ]
  },
  {
   "cell_type": "code",
   "execution_count": 18,
   "metadata": {},
   "outputs": [],
   "source": [
    "# TODO: refine the expectations"
   ]
  },
  {
   "cell_type": "code",
   "execution_count": 19,
   "metadata": {},
   "outputs": [],
   "source": [
    "# TODO: add more complex expectations (give them a list of suggestions again)"
   ]
  },
  {
   "cell_type": "code",
   "execution_count": 20,
   "metadata": {},
   "outputs": [],
   "source": [
    "# TODO: add a fun expectation, that expects bike rentals to rise, because they have risen before"
   ]
  },
  {
   "cell_type": "code",
   "execution_count": 21,
   "metadata": {},
   "outputs": [],
   "source": [
    "# TODO: check the expectations"
   ]
  },
  {
   "cell_type": "markdown",
   "metadata": {},
   "source": [
    "# Task 4: Adjust for Autumn "
   ]
  },
  {
   "cell_type": "code",
   "execution_count": 22,
   "metadata": {},
   "outputs": [],
   "source": [
    "# TODO: load new dataset"
   ]
  },
  {
   "cell_type": "code",
   "execution_count": 23,
   "metadata": {},
   "outputs": [],
   "source": [
    "# TODO: check the expectations"
   ]
  },
  {
   "cell_type": "code",
   "execution_count": 24,
   "metadata": {},
   "outputs": [],
   "source": [
    "# TODO: fix what needs fixing"
   ]
  },
  {
   "cell_type": "code",
   "execution_count": 25,
   "metadata": {},
   "outputs": [],
   "source": [
    "# TODO: Maybe add something even more complex?"
   ]
  },
  {
   "cell_type": "code",
   "execution_count": 26,
   "metadata": {},
   "outputs": [],
   "source": [
    "# TODO: Recheck the Expectations"
   ]
  },
  {
   "cell_type": "markdown",
   "metadata": {},
   "source": [
    "# Task 5: Check with Winter and set final expectations\n",
    "You can check out all kinds of expectations here: https://greatexpectations.io/expectations/"
   ]
  },
  {
   "cell_type": "code",
   "execution_count": 27,
   "metadata": {},
   "outputs": [],
   "source": [
    "# TODO: load new dataset"
   ]
  },
  {
   "cell_type": "code",
   "execution_count": 28,
   "metadata": {},
   "outputs": [],
   "source": [
    "# TODO: check the expectations"
   ]
  },
  {
   "cell_type": "code",
   "execution_count": 29,
   "metadata": {},
   "outputs": [],
   "source": [
    "# TODO: fix what needs fixing"
   ]
  },
  {
   "cell_type": "code",
   "execution_count": 30,
   "metadata": {},
   "outputs": [],
   "source": [
    "# TODO: Maybe add something even more complex?"
   ]
  },
  {
   "cell_type": "code",
   "execution_count": 31,
   "metadata": {},
   "outputs": [],
   "source": [
    "# TODO: Recheck the Expectations"
   ]
  },
  {
   "cell_type": "markdown",
   "metadata": {},
   "source": [
    "# Task 6: Verify your data and see if something shifts the next year"
   ]
  },
  {
   "cell_type": "code",
   "execution_count": 32,
   "metadata": {},
   "outputs": [],
   "source": [
    "# TODO: load new dataset"
   ]
  },
  {
   "cell_type": "code",
   "execution_count": 33,
   "metadata": {},
   "outputs": [],
   "source": [
    "# TODO: check the expectations"
   ]
  },
  {
   "cell_type": "markdown",
   "metadata": {},
   "source": [
    "Discuss these expectations => did you do a good job? What changed? Do you now have confidence in your data foundation for your AI model? Discuss pros and cons of using a Testing Framework!"
   ]
  },
  {
   "cell_type": "markdown",
   "metadata": {},
   "source": [
    "# Task 7: Think about AI Implementation"
   ]
  },
  {
   "cell_type": "markdown",
   "metadata": {},
   "source": [
    "Could you now implement AI to design a flexible pricing model? How would you do it? What is the advantage over doing this by hand?"
   ]
  },
  {
   "cell_type": "code",
   "execution_count": 34,
   "metadata": {},
   "outputs": [],
   "source": [
    "# TODO: Make this last part better and more to the point ^^"
   ]
  },
  {
   "cell_type": "code",
   "execution_count": null,
   "metadata": {},
   "outputs": [],
   "source": []
  }
 ],
 "metadata": {
  "kernelspec": {
   "display_name": ".venv",
   "language": "python",
   "name": "python3"
  },
  "language_info": {
   "codemirror_mode": {
    "name": "ipython",
    "version": 3
   },
   "file_extension": ".py",
   "mimetype": "text/x-python",
   "name": "python",
   "nbconvert_exporter": "python",
   "pygments_lexer": "ipython3",
   "version": "3.12.7"
  }
 },
 "nbformat": 4,
 "nbformat_minor": 2
}
