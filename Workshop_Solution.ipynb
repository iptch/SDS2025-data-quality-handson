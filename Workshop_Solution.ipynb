{
 "cells": [
  {
   "cell_type": "markdown",
   "metadata": {},
   "source": [
    "**Set the kernel to \"Workshop Environment\" from the Jupyter Kernels.**"
   ]
  },
  {
   "cell_type": "markdown",
   "metadata": {},
   "source": [
    "# Data Quality Testing with Great Expectations\n",
    "\n",
    "## Introduction\n",
    "Data quality is the foundation of reliable analytics. Poor data leads to flawed insights and decisions. This workshop explores data quality testing using the powerful Great Expectations library.\n",
    "\n",
    "## Why Data Quality Matters\n",
    "- **Trust**: Quality data builds confidence in results\n",
    "- **Efficiency**: Early detection prevents downstream issues \n",
    "- **Consistency**: Ensures reliable model performance\n",
    "- **Governance**: Meets regulatory requirements\n",
    "\n",
    "## Our Approach\n",
    "Using the \"Bike Sharing\" dataset from UCI, we'll learn how to:\n",
    "- Define expectations about your data\n",
    "- Validate these expectations systematically\n",
    "- Document and report quality issues\n",
    "- Integrate quality checks into pipelines\n",
    "\n",
    "## Goals of this Workshop\n",
    "- Design valuable data quality checks to build the foundation of your flexible (AI) pricing system\n",
    "- Visually inspect expectations and keep track of expectations runs over time\n",
    "\n",
    "\n",
    "## Task 1: Explore the Dataset\n",
    "Let's begin by exploring the Bike Sharing dataset. Download the data, load it into a dataframe, and perform initial exploratory analysis to understand its structure and contents. This website provides detailed information about the dataset used: https://archive.ics.uci.edu/dataset/275/bike+sharing+dataset. For this workshop, we made slight alterations to the columns of the dataset (to keep it simpler) and also denormalized measures like temperature etc to make it more intuitive. "
   ]
  },
  {
   "cell_type": "code",
   "execution_count": 1,
   "metadata": {},
   "outputs": [
    {
     "name": "stderr",
     "output_type": "stream",
     "text": [
      "metric column.standard_deviation.aggregate_fn is being registered with different metric_provider; overwriting metric_provider\n"
     ]
    }
   ],
   "source": [
    "# Import necessary libraries for data processing and quality testing\n",
    "# - great_expectations: Our primary tool for data quality validation\n",
    "# - sqlite3: To connect with our SQLite database\n",
    "# - pandas: For data manipulation and analysis\n",
    "import great_expectations as gx\n",
    "import sqlite3\n",
    "import pandas as pd\n",
    "\n",
    "from utils import database\n",
    "from utils.checker import check\n",
    "from utils.server import serve_docs, stop_server"
   ]
  },
  {
   "cell_type": "code",
   "execution_count": 2,
   "metadata": {},
   "outputs": [
    {
     "name": "stderr",
     "output_type": "stream",
     "text": [
      "\u001b[32m2025-04-19 16:43:16.605\u001b[0m | \u001b[1mINFO    \u001b[0m | \u001b[36mutils.database\u001b[0m:\u001b[36mreset_database\u001b[0m:\u001b[36m54\u001b[0m - \u001b[1mDatabase reset completed\u001b[0m\n",
      "\u001b[32m2025-04-19 16:43:16.606\u001b[0m | \u001b[1mINFO    \u001b[0m | \u001b[36mutils.database\u001b[0m:\u001b[36minit\u001b[0m:\u001b[36m142\u001b[0m - \u001b[1mInitializing database to step 0: 0_spring_2011\u001b[0m\n",
      "\u001b[32m2025-04-19 16:43:16.607\u001b[0m | \u001b[1mINFO    \u001b[0m | \u001b[36mutils.database\u001b[0m:\u001b[36mapply_migration\u001b[0m:\u001b[36m88\u001b[0m - \u001b[1mMigration 0_create_table.sql from 0_spring_2011 - Successfully applied\u001b[0m\n",
      "\u001b[32m2025-04-19 16:43:16.623\u001b[0m | \u001b[1mINFO    \u001b[0m | \u001b[36mutils.database\u001b[0m:\u001b[36mapply_migration\u001b[0m:\u001b[36m88\u001b[0m - \u001b[1mMigration 1_bike_rental_2011_spring.sql from 0_spring_2011 - Successfully applied\u001b[0m\n"
     ]
    }
   ],
   "source": [
    "# Initialize the database with our bike sharing dataset\n",
    "# This sets up a SQLite database with the necessary tables and imports the data\n",
    "database.init()\n",
    "\n",
    "# Create a connection to our database for querying\n",
    "conn = sqlite3.connect(\"database.db\")"
   ]
  },
  {
   "cell_type": "code",
   "execution_count": 3,
   "metadata": {},
   "outputs": [],
   "source": [
    "# Set up Great Expectations context\n",
    "# This creates the environment where we define and validate expectations\n",
    "gx_context = gx.get_context()\n",
    "\n",
    "# Add our SQLite database as a data source for Great Expectations\n",
    "# This allows us to test data directly from the database\n",
    "data_source = gx_context.data_sources.add_sqlite(\n",
    "    \"sample\", connection_string=\"sqlite:///database.db\"\n",
    ")"
   ]
  },
  {
   "cell_type": "code",
   "execution_count": 4,
   "metadata": {},
   "outputs": [],
   "source": [
    "# Define the data asset we want to validate\n",
    "# An asset in Great Expectations represents a table or query result that we want to test\n",
    "asset_name = \"bike_rental\"\n",
    "database_table_name = \"bike_rental\"\n",
    "table_data_asset = data_source.add_table_asset(\n",
    "    table_name=database_table_name, name=asset_name\n",
    ")\n",
    "\n",
    "# Create a batch definition that specifies which data we want to validate\n",
    "# Here we're selecting the entire table for our first season (spring 2011)\n",
    "full_table_batch_definition = table_data_asset.add_batch_definition_whole_table(\n",
    "    name=\"0_spring_2011\",\n",
    ")"
   ]
  },
  {
   "cell_type": "code",
   "execution_count": 5,
   "metadata": {},
   "outputs": [
    {
     "data": {
      "application/vnd.jupyter.widget-view+json": {
       "model_id": "a1504fb9bfbc4c339feef9fc55a23abb",
       "version_major": 2,
       "version_minor": 0
      },
      "text/plain": [
       "Calculating Metrics:   0%|          | 0/1 [00:00<?, ?it/s]"
      ]
     },
     "metadata": {},
     "output_type": "display_data"
    },
    {
     "data": {
      "text/html": [
       "<div>\n",
       "<style scoped>\n",
       "    .dataframe tbody tr th:only-of-type {\n",
       "        vertical-align: middle;\n",
       "    }\n",
       "\n",
       "    .dataframe tbody tr th {\n",
       "        vertical-align: top;\n",
       "    }\n",
       "\n",
       "    .dataframe thead th {\n",
       "        text-align: right;\n",
       "    }\n",
       "</style>\n",
       "<table border=\"1\" class=\"dataframe\">\n",
       "  <thead>\n",
       "    <tr style=\"text-align: right;\">\n",
       "      <th></th>\n",
       "      <th>season</th>\n",
       "      <th>weekday</th>\n",
       "      <th>temp</th>\n",
       "      <th>casual</th>\n",
       "      <th>registered</th>\n",
       "      <th>total</th>\n",
       "    </tr>\n",
       "  </thead>\n",
       "  <tbody>\n",
       "    <tr>\n",
       "      <th>0</th>\n",
       "      <td>Spring</td>\n",
       "      <td>Monday</td>\n",
       "      <td>7.98</td>\n",
       "      <td>2</td>\n",
       "      <td>11</td>\n",
       "      <td>13</td>\n",
       "    </tr>\n",
       "    <tr>\n",
       "      <th>1</th>\n",
       "      <td>Spring</td>\n",
       "      <td>Monday</td>\n",
       "      <td>7.98</td>\n",
       "      <td>1</td>\n",
       "      <td>6</td>\n",
       "      <td>7</td>\n",
       "    </tr>\n",
       "    <tr>\n",
       "      <th>2</th>\n",
       "      <td>Spring</td>\n",
       "      <td>Monday</td>\n",
       "      <td>7.98</td>\n",
       "      <td>1</td>\n",
       "      <td>5</td>\n",
       "      <td>6</td>\n",
       "    </tr>\n",
       "    <tr>\n",
       "      <th>3</th>\n",
       "      <td>Spring</td>\n",
       "      <td>Monday</td>\n",
       "      <td>7.98</td>\n",
       "      <td>0</td>\n",
       "      <td>1</td>\n",
       "      <td>1</td>\n",
       "    </tr>\n",
       "    <tr>\n",
       "      <th>4</th>\n",
       "      <td>Spring</td>\n",
       "      <td>Monday</td>\n",
       "      <td>7.04</td>\n",
       "      <td>1</td>\n",
       "      <td>1</td>\n",
       "      <td>2</td>\n",
       "    </tr>\n",
       "  </tbody>\n",
       "</table>\n",
       "</div>"
      ],
      "text/plain": [
       "   season weekday  temp  casual  registered  total\n",
       "0  Spring  Monday  7.98       2          11     13\n",
       "1  Spring  Monday  7.98       1           6      7\n",
       "2  Spring  Monday  7.98       1           5      6\n",
       "3  Spring  Monday  7.98       0           1      1\n",
       "4  Spring  Monday  7.04       1           1      2"
      ]
     },
     "execution_count": 5,
     "metadata": {},
     "output_type": "execute_result"
    }
   ],
   "source": [
    "# Load the data into a batch and display the first few rows\n",
    "# This gives us our first look at the structure and content of the dataset\n",
    "full_table_batch = full_table_batch_definition.get_batch()\n",
    "\n",
    "full_table_batch.head().data.loc[\n",
    "    :, [\"season\", \"weekday\", \"temp\", \"casual\", \"registered\", \"total\"]\n",
    "]"
   ]
  },
  {
   "cell_type": "code",
   "execution_count": 6,
   "metadata": {},
   "outputs": [
    {
     "data": {
      "text/html": [
       "<div>\n",
       "<style scoped>\n",
       "    .dataframe tbody tr th:only-of-type {\n",
       "        vertical-align: middle;\n",
       "    }\n",
       "\n",
       "    .dataframe tbody tr th {\n",
       "        vertical-align: top;\n",
       "    }\n",
       "\n",
       "    .dataframe thead th {\n",
       "        text-align: right;\n",
       "    }\n",
       "</style>\n",
       "<table border=\"1\" class=\"dataframe\">\n",
       "  <thead>\n",
       "    <tr style=\"text-align: right;\">\n",
       "      <th></th>\n",
       "      <th>season</th>\n",
       "      <th>weekday</th>\n",
       "      <th>temp</th>\n",
       "      <th>casual</th>\n",
       "      <th>registered</th>\n",
       "      <th>total</th>\n",
       "    </tr>\n",
       "  </thead>\n",
       "  <tbody>\n",
       "    <tr>\n",
       "      <th>0</th>\n",
       "      <td>Spring</td>\n",
       "      <td>Monday</td>\n",
       "      <td>7.98</td>\n",
       "      <td>2</td>\n",
       "      <td>11</td>\n",
       "      <td>13</td>\n",
       "    </tr>\n",
       "    <tr>\n",
       "      <th>1</th>\n",
       "      <td>Spring</td>\n",
       "      <td>Monday</td>\n",
       "      <td>7.04</td>\n",
       "      <td>2</td>\n",
       "      <td>30</td>\n",
       "      <td>32</td>\n",
       "    </tr>\n",
       "    <tr>\n",
       "      <th>2</th>\n",
       "      <td>Spring</td>\n",
       "      <td>Tuesday</td>\n",
       "      <td>10.80</td>\n",
       "      <td>2</td>\n",
       "      <td>58</td>\n",
       "      <td>60</td>\n",
       "    </tr>\n",
       "    <tr>\n",
       "      <th>3</th>\n",
       "      <td>Spring</td>\n",
       "      <td>Wednesday</td>\n",
       "      <td>7.04</td>\n",
       "      <td>2</td>\n",
       "      <td>24</td>\n",
       "      <td>26</td>\n",
       "    </tr>\n",
       "    <tr>\n",
       "      <th>4</th>\n",
       "      <td>Spring</td>\n",
       "      <td>Thursday</td>\n",
       "      <td>4.22</td>\n",
       "      <td>2</td>\n",
       "      <td>106</td>\n",
       "      <td>108</td>\n",
       "    </tr>\n",
       "    <tr>\n",
       "      <th>...</th>\n",
       "      <td>...</td>\n",
       "      <td>...</td>\n",
       "      <td>...</td>\n",
       "      <td>...</td>\n",
       "      <td>...</td>\n",
       "      <td>...</td>\n",
       "    </tr>\n",
       "    <tr>\n",
       "      <th>81</th>\n",
       "      <td>Spring</td>\n",
       "      <td>Monday</td>\n",
       "      <td>17.38</td>\n",
       "      <td>2</td>\n",
       "      <td>27</td>\n",
       "      <td>29</td>\n",
       "    </tr>\n",
       "    <tr>\n",
       "      <th>82</th>\n",
       "      <td>Spring</td>\n",
       "      <td>Tuesday</td>\n",
       "      <td>20.20</td>\n",
       "      <td>2</td>\n",
       "      <td>8</td>\n",
       "      <td>10</td>\n",
       "    </tr>\n",
       "    <tr>\n",
       "      <th>83</th>\n",
       "      <td>Spring</td>\n",
       "      <td>Thursday</td>\n",
       "      <td>20.20</td>\n",
       "      <td>2</td>\n",
       "      <td>14</td>\n",
       "      <td>16</td>\n",
       "    </tr>\n",
       "    <tr>\n",
       "      <th>84</th>\n",
       "      <td>Spring</td>\n",
       "      <td>Friday</td>\n",
       "      <td>18.32</td>\n",
       "      <td>2</td>\n",
       "      <td>11</td>\n",
       "      <td>13</td>\n",
       "    </tr>\n",
       "    <tr>\n",
       "      <th>85</th>\n",
       "      <td>Spring</td>\n",
       "      <td>Monday</td>\n",
       "      <td>22.08</td>\n",
       "      <td>2</td>\n",
       "      <td>0</td>\n",
       "      <td>2</td>\n",
       "    </tr>\n",
       "  </tbody>\n",
       "</table>\n",
       "<p>86 rows × 6 columns</p>\n",
       "</div>"
      ],
      "text/plain": [
       "    season    weekday   temp  casual  registered  total\n",
       "0   Spring     Monday   7.98       2          11     13\n",
       "1   Spring     Monday   7.04       2          30     32\n",
       "2   Spring    Tuesday  10.80       2          58     60\n",
       "3   Spring  Wednesday   7.04       2          24     26\n",
       "4   Spring   Thursday   4.22       2         106    108\n",
       "..     ...        ...    ...     ...         ...    ...\n",
       "81  Spring     Monday  17.38       2          27     29\n",
       "82  Spring    Tuesday  20.20       2           8     10\n",
       "83  Spring   Thursday  20.20       2          14     16\n",
       "84  Spring     Friday  18.32       2          11     13\n",
       "85  Spring     Monday  22.08       2           0      2\n",
       "\n",
       "[86 rows x 6 columns]"
      ]
     },
     "execution_count": 6,
     "metadata": {},
     "output_type": "execute_result"
    }
   ],
   "source": [
    "# Query the database directly to investigate potential data quality issues\n",
    "# Here we're looking for records where the 'casual' rider count equals 2\n",
    "# This helps us understand the distribution of this variable\n",
    "query = \"\"\"\n",
    "SELECT season, weekday, temp, casual, registered, total\n",
    "FROM bike_rental\n",
    "WHERE casual = 2\n",
    "\"\"\"\n",
    "\n",
    "pd.read_sql_query(query, conn)"
   ]
  },
  {
   "cell_type": "markdown",
   "metadata": {},
   "source": [
    "# Task 2: Set Expectations for the Spring Data\n",
    "\n",
    "Now that you've explored the dataset, it's time to define your first expectations - the rules that your data should follow to be considered high quality.\n",
    "\n",
    "## Basic Expectations Examples\n",
    "\n",
    "Great Expectations provides various expectation types to validate different aspects of your data. Check out all available expectation in the gallery. https://greatexpectations.io/expectations/. Here are two examples:\n",
    "\n",
    "1. **Column Existence**\n",
    "   ```python\n",
    "   # Check that specific columns exist in your dataset\n",
    "   expect_column_to_exist(column=\"temp\")\n",
    "\n",
    "2. **Set Membership**\n",
    "   ```python\n",
    "   # Confirm categorical variables contain only allowed values\n",
    "   expect_column_values_to_be_in_set(\n",
    "       column=\"weathersit\", \n",
    "       value_set=[1, 2, 3, 4]  # 1:Clear, 2:Cloudy, 3:Light Rain, 4:Heavy Rain\n",
    "   )\n",
    "   ```\n"
   ]
  },
  {
   "cell_type": "code",
   "execution_count": 7,
   "metadata": {},
   "outputs": [
    {
     "data": {
      "application/vnd.jupyter.widget-view+json": {
       "model_id": "eba67455bccd4590a23118094dfbe819",
       "version_major": 2,
       "version_minor": 0
      },
      "text/plain": [
       "Calculating Metrics:   0%|          | 0/2 [00:00<?, ?it/s]"
      ]
     },
     "metadata": {},
     "output_type": "display_data"
    },
    {
     "name": "stderr",
     "output_type": "stream",
     "text": [
      "\u001b[32m2025-04-19 16:43:16.812\u001b[0m | \u001b[32m\u001b[1mSUCCESS \u001b[0m | \u001b[36mutils.checker\u001b[0m:\u001b[36mcheck\u001b[0m:\u001b[36m64\u001b[0m - \u001b[32m\u001b[1mGreat job! The result of the expectation is correct. Continue with the next task.\u001b[0m\n"
     ]
    }
   ],
   "source": [
    "# Task 1: Check if the 'season' column exists in the dataset\n",
    "# This is a fundamental check to ensure that our data has the expected structure\n",
    "# Hint: Set expectations like: \n",
    "# expectation = gx.expectations.XXX where XXX represents the expectation (see example above)\n",
    "\n",
    "### SOLUTION_START ###\n",
    "expectation = gx.expectations.ExpectColumnToExist(\n",
    "    column=\"season\",\n",
    ")\n",
    "### SOLUTION_END ###\n",
    "\n",
    "#Validate the expectation\n",
    "result = full_table_batch.validate(expectation, result_format=\"COMPLETE\")\n",
    "check(task=1, result=result)"
   ]
  },
  {
   "cell_type": "code",
   "execution_count": 8,
   "metadata": {},
   "outputs": [
    {
     "data": {
      "application/vnd.jupyter.widget-view+json": {
       "model_id": "86f8c11cf85b4d6faed8e4156633f3f7",
       "version_major": 2,
       "version_minor": 0
      },
      "text/plain": [
       "Calculating Metrics:   0%|          | 0/13 [00:00<?, ?it/s]"
      ]
     },
     "metadata": {},
     "output_type": "display_data"
    },
    {
     "name": "stderr",
     "output_type": "stream",
     "text": [
      "\u001b[32m2025-04-19 16:43:16.856\u001b[0m | \u001b[32m\u001b[1mSUCCESS \u001b[0m | \u001b[36mutils.checker\u001b[0m:\u001b[36mcheck\u001b[0m:\u001b[36m64\u001b[0m - \u001b[32m\u001b[1mGreat job! The result of the expectation is correct. Continue with the next task.\u001b[0m\n"
     ]
    },
    {
     "name": "stdout",
     "output_type": "stream",
     "text": [
      "The expectation result is:  False\n"
     ]
    }
   ],
   "source": [
    "# Task 2: Check if the season only contains Spring\n",
    "# This is a more specific check to ensure that the data is consistent with our expectations\n",
    "\n",
    "### SOLUTION_START ###\n",
    "expectation = gx.expectations.ExpectColumnValuesToBeInSet(\n",
    "    column=\"season\",\n",
    "    value_set=[\"Spring\"],\n",
    ")\n",
    "### SOLUTION_END ###\n",
    "\n",
    "# Validate the expectation\n",
    "result = full_table_batch.validate(expectation, result_format=\"COMPLETE\")\n",
    "print(\"The expectation result is: \", result[\"success\"])\n",
    "check(task=2, result=result)"
   ]
  },
  {
   "cell_type": "markdown",
   "metadata": {
    "vscode": {
     "languageId": "bat"
    }
   },
   "source": [
    "The expectation failed because the 'season' column contains values other than 'Spring'. Let's investigate further by querying the distinct values in the 'season' column."
   ]
  },
  {
   "cell_type": "code",
   "execution_count": 9,
   "metadata": {},
   "outputs": [
    {
     "data": {
      "text/html": [
       "<div>\n",
       "<style scoped>\n",
       "    .dataframe tbody tr th:only-of-type {\n",
       "        vertical-align: middle;\n",
       "    }\n",
       "\n",
       "    .dataframe tbody tr th {\n",
       "        vertical-align: top;\n",
       "    }\n",
       "\n",
       "    .dataframe thead th {\n",
       "        text-align: right;\n",
       "    }\n",
       "</style>\n",
       "<table border=\"1\" class=\"dataframe\">\n",
       "  <thead>\n",
       "    <tr style=\"text-align: right;\">\n",
       "      <th></th>\n",
       "      <th>season</th>\n",
       "    </tr>\n",
       "  </thead>\n",
       "  <tbody>\n",
       "    <tr>\n",
       "      <th>0</th>\n",
       "      <td>Spring</td>\n",
       "    </tr>\n",
       "    <tr>\n",
       "      <th>1</th>\n",
       "      <td>Sprung</td>\n",
       "    </tr>\n",
       "  </tbody>\n",
       "</table>\n",
       "</div>"
      ],
      "text/plain": [
       "   season\n",
       "0  Spring\n",
       "1  Sprung"
      ]
     },
     "execution_count": 9,
     "metadata": {},
     "output_type": "execute_result"
    }
   ],
   "source": [
    "# Investigate why the expectation failed\n",
    "query = \"\"\"\n",
    "SELECT DISTINCT season\n",
    "FROM bike_rental\n",
    "\"\"\"\n",
    "\n",
    "pd.read_sql_query(query, conn)"
   ]
  },
  {
   "cell_type": "code",
   "execution_count": 10,
   "metadata": {
    "vscode": {
     "languageId": "ruby"
    }
   },
   "outputs": [
    {
     "data": {
      "application/vnd.jupyter.widget-view+json": {
       "model_id": "7f241811580648d2a21934f006c71a31",
       "version_major": 2,
       "version_minor": 0
      },
      "text/plain": [
       "Calculating Metrics:   0%|          | 0/13 [00:00<?, ?it/s]"
      ]
     },
     "metadata": {},
     "output_type": "display_data"
    },
    {
     "name": "stderr",
     "output_type": "stream",
     "text": [
      "\u001b[32m2025-04-19 16:43:16.885\u001b[0m | \u001b[32m\u001b[1mSUCCESS \u001b[0m | \u001b[36mutils.checker\u001b[0m:\u001b[36mcheck\u001b[0m:\u001b[36m64\u001b[0m - \u001b[32m\u001b[1mGreat job! The result of the expectation is correct. Continue with the next task.\u001b[0m\n"
     ]
    },
    {
     "name": "stdout",
     "output_type": "stream",
     "text": [
      "The expectation result is:  True\n"
     ]
    }
   ],
   "source": [
    "# Task 3: Fix the data quality issue\n",
    "# Here we need to remove records that do not meet our expectation\n",
    "# This is a critical step to ensure that our dataset is clean and reliable\n",
    "# We will delete records where the season is not 'Spring'\n",
    "# Hint: use a sql delete statement in the query\n",
    "\n",
    "### SOLUTION_START ###\n",
    "query = \"\"\"\n",
    "DELETE FROM bike_rental\n",
    "WHERE season != 'Spring'\n",
    "\"\"\"\n",
    "### SOLUTION_END ###\n",
    "\n",
    "# Execute the DELETE query to remove records that do not meet the expectation\n",
    "with conn:\n",
    "    conn.execute(query)\n",
    "\n",
    "# Re-run the validation after fixing the data\n",
    "full_table_batch = full_table_batch_definition.get_batch()\n",
    "result = full_table_batch.validate(expectation, result_format=\"COMPLETE\")\n",
    "print(\"The expectation result is: \", result[\"success\"])\n",
    "\n",
    "check(task=3, result=result)"
   ]
  },
  {
   "cell_type": "markdown",
   "metadata": {},
   "source": [
    "But, you didn't sign up for this Workshop just to see a fancy way of doing exactly the same as your basic unit test is doing, so let's get into more complex stuff"
   ]
  },
  {
   "cell_type": "code",
   "execution_count": 11,
   "metadata": {},
   "outputs": [
    {
     "name": "stdout",
     "output_type": "stream",
     "text": [
      "   min(total)  max(total)\n",
      "0           1         638\n"
     ]
    }
   ],
   "source": [
    "# Task 4: Add another expectation for the max expected number of hourly bike data per day\n",
    "# Remember that the dataset already shows aggregated hourly data in the column \"total\"\n",
    "\n",
    "# Write the query to find the min and max\n",
    "\n",
    "### SOLUTION_START ###\n",
    "query = \"\"\"\n",
    "SELECT min(total), max(total) \n",
    "FROM bike_rental\n",
    "\"\"\"\n",
    "### SOLUTION_END ###\n",
    "\n",
    "# Execute the query\n",
    "print(pd.read_sql_query(query, conn))"
   ]
  },
  {
   "cell_type": "code",
   "execution_count": 12,
   "metadata": {},
   "outputs": [
    {
     "data": {
      "application/vnd.jupyter.widget-view+json": {
       "model_id": "acb7c559f38d4193a26f2003ab9053e5",
       "version_major": 2,
       "version_minor": 0
      },
      "text/plain": [
       "Calculating Metrics:   0%|          | 0/6 [00:00<?, ?it/s]"
      ]
     },
     "metadata": {},
     "output_type": "display_data"
    },
    {
     "name": "stderr",
     "output_type": "stream",
     "text": [
      "\u001b[32m2025-04-19 16:43:19.323\u001b[0m | \u001b[32m\u001b[1mSUCCESS \u001b[0m | \u001b[36mutils.checker\u001b[0m:\u001b[36mcheck\u001b[0m:\u001b[36m64\u001b[0m - \u001b[32m\u001b[1mGreat job! The result of the expectation is correct. Continue with the next task.\u001b[0m\n"
     ]
    }
   ],
   "source": [
    "# Set the Max to be between 0.9*Max and 1.1*Max from the query before\n",
    "### SOLUTION_START ###\n",
    "expectation = gx.expectations.ExpectColumnMaxToBeBetween(\n",
    "    column=\"total\",\n",
    "    min_value = 0.9*638,\n",
    "    max_value = 1.1*638,\n",
    ")\n",
    "### SOLUTION_END ###\n",
    "\n",
    "# TODO: add validate check\n",
    "# Validate the expectation\n",
    "result = full_table_batch.validate(expectation, result_format=\"COMPLETE\")\n",
    "check(task=4, result=result)"
   ]
  },
  {
   "cell_type": "markdown",
   "metadata": {},
   "source": [
    "# Task 3: Adjust and Set New Expectations for the Summer Data"
   ]
  },
  {
   "cell_type": "code",
   "execution_count": null,
   "metadata": {},
   "outputs": [
    {
     "name": "stderr",
     "output_type": "stream",
     "text": [
      "\u001b[32m2025-04-19 16:36:40.819\u001b[0m | \u001b[1mINFO    \u001b[0m | \u001b[36mutils.database\u001b[0m:\u001b[36mset_step\u001b[0m:\u001b[36m221\u001b[0m - \u001b[1mProcessing directory: 0_spring_2011\u001b[0m\n",
      "\u001b[32m2025-04-19 16:36:40.823\u001b[0m | \u001b[34m\u001b[1mDEBUG   \u001b[0m | \u001b[36mutils.database\u001b[0m:\u001b[36mset_step\u001b[0m:\u001b[36m228\u001b[0m - \u001b[34m\u001b[1mSkipping 0_create_table.sql (already applied)\u001b[0m\n",
      "\u001b[32m2025-04-19 16:36:40.828\u001b[0m | \u001b[34m\u001b[1mDEBUG   \u001b[0m | \u001b[36mutils.database\u001b[0m:\u001b[36mset_step\u001b[0m:\u001b[36m228\u001b[0m - \u001b[34m\u001b[1mSkipping 1_bike_rental_2011_spring.sql (already applied)\u001b[0m\n",
      "\u001b[32m2025-04-19 16:36:40.830\u001b[0m | \u001b[1mINFO    \u001b[0m | \u001b[36mutils.database\u001b[0m:\u001b[36mset_step\u001b[0m:\u001b[36m221\u001b[0m - \u001b[1mProcessing directory: 1_summer_2011\u001b[0m\n",
      "\u001b[32m2025-04-19 16:36:40.863\u001b[0m | \u001b[1mINFO    \u001b[0m | \u001b[36mutils.database\u001b[0m:\u001b[36mapply_migration\u001b[0m:\u001b[36m88\u001b[0m - \u001b[1mMigration 0_bike_rental_2011_summer.sql from 1_summer_2011 - Successfully applied\u001b[0m\n"
     ]
    },
    {
     "data": {
      "text/plain": [
       "True"
      ]
     },
     "execution_count": 12,
     "metadata": {},
     "output_type": "execute_result"
    }
   ],
   "source": [
    "# Change the data to step 1, representing the summer season\n",
    "database.set_step(1)"
   ]
  },
  {
   "cell_type": "code",
   "execution_count": 13,
   "metadata": {},
   "outputs": [],
   "source": [
    "# Create a batch definition that specifies which data we want to validate\n",
    "# Here we're selecting the entire table for our first season (spring 2011)\n",
    "full_table_batch_definition = table_data_asset.add_batch_definition_whole_table(\n",
    "    name=\"1_summer_2011\",\n",
    ")\n",
    "\n",
    "# Setup for the batch\n",
    "full_table_batch = full_table_batch_definition.get_batch()"
   ]
  },
  {
   "cell_type": "code",
   "execution_count": 14,
   "metadata": {},
   "outputs": [
    {
     "data": {
      "text/html": [
       "<div>\n",
       "<style scoped>\n",
       "    .dataframe tbody tr th:only-of-type {\n",
       "        vertical-align: middle;\n",
       "    }\n",
       "\n",
       "    .dataframe tbody tr th {\n",
       "        vertical-align: top;\n",
       "    }\n",
       "\n",
       "    .dataframe thead th {\n",
       "        text-align: right;\n",
       "    }\n",
       "</style>\n",
       "<table border=\"1\" class=\"dataframe\">\n",
       "  <thead>\n",
       "    <tr style=\"text-align: right;\">\n",
       "      <th></th>\n",
       "      <th>season</th>\n",
       "    </tr>\n",
       "  </thead>\n",
       "  <tbody>\n",
       "    <tr>\n",
       "      <th>0</th>\n",
       "      <td>Spring</td>\n",
       "    </tr>\n",
       "  </tbody>\n",
       "</table>\n",
       "</div>"
      ],
      "text/plain": [
       "   season\n",
       "0  Spring"
      ]
     },
     "execution_count": 14,
     "metadata": {},
     "output_type": "execute_result"
    }
   ],
   "source": [
    "# Investigate why the expectation failed\n",
    "query = \"\"\"\n",
    "SELECT DISTINCT season\n",
    "FROM bike_rental\n",
    "\"\"\"\n",
    "\n",
    "pd.read_sql_query(query, conn)"
   ]
  },
  {
   "cell_type": "markdown",
   "metadata": {},
   "source": [
    "## Excursion: Data Docs\n",
    "You might have noticed that at the moment, we just ran expectations and validated them. But it would be great to define a set of expectations and validate all of them at the same time. It would be even greater, if we could somehow visualise these results over time. This subchapter addresses these issues"
   ]
  },
  {
   "cell_type": "markdown",
   "metadata": {},
   "source": [
    "### Cheatsheet for GX Concepts\n",
    "- ***Batch***: A slide of data you want to validate\n",
    "- ***Validator***: A tool that lets you work with a batch interactively and build expectations\n",
    "- ***Expectation***: A rule or assertion about your data  \n",
    "- ***Expectation Suite***: A collection of expectations (think: Test suite)  \n",
    "- ***Data Docs***: HTML reports showing validation results  \n"
   ]
  },
  {
   "cell_type": "markdown",
   "metadata": {},
   "source": [
    "![](./img/gx_workflow_steps_and_components.png)"
   ]
  },
  {
   "cell_type": "markdown",
   "metadata": {},
   "source": [
    "#### Notice\n",
    "\n",
    "If you get an error like this:  \n",
    "\"DataContextError\": Cannot add ExpectationSuite with name xxx, because it already exists   \n",
    "This appears because the cell was called twice.  \n",
    "To solve the issue, just give the suite a new name (for example add \"_1\" to it or something similar)\n"
   ]
  },
  {
   "cell_type": "code",
   "execution_count": null,
   "metadata": {},
   "outputs": [],
   "source": [
    "# Let's define an expectation suite\n",
    "# First, we create an expectation Suite to gather all our expectations in one place\n",
    "suite_name = \"summer_suite\"\n",
    "expectation_suite = gx.ExpectationSuite(name=suite_name)\n",
    "\n",
    "# Second, we add two expectations to the expectation suite\n",
    "expectation_suite.add_expectation(gx.expectations.ExpectColumnValuesToNotBeNull(column = 'total'))\n",
    "expectation_suite.add_expectation(gx.expectations.ExpectColumnValuesToNotBeNull(column = 'dteday'))\n",
    "\n",
    "# Add the suite to the context\n",
    "expectation_suite = gx_context.suites.add(expectation_suite)"
   ]
  },
  {
   "cell_type": "code",
   "execution_count": null,
   "metadata": {},
   "outputs": [],
   "source": [
    "# Let's get our batch definition (we've already defined it before)\n",
    "batch_def = full_table_batch_definition"
   ]
  },
  {
   "cell_type": "code",
   "execution_count": null,
   "metadata": {},
   "outputs": [],
   "source": [
    "# Set up the validator\n",
    "validation_name = \"summer_validator\"\n",
    "\n",
    "validation_def = gx.ValidationDefinition(\n",
    "    data = batch_def,\n",
    "    suite = expectation_suite,\n",
    "    name = validation_name\n",
    ")\n",
    "\n",
    "# Add it the the context\n",
    "validation_def = gx_context.validation_definitions.add(validation_def)"
   ]
  },
  {
   "cell_type": "code",
   "execution_count": null,
   "metadata": {},
   "outputs": [
    {
     "data": {
      "application/vnd.jupyter.widget-view+json": {
       "model_id": "d143ee0ca2fb4abe8f1604a4658017b5",
       "version_major": 2,
       "version_minor": 0
      },
      "text/plain": [
       "Calculating Metrics:   0%|          | 0/16 [00:00<?, ?it/s]"
      ]
     },
     "metadata": {},
     "output_type": "display_data"
    },
    {
     "name": "stdout",
     "output_type": "stream",
     "text": [
      "{\n",
      "  \"success\": true,\n",
      "  \"results\": [\n",
      "    {\n",
      "      \"success\": true,\n",
      "      \"expectation_config\": {\n",
      "        \"type\": \"expect_column_values_to_not_be_null\",\n",
      "        \"kwargs\": {\n",
      "          \"batch_id\": \"sample-bike_rental\",\n",
      "          \"column\": \"total\"\n",
      "        },\n",
      "        \"meta\": {},\n",
      "        \"id\": \"488e8137-6327-4bbc-87a8-02c7c15422d8\"\n",
      "      },\n",
      "      \"result\": {\n",
      "        \"element_count\": 4443,\n",
      "        \"unexpected_count\": 0,\n",
      "        \"unexpected_percent\": 0.0,\n",
      "        \"partial_unexpected_list\": [],\n",
      "        \"partial_unexpected_counts\": []\n",
      "      },\n",
      "      \"meta\": {},\n",
      "      \"exception_info\": {\n",
      "        \"raised_exception\": false,\n",
      "        \"exception_traceback\": null,\n",
      "        \"exception_message\": null\n",
      "      }\n",
      "    },\n",
      "    {\n",
      "      \"success\": true,\n",
      "      \"expectation_config\": {\n",
      "        \"type\": \"expect_column_values_to_not_be_null\",\n",
      "        \"kwargs\": {\n",
      "          \"batch_id\": \"sample-bike_rental\",\n",
      "          \"column\": \"dteday\"\n",
      "        },\n",
      "        \"meta\": {},\n",
      "        \"id\": \"4e9e56c0-529d-4b2d-9782-f82263f40f4f\"\n",
      "      },\n",
      "      \"result\": {\n",
      "        \"element_count\": 4443,\n",
      "        \"unexpected_count\": 0,\n",
      "        \"unexpected_percent\": 0.0,\n",
      "        \"partial_unexpected_list\": [],\n",
      "        \"partial_unexpected_counts\": []\n",
      "      },\n",
      "      \"meta\": {},\n",
      "      \"exception_info\": {\n",
      "        \"raised_exception\": false,\n",
      "        \"exception_traceback\": null,\n",
      "        \"exception_message\": null\n",
      "      }\n",
      "    }\n",
      "  ],\n",
      "  \"suite_name\": \"summer_suite\",\n",
      "  \"suite_parameters\": {},\n",
      "  \"statistics\": {\n",
      "    \"evaluated_expectations\": 2,\n",
      "    \"successful_expectations\": 2,\n",
      "    \"unsuccessful_expectations\": 0,\n",
      "    \"success_percent\": 100.0\n",
      "  },\n",
      "  \"meta\": {\n",
      "    \"great_expectations_version\": \"1.3.12\",\n",
      "    \"batch_spec\": {\n",
      "      \"type\": \"table\",\n",
      "      \"data_asset_name\": \"bike_rental\",\n",
      "      \"table_name\": \"bike_rental\",\n",
      "      \"schema_name\": null,\n",
      "      \"batch_identifiers\": {}\n",
      "    },\n",
      "    \"batch_markers\": {\n",
      "      \"ge_load_time\": \"20250419T143640.908535Z\"\n",
      "    },\n",
      "    \"active_batch_definition\": {\n",
      "      \"datasource_name\": \"sample\",\n",
      "      \"data_connector_name\": \"fluent\",\n",
      "      \"data_asset_name\": \"bike_rental\",\n",
      "      \"batch_identifiers\": {}\n",
      "    },\n",
      "    \"validation_id\": \"492bf22d-8b68-415c-bf0d-73f918f2ac76\",\n",
      "    \"checkpoint_id\": null,\n",
      "    \"run_id\": {\n",
      "      \"run_name\": null,\n",
      "      \"run_time\": \"2025-04-19T16:36:40.964051+02:00\"\n",
      "    },\n",
      "    \"validation_time\": \"2025-04-19T14:36:40.964051+00:00\",\n",
      "    \"batch_parameters\": null\n",
      "  },\n",
      "  \"id\": null\n",
      "}\n"
     ]
    }
   ],
   "source": [
    "# Validate the results\n",
    "validation_results = validation_def.run()\n",
    "print(validation_results)\n",
    "\n",
    "# Hint: Click on open in a text editor to view the whole output"
   ]
  },
  {
   "cell_type": "code",
   "execution_count": null,
   "metadata": {},
   "outputs": [
    {
     "name": "stdout",
     "output_type": "stream",
     "text": [
      "file:///var/folders/6b/st166m7n5b91t44xhm_1s5sm0000gn/T/tmpm9cxdor8/index.html\n"
     ]
    }
   ],
   "source": [
    "# Build the visualization file\n",
    "data_doc_dir = gx_context.build_data_docs()['local_site']\n",
    "print(data_doc_dir)"
   ]
  },
  {
   "cell_type": "code",
   "execution_count": null,
   "metadata": {},
   "outputs": [
    {
     "name": "stdout",
     "output_type": "stream",
     "text": [
      "Serving directory '/private/var/folders/6b/st166m7n5b91t44xhm_1s5sm0000gn/T/tmpm9cxdor8' containing 'index.html'\n",
      "Access documentation at: http://localhost:8003/\n",
      "Server running on port 8003. Run stop_server(server, thread) to stop.\n"
     ]
    }
   ],
   "source": [
    "# Start the server to view the data docs\n",
    "server_instance, server_thread = serve_docs(data_doc_dir, port=8003)"
   ]
  },
  {
   "cell_type": "markdown",
   "metadata": {},
   "source": [
    "Inspect the Webpage that just opened! You can click the validation with the given expectation suite (here the summer_suite) and look into all the validations that were run when calling the validator. Take some time playing around with the webpage and explore!"
   ]
  },
  {
   "cell_type": "code",
   "execution_count": null,
   "metadata": {},
   "outputs": [
    {
     "name": "stdout",
     "output_type": "stream",
     "text": [
      "Shutting down server on port 8003...\n",
      "Server on port 8003 stopped and port freed.\n"
     ]
    }
   ],
   "source": [
    "# To stop the server when you're done\n",
    "if 'server_instance' in locals() and server_instance:\n",
    "    stop_server(server_instance, server_thread)\n",
    "    del server_instance\n",
    "    del server_thread\n",
    "else:\n",
    "    print(\"Server was not started or already stopped.\")"
   ]
  },
  {
   "cell_type": "markdown",
   "metadata": {},
   "source": []
  },
  {
   "cell_type": "markdown",
   "metadata": {},
   "source": [
    "## More Summer Expectations\n",
    "Equiped with this knowledge, let's set up the summer expectations"
   ]
  },
  {
   "cell_type": "code",
   "execution_count": null,
   "metadata": {},
   "outputs": [],
   "source": [
    "# Initialise a expectations array, which contains all our expectations and can then be added to our suite\n",
    "expectations = []"
   ]
  },
  {
   "cell_type": "code",
   "execution_count": null,
   "metadata": {},
   "outputs": [],
   "source": [
    "# Task 5: First, add the expectation that the expected column values can now contain either \"Spring\" or \"Summer\"\n",
    "# Hint: Look at Task 1 and follow the pattern.\n",
    "\n",
    "### SOLUTION_START ###\n",
    "expectation = gx.expectations.ExpectColumnValuesToBeInSet(\n",
    "    column=\"season\",\n",
    "    value_set=[\"Spring\", \"Summer\"],\n",
    ")\n",
    "### SOLUTION_END ###\n",
    "\n",
    "expectations.append(expectation)\n",
    "\n",
    "# TODO: Generate the task validation check\n",
    "# Validate the expectation (to see if the task was done correctly)\n",
    "# result = full_table_batch.validate(expectation, result_format=\"COMPLETE\")\n",
    "# check(task=5, result=result)"
   ]
  },
  {
   "cell_type": "code",
   "execution_count": null,
   "metadata": {},
   "outputs": [],
   "source": [
    "# Task 6: Copy Paste the Expectation set in Task 4 and add it to our expectations array.\n",
    "# We want to check if the expectations hold up for summer rush.\n",
    "\n",
    "# Copy Paste Solution from Task 4\n",
    "### SOLUTION_START ###\n",
    "expectation = gx.expectations.ExpectColumnMaxToBeBetween(\n",
    "    column=\"total\",\n",
    "    min_value = 0.9*638,\n",
    "    max_value = 1.1*638,\n",
    ")\n",
    "### SOLUTION_END ###\n",
    "\n",
    "expectations.append(expectation)"
   ]
  },
  {
   "cell_type": "code",
   "execution_count": null,
   "metadata": {},
   "outputs": [],
   "source": [
    "# Add the expectations to our suite\n",
    "for exp in expectations:\n",
    "    expectation_suite.add_expectation(exp)"
   ]
  },
  {
   "cell_type": "code",
   "execution_count": null,
   "metadata": {},
   "outputs": [],
   "source": [
    "# Set up the validator\n",
    "validation_name = \"summer_validator_updated\"\n",
    "\n",
    "# Define the validator\n",
    "### SOLUTION_START ###\n",
    "validation_def = gx.ValidationDefinition(\n",
    "    data = batch_def,\n",
    "    suite = expectation_suite,\n",
    "    name = validation_name\n",
    ")\n",
    "### SOLUTION_END ###\n",
    "\n",
    "# Add it the the context\n",
    "validation_def = gx_context.validation_definitions.add(validation_def)"
   ]
  },
  {
   "cell_type": "code",
   "execution_count": null,
   "metadata": {},
   "outputs": [
    {
     "data": {
      "application/vnd.jupyter.widget-view+json": {
       "model_id": "e19ee82fdc904c5f863fae063b4bbd67",
       "version_major": 2,
       "version_minor": 0
      },
      "text/plain": [
       "Calculating Metrics:   0%|          | 0/31 [00:00<?, ?it/s]"
      ]
     },
     "metadata": {},
     "output_type": "display_data"
    },
    {
     "name": "stdout",
     "output_type": "stream",
     "text": [
      "{\n",
      "  \"success\": true,\n",
      "  \"results\": [\n",
      "    {\n",
      "      \"success\": true,\n",
      "      \"expectation_config\": {\n",
      "        \"type\": \"expect_column_values_to_not_be_null\",\n",
      "        \"kwargs\": {\n",
      "          \"batch_id\": \"sample-bike_rental\",\n",
      "          \"column\": \"total\"\n",
      "        },\n",
      "        \"meta\": {},\n",
      "        \"id\": \"488e8137-6327-4bbc-87a8-02c7c15422d8\"\n",
      "      },\n",
      "      \"result\": {\n",
      "        \"element_count\": 4443,\n",
      "        \"unexpected_count\": 0,\n",
      "        \"unexpected_percent\": 0.0,\n",
      "        \"partial_unexpected_list\": [],\n",
      "        \"partial_unexpected_counts\": []\n",
      "      },\n",
      "      \"meta\": {},\n",
      "      \"exception_info\": {\n",
      "        \"raised_exception\": false,\n",
      "        \"exception_traceback\": null,\n",
      "        \"exception_message\": null\n",
      "      }\n",
      "    },\n",
      "    {\n",
      "      \"success\": true,\n",
      "      \"expectation_config\": {\n",
      "        \"type\": \"expect_column_max_to_be_between\",\n",
      "        \"kwargs\": {\n",
      "          \"batch_id\": \"sample-bike_rental\",\n",
      "          \"column\": \"total\",\n",
      "          \"min_value\": 574.2,\n",
      "          \"max_value\": 701.8000000000001\n",
      "        },\n",
      "        \"meta\": {},\n",
      "        \"id\": \"86bb3748-0579-48a9-84dd-b946293cb28c\"\n",
      "      },\n",
      "      \"result\": {\n",
      "        \"observed_value\": 651\n",
      "      },\n",
      "      \"meta\": {},\n",
      "      \"exception_info\": {\n",
      "        \"raised_exception\": false,\n",
      "        \"exception_traceback\": null,\n",
      "        \"exception_message\": null\n",
      "      }\n",
      "    },\n",
      "    {\n",
      "      \"success\": true,\n",
      "      \"expectation_config\": {\n",
      "        \"type\": \"expect_column_values_to_not_be_null\",\n",
      "        \"kwargs\": {\n",
      "          \"batch_id\": \"sample-bike_rental\",\n",
      "          \"column\": \"dteday\"\n",
      "        },\n",
      "        \"meta\": {},\n",
      "        \"id\": \"4e9e56c0-529d-4b2d-9782-f82263f40f4f\"\n",
      "      },\n",
      "      \"result\": {\n",
      "        \"element_count\": 4443,\n",
      "        \"unexpected_count\": 0,\n",
      "        \"unexpected_percent\": 0.0,\n",
      "        \"partial_unexpected_list\": [],\n",
      "        \"partial_unexpected_counts\": []\n",
      "      },\n",
      "      \"meta\": {},\n",
      "      \"exception_info\": {\n",
      "        \"raised_exception\": false,\n",
      "        \"exception_traceback\": null,\n",
      "        \"exception_message\": null\n",
      "      }\n",
      "    },\n",
      "    {\n",
      "      \"success\": true,\n",
      "      \"expectation_config\": {\n",
      "        \"type\": \"expect_column_values_to_be_in_set\",\n",
      "        \"kwargs\": {\n",
      "          \"batch_id\": \"sample-bike_rental\",\n",
      "          \"column\": \"season\",\n",
      "          \"value_set\": [\n",
      "            \"Spring\",\n",
      "            \"Summer\"\n",
      "          ]\n",
      "        },\n",
      "        \"meta\": {},\n",
      "        \"id\": \"a3a06857-b5f1-4be2-9224-4cf68453aaa5\"\n",
      "      },\n",
      "      \"result\": {\n",
      "        \"element_count\": 4443,\n",
      "        \"unexpected_count\": 0,\n",
      "        \"unexpected_percent\": 0.0,\n",
      "        \"partial_unexpected_list\": [],\n",
      "        \"missing_count\": 0,\n",
      "        \"missing_percent\": 0.0,\n",
      "        \"unexpected_percent_total\": 0.0,\n",
      "        \"unexpected_percent_nonmissing\": 0.0,\n",
      "        \"partial_unexpected_counts\": []\n",
      "      },\n",
      "      \"meta\": {},\n",
      "      \"exception_info\": {\n",
      "        \"raised_exception\": false,\n",
      "        \"exception_traceback\": null,\n",
      "        \"exception_message\": null\n",
      "      }\n",
      "    }\n",
      "  ],\n",
      "  \"suite_name\": \"summer_suite\",\n",
      "  \"suite_parameters\": {},\n",
      "  \"statistics\": {\n",
      "    \"evaluated_expectations\": 4,\n",
      "    \"successful_expectations\": 4,\n",
      "    \"unsuccessful_expectations\": 0,\n",
      "    \"success_percent\": 100.0\n",
      "  },\n",
      "  \"meta\": {\n",
      "    \"great_expectations_version\": \"1.3.12\",\n",
      "    \"batch_spec\": {\n",
      "      \"type\": \"table\",\n",
      "      \"data_asset_name\": \"bike_rental\",\n",
      "      \"table_name\": \"bike_rental\",\n",
      "      \"schema_name\": null,\n",
      "      \"batch_identifiers\": {}\n",
      "    },\n",
      "    \"batch_markers\": {\n",
      "      \"ge_load_time\": \"20250419T143641.440224Z\"\n",
      "    },\n",
      "    \"active_batch_definition\": {\n",
      "      \"datasource_name\": \"sample\",\n",
      "      \"data_connector_name\": \"fluent\",\n",
      "      \"data_asset_name\": \"bike_rental\",\n",
      "      \"batch_identifiers\": {}\n",
      "    },\n",
      "    \"validation_id\": \"f9b2b81a-2f12-4824-aa7b-f78405af7d2d\",\n",
      "    \"checkpoint_id\": null,\n",
      "    \"run_id\": {\n",
      "      \"run_name\": null,\n",
      "      \"run_time\": \"2025-04-19T16:36:41.503504+02:00\"\n",
      "    },\n",
      "    \"validation_time\": \"2025-04-19T14:36:41.503504+00:00\",\n",
      "    \"batch_parameters\": null\n",
      "  },\n",
      "  \"id\": null\n",
      "}\n"
     ]
    }
   ],
   "source": [
    "# Validate the results by running the validator\n",
    "### SOLUTION_START ###\n",
    "validation_results = validation_def.run()\n",
    "print(validation_results)\n",
    "### SOLUTION_END ###\n",
    "\n",
    "# Hint: Click on open in a text editor to view the whole output"
   ]
  },
  {
   "cell_type": "code",
   "execution_count": null,
   "metadata": {},
   "outputs": [],
   "source": [
    "# Build the visualization file\n",
    "data_doc_dir = gx_context.build_data_docs()['local_site']"
   ]
  },
  {
   "cell_type": "code",
   "execution_count": null,
   "metadata": {},
   "outputs": [
    {
     "name": "stdout",
     "output_type": "stream",
     "text": [
      "Error: Port 8001 is already in use (possibly by another application).\n"
     ]
    }
   ],
   "source": [
    "server_instance = serve_docs(data_doc_dir, port=8001)"
   ]
  },
  {
   "cell_type": "code",
   "execution_count": null,
   "metadata": {},
   "outputs": [
    {
     "ename": "NameError",
     "evalue": "name 'server_thread' is not defined",
     "output_type": "error",
     "traceback": [
      "\u001b[31m---------------------------------------------------------------------------\u001b[39m",
      "\u001b[31mNameError\u001b[39m                                 Traceback (most recent call last)",
      "\u001b[36mCell\u001b[39m\u001b[36m \u001b[39m\u001b[32mIn[30]\u001b[39m\u001b[32m, line 2\u001b[39m\n\u001b[32m      1\u001b[39m \u001b[38;5;28;01mif\u001b[39;00m \u001b[33m'\u001b[39m\u001b[33mserver_instance\u001b[39m\u001b[33m'\u001b[39m \u001b[38;5;129;01min\u001b[39;00m \u001b[38;5;28mlocals\u001b[39m() \u001b[38;5;129;01mand\u001b[39;00m server_instance:\n\u001b[32m----> \u001b[39m\u001b[32m2\u001b[39m     stop_server(server_instance, \u001b[43mserver_thread\u001b[49m)\n\u001b[32m      4\u001b[39m     \u001b[38;5;28;01mdel\u001b[39;00m server_instance\n\u001b[32m      5\u001b[39m \u001b[38;5;28;01melse\u001b[39;00m:\n",
      "\u001b[31mNameError\u001b[39m: name 'server_thread' is not defined"
     ]
    }
   ],
   "source": [
    "if 'server_instance' in locals() and server_instance:\n",
    "    stop_server(server_instance, server_thread)\n",
    "\n",
    "    del server_instance\n",
    "else:\n",
    "    print(\"Server was not started or already stopped.\")"
   ]
  },
  {
   "cell_type": "markdown",
   "metadata": {},
   "source": [
    "# Task 4: Adjust for Autumn "
   ]
  },
  {
   "cell_type": "code",
   "execution_count": null,
   "metadata": {},
   "outputs": [],
   "source": [
    "database.set_step(2)"
   ]
  },
  {
   "cell_type": "code",
   "execution_count": null,
   "metadata": {},
   "outputs": [],
   "source": [
    "# Create a batch definition that specifies which data we want to validate\n",
    "# Here we're selecting the entire table for our first season (spring 2011)\n",
    "full_table_batch_definition = table_data_asset.add_batch_definition_whole_table(\n",
    "    name=\"2_fall_2011\",\n",
    ")\n",
    "\n",
    "# Setup for the batch\n",
    "full_table_batch = full_table_batch_definition.get_batch()"
   ]
  },
  {
   "cell_type": "code",
   "execution_count": null,
   "metadata": {},
   "outputs": [],
   "source": [
    "# Task 7: Let's look at the bike rental trends! \n",
    "# Calculate the current mean of total bike rentals per ***month*** \n",
    "# Hint: the mean can be calculated using avg() in SQL\n",
    "\n",
    "### SOLUTION_START ###\n",
    "query = \"\"\"\n",
    "SELECT mnth, avg(total)\n",
    "FROM bike_rental\n",
    "Group By  mnth\n",
    "\"\"\"\n",
    "### SOLUTION_END ###\n",
    "\n",
    "# Execute the query\n",
    "print(pd.read_sql_query(query, conn))"
   ]
  },
  {
   "cell_type": "markdown",
   "metadata": {},
   "source": [
    "#### Batch Definitions \n",
    "We will now introduce the concept of batch definitions"
   ]
  },
  {
   "cell_type": "code",
   "execution_count": null,
   "metadata": {},
   "outputs": [],
   "source": [
    "suite_name = \"fall_suite\"\n",
    "expectation_suite = gx.ExpectationSuite(name=suite_name)\n",
    "\n",
    "# Second, we add two expectations to the expectation suite\n",
    "expectation_suite.add_expectation(gx.expectations.ExpectColumnValuesToNotBeNull(column = 'total'))\n",
    "expectation_suite.add_expectation(gx.expectations.ExpectColumnValuesToNotBeNull(column = 'dteday'))\n",
    "\n",
    "# Add the suite to the context\n",
    "expectation_suite = gx_context.suites.add(expectation_suite)"
   ]
  },
  {
   "cell_type": "code",
   "execution_count": null,
   "metadata": {},
   "outputs": [],
   "source": [
    "# Now let's define an expected mean per month\n",
    "\n",
    "# Fill in the mean of october\n",
    "### SOLUTION_START ###\n",
    "mean_october = 166\n",
    "### SOLUTION_END ###\n",
    "\n",
    "# We set the expectation of the value range of the mean for october\n",
    "suite_name = \"october_expectation_suite\"\n",
    "\n",
    "# Create the expectation for october\n",
    "expectation_october = gx.expectations.ExpectColumnMeanToBeBetween(\n",
    "    column='total',\n",
    "    min_value=0.8*mean_october,\n",
    "    max_value=1.2*mean_october\n",
    ")\n",
    "\n",
    "# Create the suite and add the expectation\n",
    "expectation_suite = gx.ExpectationSuite(name=suite_name)\n",
    "expectation_suite.add_expectation(expectation_october)\n",
    "\n",
    "# Add the suite to the context\n",
    "expectation_suite = gx_context.suites.add(expectation_suite)\n"
   ]
  },
  {
   "cell_type": "code",
   "execution_count": null,
   "metadata": {},
   "outputs": [],
   "source": [
    "# This expectations needs to be applied to october only\n",
    "# We now introduce the concept of batch definitions\n",
    "# TODO: fix this, the data is not filtered correctly at the moment\n",
    "batch_definition_october = table_data_asset.add_batch_definition(\n",
    "    name=\"october_data\",\n",
    "    batch_kwargs={\n",
    "        \"query\": \"SELECT * FROM bike_rental WHERE mnth = 10\"\n",
    "    }\n",
    ")\n",
    "\n",
    "# Retrieve the batch for October\n",
    "batch_october = batch_definition_october.get_batch()"
   ]
  },
  {
   "cell_type": "code",
   "execution_count": null,
   "metadata": {},
   "outputs": [],
   "source": [
    "# Define the batch\n",
    "batch_def_october = gx_context.get_batch_definition(\n",
    "    batch_kwargs={\"data\": batch_october, \"column_list\": [\"total\"]},\n",
    "    expectation_suite=expectation_suite\n",
    ")"
   ]
  },
  {
   "cell_type": "code",
   "execution_count": null,
   "metadata": {},
   "outputs": [],
   "source": [
    "# Setup the validator \n",
    "validation_name = \"october_validation\"\n",
    "validation_def = gx.ValidationDefinition(\n",
    "    data=batch_def_october,\n",
    "    suite=expectation_suite,\n",
    "    name=validation_name\n",
    ")\n",
    "\n",
    "validation_def = gx_context.validation_definitions.add(validation_def)"
   ]
  },
  {
   "cell_type": "code",
   "execution_count": null,
   "metadata": {},
   "outputs": [],
   "source": [
    "# Run the validation\n",
    "validation_results = validation_def.run()\n",
    "\n",
    "# Build the visualization file\n",
    "data_doc_dir = gx_context.build_data_docs()['local_site']\n",
    "\n",
    "# Serve the .html in the browser\n",
    "# TODO: need to be navigated bac to our directory, if you leave this in, then database.set_step can not find the folder data\n",
    "# serve_docs(data_doc_dir)"
   ]
  },
  {
   "cell_type": "markdown",
   "metadata": {},
   "source": [
    "# Task 5: Check with Winter and set final expectations\n",
    "You can check out all kinds of expectations here: https://greatexpectations.io/expectations/"
   ]
  },
  {
   "cell_type": "code",
   "execution_count": null,
   "metadata": {},
   "outputs": [],
   "source": [
    "# TODO: load new dataset"
   ]
  },
  {
   "cell_type": "code",
   "execution_count": null,
   "metadata": {},
   "outputs": [],
   "source": [
    "# TODO: check the expectations"
   ]
  },
  {
   "cell_type": "code",
   "execution_count": null,
   "metadata": {},
   "outputs": [],
   "source": [
    "# TODO: fix what needs fixing"
   ]
  },
  {
   "cell_type": "code",
   "execution_count": null,
   "metadata": {},
   "outputs": [],
   "source": [
    "# TODO: Maybe add something even more complex?"
   ]
  },
  {
   "cell_type": "code",
   "execution_count": null,
   "metadata": {},
   "outputs": [],
   "source": [
    "# TODO: Recheck the Expectations"
   ]
  },
  {
   "cell_type": "markdown",
   "metadata": {},
   "source": [
    "# Task 6: Verify your data and see if something shifts the next year"
   ]
  },
  {
   "cell_type": "code",
   "execution_count": null,
   "metadata": {},
   "outputs": [],
   "source": [
    "# TODO: load new dataset"
   ]
  },
  {
   "cell_type": "code",
   "execution_count": null,
   "metadata": {},
   "outputs": [],
   "source": [
    "# TODO: check the expectations"
   ]
  },
  {
   "cell_type": "markdown",
   "metadata": {},
   "source": [
    "Discuss these expectations => did you do a good job? What changed? Do you now have confidence in your data foundation for your AI model? Discuss pros and cons of using a Testing Framework!"
   ]
  },
  {
   "cell_type": "markdown",
   "metadata": {},
   "source": [
    "# Task 7: Think about AI Implementation"
   ]
  },
  {
   "cell_type": "markdown",
   "metadata": {},
   "source": [
    "Could you now implement AI to design a flexible pricing model? How would you do it? What is the advantage over doing this by hand?"
   ]
  },
  {
   "cell_type": "code",
   "execution_count": null,
   "metadata": {},
   "outputs": [],
   "source": [
    "# TODO: Make this last part better and more to the point ^^"
   ]
  },
  {
   "cell_type": "markdown",
   "metadata": {},
   "source": [
    "# Cleanup"
   ]
  },
  {
   "cell_type": "code",
   "execution_count": null,
   "metadata": {},
   "outputs": [],
   "source": [
    "# To stop the server when you're done (run this in another cell):\n",
    "# TODO: add function cleanup to utils which calls server.shutdown and cleans other things up if necessary\n",
    "# cleanup()\n",
    "# server.shutdown()"
   ]
  }
 ],
 "metadata": {
  "kernelspec": {
   "display_name": ".venv",
   "language": "python",
   "name": "python3"
  },
  "language_info": {
   "codemirror_mode": {
    "name": "ipython",
    "version": 3
   },
   "file_extension": ".py",
   "mimetype": "text/x-python",
   "name": "python",
   "nbconvert_exporter": "python",
   "pygments_lexer": "ipython3",
   "version": "3.12.7"
  }
 },
 "nbformat": 4,
 "nbformat_minor": 2
}
