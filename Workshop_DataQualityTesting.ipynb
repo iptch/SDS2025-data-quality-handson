{
 "cells": [
  {
   "cell_type": "markdown",
   "metadata": {},
   "source": [
    "# Data Quality Testing - Workshop SDS25"
   ]
  },
  {
   "cell_type": "markdown",
   "metadata": {},
   "source": [
    "## Goal\n",
    "The Goal of this Workshop is gaining hands-on experience in Data Quality assessment, using the Great Expectations Framework. However, the knowledge gained in this Workshop is transferrable to other Testing Frameworks as well. The Data Quality Assessment gives you confidence in the data foundation used in AI."
   ]
  },
  {
   "cell_type": "markdown",
   "metadata": {},
   "source": [
    "## DataSet\n",
    "The DataSet we will be using during this Workshop is the \"Bike Sharing\" Dataset (https://archive.ics.uci.edu/dataset/275/bike+sharing+dataset). It contains aggregated information about bike rental, either per hour or per day, over two years, in Washington D.C.\n",
    "\n",
    "The DataSet was already loaded into the database in this container (database.db). For each set of the exercise, the required data is loaded with a corresponding code cell, so you don't have to worry about it.\n",
    "\n",
    "The Notebook will lead you through the following scenarios:  \n",
    "- Making basic expectations based on Spring Data of the first year\n",
    "- Checking and refining expectations based on added Summar Data of the first year\n",
    "- Same for Autumn, using increasingly complex Expectations\n",
    "- Same for Winter\n",
    "- Finally using the data from year 2 to verify the expectations, identify datashifts etc.\n",
    "\n",
    "In the end, the goal is to have a solid data foundation to implement a flexible pricing system.\n",
    "\n"
   ]
  },
  {
   "cell_type": "markdown",
   "metadata": {},
   "source": [
    "# Task 1: Inspect the DataSet\n",
    "Familiarize yourself with the \"Bike Sharing\" Dataset (https://archive.ics.uci.edu/dataset/275/bike+sharing+dataset). Explore the dataset using the cells below."
   ]
  },
  {
   "cell_type": "code",
   "metadata": {
    "ExecuteTime": {
     "end_time": "2025-04-08T13:46:21.611713Z",
     "start_time": "2025-04-08T13:46:19.977466Z"
    }
   },
   "source": [
    "from great_expectations import ExpectationSuite\n",
    "\n",
    "import database\n",
    "import great_expectations as gx\n",
    "import sqlite3\n",
    "import pandas as pd\n",
    "from checker import check"
   ],
   "outputs": [
    {
     "name": "stderr",
     "output_type": "stream",
     "text": [
      "metric column.standard_deviation.aggregate_fn is being registered with different metric_provider; overwriting metric_provider\n"
     ]
    }
   ],
   "execution_count": 1
  },
  {
   "cell_type": "code",
   "metadata": {
    "ExecuteTime": {
     "end_time": "2025-04-08T13:46:21.641399Z",
     "start_time": "2025-04-08T13:46:21.618880Z"
    }
   },
   "source": [
    "# Initialise the dataset\n",
    "database.init()\n",
    "\n",
    "conn = sqlite3.connect('database.db')"
   ],
   "outputs": [
    {
     "name": "stderr",
     "output_type": "stream",
     "text": [
      "\u001B[32m2025-04-08 15:46:21.622\u001B[0m | \u001B[1mINFO    \u001B[0m | \u001B[36mdatabase\u001B[0m:\u001B[36mreset_database\u001B[0m:\u001B[36m54\u001B[0m - \u001B[1mDatabase reset completed\u001B[0m\n",
      "\u001B[32m2025-04-08 15:46:21.622\u001B[0m | \u001B[1mINFO    \u001B[0m | \u001B[36mdatabase\u001B[0m:\u001B[36minit\u001B[0m:\u001B[36m142\u001B[0m - \u001B[1mInitializing database to step 0: 0_spring_2011\u001B[0m\n",
      "\u001B[32m2025-04-08 15:46:21.624\u001B[0m | \u001B[1mINFO    \u001B[0m | \u001B[36mdatabase\u001B[0m:\u001B[36mapply_migration\u001B[0m:\u001B[36m88\u001B[0m - \u001B[1mMigration 0_create_table.sql from 0_spring_2011 - Successfully applied\u001B[0m\n",
      "\u001B[32m2025-04-08 15:46:21.639\u001B[0m | \u001B[1mINFO    \u001B[0m | \u001B[36mdatabase\u001B[0m:\u001B[36mapply_migration\u001B[0m:\u001B[36m88\u001B[0m - \u001B[1mMigration 1_bike_rental_2011_spring.sql from 0_spring_2011 - Successfully applied\u001B[0m\n"
     ]
    }
   ],
   "execution_count": 2
  },
  {
   "cell_type": "code",
   "metadata": {
    "ExecuteTime": {
     "end_time": "2025-04-08T13:46:21.730160Z",
     "start_time": "2025-04-08T13:46:21.721015Z"
    }
   },
   "source": [
    "# Set the context for great expectations (the data set)\n",
    "context = gx.get_context()\n",
    "\n",
    "data_source = context.data_sources.add_sqlite(\"sample\", connection_string=\"sqlite:///database.db\")"
   ],
   "outputs": [],
   "execution_count": 3
  },
  {
   "cell_type": "code",
   "metadata": {
    "ExecuteTime": {
     "end_time": "2025-04-08T13:46:21.740556Z",
     "start_time": "2025-04-08T13:46:21.734912Z"
    }
   },
   "source": [
    "# Get the batch\n",
    "asset_name = \"bike_rental\"\n",
    "database_table_name = \"bike_rental\"\n",
    "table_data_asset = data_source.add_table_asset(\n",
    "    table_name=database_table_name, name=asset_name\n",
    ")\n",
    "\n",
    "full_table_batch_definition = table_data_asset.add_batch_definition_whole_table(\n",
    "    name=\"0_spring_2011\",\n",
    ")\n"
   ],
   "outputs": [],
   "execution_count": 4
  },
  {
   "cell_type": "code",
   "metadata": {
    "ExecuteTime": {
     "end_time": "2025-04-08T13:46:21.746660Z",
     "start_time": "2025-04-08T13:46:21.745259Z"
    }
   },
   "source": [
    "# TODO: fix something in database, atemp, humidity and weathersit are None, also the year is None => probably integer and double values were not transported correctly?"
   ],
   "outputs": [],
   "execution_count": 5
  },
  {
   "cell_type": "code",
   "metadata": {
    "ExecuteTime": {
     "end_time": "2025-04-08T13:46:21.786803Z",
     "start_time": "2025-04-08T13:46:21.751435Z"
    }
   },
   "source": [
    "full_table_batch = full_table_batch_definition.get_batch()\n",
    "full_table_batch.head()\n"
   ],
   "outputs": [
    {
     "data": {
      "text/plain": [
       "Calculating Metrics:   0%|          | 0/1 [00:00<?, ?it/s]"
      ],
      "application/vnd.jupyter.widget-view+json": {
       "version_major": 2,
       "version_minor": 0,
       "model_id": "1dbbb12c77ff4484b0e66bfb1126b2a9"
      }
     },
     "metadata": {},
     "output_type": "display_data"
    },
    {
     "data": {
      "text/plain": [
       "     id      dteday  season    yr  mnth  hour  holiday weekday  workingday  \\\n",
       "0  1808  2011-03-21  Spring  None     3     0        0  Monday           1   \n",
       "1  1809  2011-03-21  Spring  None     3     1        0  Monday           1   \n",
       "2  1810  2011-03-21  Spring  None     3     2        0  Monday           1   \n",
       "3  1811  2011-03-21  Spring  None     3     3        0  Monday           1   \n",
       "4  1812  2011-03-21  Spring  None     3     5        0  Monday           1   \n",
       "\n",
       "  weathersit  ...  atemp   hum windspeed  casual  registered  total  \\\n",
       "0       None  ...   None  None   26.0027       2          11     13   \n",
       "1       None  ...   None  None   26.0027       1           6      7   \n",
       "2       None  ...   None  None   22.0028       1           5      6   \n",
       "3       None  ...   None  None   22.0028       0           1      1   \n",
       "4       None  ...   None  None   19.9995       1           1      2   \n",
       "\n",
       "   felt_temp  humidity  year weather  \n",
       "0      3.998      66.0  2011     Bad  \n",
       "1      3.998      71.0  2011    Okay  \n",
       "2      3.998      71.0  2011    Okay  \n",
       "3      3.998      71.0  2011    Okay  \n",
       "4      3.998      81.0  2011    Good  \n",
       "\n",
       "[5 rows x 21 columns]"
      ]
     },
     "execution_count": 6,
     "metadata": {},
     "output_type": "execute_result"
    }
   ],
   "execution_count": 6
  },
  {
   "cell_type": "code",
   "metadata": {
    "ExecuteTime": {
     "end_time": "2025-04-08T13:46:21.808430Z",
     "start_time": "2025-04-08T13:46:21.798401Z"
    }
   },
   "source": [
    "# Read the data from the database using SQL\n",
    "query = \"\"\"\n",
    "SELECT * FROM bike_rental\n",
    "WHERE casual = 2\n",
    "\"\"\"\n",
    "\n",
    "pd.read_sql_query(query, conn)"
   ],
   "outputs": [
    {
     "data": {
      "text/plain": [
       "      id      dteday  season    yr  mnth  hour  holiday    weekday  \\\n",
       "0   1808  2011-03-21  Spring  None     3     0        0     Monday   \n",
       "1   1813  2011-03-21  Spring  None     3     6        0     Monday   \n",
       "2   1837  2011-03-22  Spring  None     3     6        0    Tuesday   \n",
       "3   1877  2011-03-23  Spring  None     3    23        0  Wednesday   \n",
       "4   1885  2011-03-24  Spring  None     3     7        0   Thursday   \n",
       "..   ...         ...     ...   ...   ...   ...      ...        ...   \n",
       "81  3824  2011-06-13  Spring  None     6     5        0     Monday   \n",
       "82  3845  2011-06-14  Spring  None     6     2        0    Tuesday   \n",
       "83  3914  2011-06-16  Spring  None     6    23        0   Thursday   \n",
       "84  3917  2011-06-17  Spring  None     6     2        0     Friday   \n",
       "85  3989  2011-06-20  Spring  None     6     2        0     Monday   \n",
       "\n",
       "    workingday weathersit  ...  atemp   hum windspeed  casual  registered  \\\n",
       "0            1       None  ...   None  None   26.0027       2          11   \n",
       "1            1       None  ...   None  None   16.9979       2          30   \n",
       "2            1       None  ...   None  None   16.9979       2          58   \n",
       "3            1       None  ...   None  None    0.0000       2          24   \n",
       "4            1       None  ...   None  None   15.0013       2         106   \n",
       "..         ...        ...  ...    ...   ...       ...     ...         ...   \n",
       "81           1       None  ...   None  None   26.0027       2          27   \n",
       "82           1       None  ...   None  None   19.0012       2           8   \n",
       "83           1       None  ...   None  None   16.9979       2          14   \n",
       "84           1       None  ...   None  None    7.0015       2          11   \n",
       "85           1       None  ...   None  None    6.0032       2           0   \n",
       "\n",
       "    total  felt_temp  humidity  year weather  \n",
       "0      13     3.9980      66.0  2011     Bad  \n",
       "1      32     3.9980      76.0  2011     Bad  \n",
       "2      60    11.0006      87.0  2011    Good  \n",
       "3      26     5.9978      90.0  2011     Bad  \n",
       "4     108     1.0016     100.0  2011     Bad  \n",
       "..    ...        ...       ...   ...     ...  \n",
       "81     29    18.0032      64.0  2011    Good  \n",
       "82     10    24.9992      49.0  2011    Good  \n",
       "83     16    20.9996      83.0  2011     Bad  \n",
       "84     13    18.9998      94.0  2011    Good  \n",
       "85      2    22.0028      89.0  2011    Good  \n",
       "\n",
       "[86 rows x 21 columns]"
      ],
      "text/html": [
       "<div>\n",
       "<style scoped>\n",
       "    .dataframe tbody tr th:only-of-type {\n",
       "        vertical-align: middle;\n",
       "    }\n",
       "\n",
       "    .dataframe tbody tr th {\n",
       "        vertical-align: top;\n",
       "    }\n",
       "\n",
       "    .dataframe thead th {\n",
       "        text-align: right;\n",
       "    }\n",
       "</style>\n",
       "<table border=\"1\" class=\"dataframe\">\n",
       "  <thead>\n",
       "    <tr style=\"text-align: right;\">\n",
       "      <th></th>\n",
       "      <th>id</th>\n",
       "      <th>dteday</th>\n",
       "      <th>season</th>\n",
       "      <th>yr</th>\n",
       "      <th>mnth</th>\n",
       "      <th>hour</th>\n",
       "      <th>holiday</th>\n",
       "      <th>weekday</th>\n",
       "      <th>workingday</th>\n",
       "      <th>weathersit</th>\n",
       "      <th>...</th>\n",
       "      <th>atemp</th>\n",
       "      <th>hum</th>\n",
       "      <th>windspeed</th>\n",
       "      <th>casual</th>\n",
       "      <th>registered</th>\n",
       "      <th>total</th>\n",
       "      <th>felt_temp</th>\n",
       "      <th>humidity</th>\n",
       "      <th>year</th>\n",
       "      <th>weather</th>\n",
       "    </tr>\n",
       "  </thead>\n",
       "  <tbody>\n",
       "    <tr>\n",
       "      <th>0</th>\n",
       "      <td>1808</td>\n",
       "      <td>2011-03-21</td>\n",
       "      <td>Spring</td>\n",
       "      <td>None</td>\n",
       "      <td>3</td>\n",
       "      <td>0</td>\n",
       "      <td>0</td>\n",
       "      <td>Monday</td>\n",
       "      <td>1</td>\n",
       "      <td>None</td>\n",
       "      <td>...</td>\n",
       "      <td>None</td>\n",
       "      <td>None</td>\n",
       "      <td>26.0027</td>\n",
       "      <td>2</td>\n",
       "      <td>11</td>\n",
       "      <td>13</td>\n",
       "      <td>3.9980</td>\n",
       "      <td>66.0</td>\n",
       "      <td>2011</td>\n",
       "      <td>Bad</td>\n",
       "    </tr>\n",
       "    <tr>\n",
       "      <th>1</th>\n",
       "      <td>1813</td>\n",
       "      <td>2011-03-21</td>\n",
       "      <td>Spring</td>\n",
       "      <td>None</td>\n",
       "      <td>3</td>\n",
       "      <td>6</td>\n",
       "      <td>0</td>\n",
       "      <td>Monday</td>\n",
       "      <td>1</td>\n",
       "      <td>None</td>\n",
       "      <td>...</td>\n",
       "      <td>None</td>\n",
       "      <td>None</td>\n",
       "      <td>16.9979</td>\n",
       "      <td>2</td>\n",
       "      <td>30</td>\n",
       "      <td>32</td>\n",
       "      <td>3.9980</td>\n",
       "      <td>76.0</td>\n",
       "      <td>2011</td>\n",
       "      <td>Bad</td>\n",
       "    </tr>\n",
       "    <tr>\n",
       "      <th>2</th>\n",
       "      <td>1837</td>\n",
       "      <td>2011-03-22</td>\n",
       "      <td>Spring</td>\n",
       "      <td>None</td>\n",
       "      <td>3</td>\n",
       "      <td>6</td>\n",
       "      <td>0</td>\n",
       "      <td>Tuesday</td>\n",
       "      <td>1</td>\n",
       "      <td>None</td>\n",
       "      <td>...</td>\n",
       "      <td>None</td>\n",
       "      <td>None</td>\n",
       "      <td>16.9979</td>\n",
       "      <td>2</td>\n",
       "      <td>58</td>\n",
       "      <td>60</td>\n",
       "      <td>11.0006</td>\n",
       "      <td>87.0</td>\n",
       "      <td>2011</td>\n",
       "      <td>Good</td>\n",
       "    </tr>\n",
       "    <tr>\n",
       "      <th>3</th>\n",
       "      <td>1877</td>\n",
       "      <td>2011-03-23</td>\n",
       "      <td>Spring</td>\n",
       "      <td>None</td>\n",
       "      <td>3</td>\n",
       "      <td>23</td>\n",
       "      <td>0</td>\n",
       "      <td>Wednesday</td>\n",
       "      <td>1</td>\n",
       "      <td>None</td>\n",
       "      <td>...</td>\n",
       "      <td>None</td>\n",
       "      <td>None</td>\n",
       "      <td>0.0000</td>\n",
       "      <td>2</td>\n",
       "      <td>24</td>\n",
       "      <td>26</td>\n",
       "      <td>5.9978</td>\n",
       "      <td>90.0</td>\n",
       "      <td>2011</td>\n",
       "      <td>Bad</td>\n",
       "    </tr>\n",
       "    <tr>\n",
       "      <th>4</th>\n",
       "      <td>1885</td>\n",
       "      <td>2011-03-24</td>\n",
       "      <td>Spring</td>\n",
       "      <td>None</td>\n",
       "      <td>3</td>\n",
       "      <td>7</td>\n",
       "      <td>0</td>\n",
       "      <td>Thursday</td>\n",
       "      <td>1</td>\n",
       "      <td>None</td>\n",
       "      <td>...</td>\n",
       "      <td>None</td>\n",
       "      <td>None</td>\n",
       "      <td>15.0013</td>\n",
       "      <td>2</td>\n",
       "      <td>106</td>\n",
       "      <td>108</td>\n",
       "      <td>1.0016</td>\n",
       "      <td>100.0</td>\n",
       "      <td>2011</td>\n",
       "      <td>Bad</td>\n",
       "    </tr>\n",
       "    <tr>\n",
       "      <th>...</th>\n",
       "      <td>...</td>\n",
       "      <td>...</td>\n",
       "      <td>...</td>\n",
       "      <td>...</td>\n",
       "      <td>...</td>\n",
       "      <td>...</td>\n",
       "      <td>...</td>\n",
       "      <td>...</td>\n",
       "      <td>...</td>\n",
       "      <td>...</td>\n",
       "      <td>...</td>\n",
       "      <td>...</td>\n",
       "      <td>...</td>\n",
       "      <td>...</td>\n",
       "      <td>...</td>\n",
       "      <td>...</td>\n",
       "      <td>...</td>\n",
       "      <td>...</td>\n",
       "      <td>...</td>\n",
       "      <td>...</td>\n",
       "      <td>...</td>\n",
       "    </tr>\n",
       "    <tr>\n",
       "      <th>81</th>\n",
       "      <td>3824</td>\n",
       "      <td>2011-06-13</td>\n",
       "      <td>Spring</td>\n",
       "      <td>None</td>\n",
       "      <td>6</td>\n",
       "      <td>5</td>\n",
       "      <td>0</td>\n",
       "      <td>Monday</td>\n",
       "      <td>1</td>\n",
       "      <td>None</td>\n",
       "      <td>...</td>\n",
       "      <td>None</td>\n",
       "      <td>None</td>\n",
       "      <td>26.0027</td>\n",
       "      <td>2</td>\n",
       "      <td>27</td>\n",
       "      <td>29</td>\n",
       "      <td>18.0032</td>\n",
       "      <td>64.0</td>\n",
       "      <td>2011</td>\n",
       "      <td>Good</td>\n",
       "    </tr>\n",
       "    <tr>\n",
       "      <th>82</th>\n",
       "      <td>3845</td>\n",
       "      <td>2011-06-14</td>\n",
       "      <td>Spring</td>\n",
       "      <td>None</td>\n",
       "      <td>6</td>\n",
       "      <td>2</td>\n",
       "      <td>0</td>\n",
       "      <td>Tuesday</td>\n",
       "      <td>1</td>\n",
       "      <td>None</td>\n",
       "      <td>...</td>\n",
       "      <td>None</td>\n",
       "      <td>None</td>\n",
       "      <td>19.0012</td>\n",
       "      <td>2</td>\n",
       "      <td>8</td>\n",
       "      <td>10</td>\n",
       "      <td>24.9992</td>\n",
       "      <td>49.0</td>\n",
       "      <td>2011</td>\n",
       "      <td>Good</td>\n",
       "    </tr>\n",
       "    <tr>\n",
       "      <th>83</th>\n",
       "      <td>3914</td>\n",
       "      <td>2011-06-16</td>\n",
       "      <td>Spring</td>\n",
       "      <td>None</td>\n",
       "      <td>6</td>\n",
       "      <td>23</td>\n",
       "      <td>0</td>\n",
       "      <td>Thursday</td>\n",
       "      <td>1</td>\n",
       "      <td>None</td>\n",
       "      <td>...</td>\n",
       "      <td>None</td>\n",
       "      <td>None</td>\n",
       "      <td>16.9979</td>\n",
       "      <td>2</td>\n",
       "      <td>14</td>\n",
       "      <td>16</td>\n",
       "      <td>20.9996</td>\n",
       "      <td>83.0</td>\n",
       "      <td>2011</td>\n",
       "      <td>Bad</td>\n",
       "    </tr>\n",
       "    <tr>\n",
       "      <th>84</th>\n",
       "      <td>3917</td>\n",
       "      <td>2011-06-17</td>\n",
       "      <td>Spring</td>\n",
       "      <td>None</td>\n",
       "      <td>6</td>\n",
       "      <td>2</td>\n",
       "      <td>0</td>\n",
       "      <td>Friday</td>\n",
       "      <td>1</td>\n",
       "      <td>None</td>\n",
       "      <td>...</td>\n",
       "      <td>None</td>\n",
       "      <td>None</td>\n",
       "      <td>7.0015</td>\n",
       "      <td>2</td>\n",
       "      <td>11</td>\n",
       "      <td>13</td>\n",
       "      <td>18.9998</td>\n",
       "      <td>94.0</td>\n",
       "      <td>2011</td>\n",
       "      <td>Good</td>\n",
       "    </tr>\n",
       "    <tr>\n",
       "      <th>85</th>\n",
       "      <td>3989</td>\n",
       "      <td>2011-06-20</td>\n",
       "      <td>Spring</td>\n",
       "      <td>None</td>\n",
       "      <td>6</td>\n",
       "      <td>2</td>\n",
       "      <td>0</td>\n",
       "      <td>Monday</td>\n",
       "      <td>1</td>\n",
       "      <td>None</td>\n",
       "      <td>...</td>\n",
       "      <td>None</td>\n",
       "      <td>None</td>\n",
       "      <td>6.0032</td>\n",
       "      <td>2</td>\n",
       "      <td>0</td>\n",
       "      <td>2</td>\n",
       "      <td>22.0028</td>\n",
       "      <td>89.0</td>\n",
       "      <td>2011</td>\n",
       "      <td>Good</td>\n",
       "    </tr>\n",
       "  </tbody>\n",
       "</table>\n",
       "<p>86 rows × 21 columns</p>\n",
       "</div>"
      ]
     },
     "execution_count": 7,
     "metadata": {},
     "output_type": "execute_result"
    }
   ],
   "execution_count": 7
  },
  {
   "cell_type": "markdown",
   "metadata": {},
   "source": [
    "# Task 2: Set Expectations for the Spring Data\n",
    "Now that you explored the dataset, it is time to set up your first expectations (exciting!)"
   ]
  },
  {
   "cell_type": "markdown",
   "metadata": {},
   "source": [
    "# TODO: add some basics expectations as a markdown for example"
   ]
  },
  {
   "cell_type": "code",
   "metadata": {
    "ExecuteTime": {
     "end_time": "2025-04-08T13:46:21.851074Z",
     "start_time": "2025-04-08T13:46:21.830999Z"
    }
   },
   "source": [
    "# Task 1: Check if the season is Spring\n",
    "\n",
    "# Setup a new expectation, we will use this to check if the season is Spring\n",
    "season_expectation = gx.expectations.ExpectColumnValuesToBeInSet(\n",
    "    column=\"season\",\n",
    "    value_set=[\"Spring\"],\n",
    ")\n",
    "\n",
    "result = full_table_batch.validate(season_expectation, result_format=\"COMPLETE\")\n",
    "check(task=1, result=result)"
   ],
   "outputs": [
    {
     "data": {
      "text/plain": [
       "Calculating Metrics:   0%|          | 0/13 [00:00<?, ?it/s]"
      ],
      "application/vnd.jupyter.widget-view+json": {
       "version_major": 2,
       "version_minor": 0,
       "model_id": "eb78d2e90221488695b71e21f9f40f09"
      }
     },
     "metadata": {},
     "output_type": "display_data"
    },
    {
     "name": "stderr",
     "output_type": "stream",
     "text": [
      "\u001B[32m2025-04-08 15:46:21.849\u001B[0m | \u001B[32m\u001B[1mSUCCESS \u001B[0m | \u001B[36mchecker\u001B[0m:\u001B[36mcheck\u001B[0m:\u001B[36m21\u001B[0m - \u001B[32m\u001B[1mGreat job! The result is as expected.\u001B[0m\n"
     ]
    }
   ],
   "execution_count": 8
  },
  {
   "cell_type": "code",
   "metadata": {
    "ExecuteTime": {
     "end_time": "2025-04-08T13:46:21.922669Z",
     "start_time": "2025-04-08T13:46:21.920483Z"
    }
   },
   "source": [
    "# TODO: make them set one expectation for another datatype themselves"
   ],
   "outputs": [],
   "execution_count": 9
  },
  {
   "cell_type": "code",
   "metadata": {
    "ExecuteTime": {
     "end_time": "2025-04-08T13:46:21.954136Z",
     "start_time": "2025-04-08T13:46:21.952255Z"
    }
   },
   "source": [
    "# TODO: add expectations of maximum bike rentals according to the max today + 50 or so"
   ],
   "outputs": [],
   "execution_count": 10
  },
  {
   "cell_type": "code",
   "metadata": {
    "ExecuteTime": {
     "end_time": "2025-04-08T13:46:21.991780Z",
     "start_time": "2025-04-08T13:46:21.989815Z"
    }
   },
   "source": [
    "# TODO: set expectation for correlation of rising temperatures to rising bike rentals"
   ],
   "outputs": [],
   "execution_count": 11
  },
  {
   "cell_type": "code",
   "metadata": {
    "ExecuteTime": {
     "end_time": "2025-04-08T13:46:21.999720Z",
     "start_time": "2025-04-08T13:46:21.998014Z"
    }
   },
   "source": [
    "# TODO: check the expectations"
   ],
   "outputs": [],
   "execution_count": 12
  },
  {
   "cell_type": "markdown",
   "metadata": {},
   "source": [
    "But, you didn't come to this Workshop just to see a fancy way of doing exactly the same as your basic unit test is doing, so let's get into more complex stuff"
   ]
  },
  {
   "cell_type": "markdown",
   "metadata": {},
   "source": [
    "# Task 3: Adjust and Set New Expectations for the Summer Data"
   ]
  },
  {
   "cell_type": "code",
   "metadata": {
    "ExecuteTime": {
     "end_time": "2025-04-08T13:46:22.007300Z",
     "start_time": "2025-04-08T13:46:22.005778Z"
    }
   },
   "source": [
    "# TODO: load the summer dataset"
   ],
   "outputs": [],
   "execution_count": 13
  },
  {
   "cell_type": "code",
   "metadata": {
    "ExecuteTime": {
     "end_time": "2025-04-08T13:46:22.015025Z",
     "start_time": "2025-04-08T13:46:22.012897Z"
    }
   },
   "source": [
    "# TODO: run the expectations for that new dataset and look at the output"
   ],
   "outputs": [],
   "execution_count": 14
  },
  {
   "cell_type": "markdown",
   "metadata": {},
   "source": [
    "## Excursion: Data Docs"
   ]
  },
  {
   "cell_type": "code",
   "metadata": {
    "ExecuteTime": {
     "end_time": "2025-04-08T13:46:22.024118Z",
     "start_time": "2025-04-08T13:46:22.021977Z"
    }
   },
   "source": [
    "# TODO: explain data docs and how it works"
   ],
   "outputs": [],
   "execution_count": 15
  },
  {
   "cell_type": "code",
   "metadata": {
    "ExecuteTime": {
     "end_time": "2025-04-08T13:46:22.032641Z",
     "start_time": "2025-04-08T13:46:22.030810Z"
    }
   },
   "source": [
    "# TODO: generate the data docs"
   ],
   "outputs": [],
   "execution_count": 16
  },
  {
   "cell_type": "code",
   "metadata": {
    "ExecuteTime": {
     "end_time": "2025-04-08T13:46:22.043124Z",
     "start_time": "2025-04-08T13:46:22.040106Z"
    }
   },
   "source": [
    "# TODO: look at the data docs"
   ],
   "outputs": [],
   "execution_count": 17
  },
  {
   "cell_type": "markdown",
   "metadata": {},
   "source": [
    "## Back To Business"
   ]
  },
  {
   "cell_type": "code",
   "metadata": {
    "ExecuteTime": {
     "end_time": "2025-04-08T13:46:22.052094Z",
     "start_time": "2025-04-08T13:46:22.049630Z"
    }
   },
   "source": [
    "# TODO: refine the expectations"
   ],
   "outputs": [],
   "execution_count": 18
  },
  {
   "cell_type": "code",
   "metadata": {
    "ExecuteTime": {
     "end_time": "2025-04-08T13:46:22.065449Z",
     "start_time": "2025-04-08T13:46:22.063226Z"
    }
   },
   "source": [
    "# TODO: add more complex expectations (give them a list of suggestions again)"
   ],
   "outputs": [],
   "execution_count": 19
  },
  {
   "cell_type": "code",
   "metadata": {
    "ExecuteTime": {
     "end_time": "2025-04-08T13:46:22.086123Z",
     "start_time": "2025-04-08T13:46:22.084029Z"
    }
   },
   "source": [
    "# TODO: add a fun expectation, that expects bike rentals to rise, because they have risen before"
   ],
   "outputs": [],
   "execution_count": 20
  },
  {
   "cell_type": "code",
   "metadata": {
    "ExecuteTime": {
     "end_time": "2025-04-08T13:46:22.095651Z",
     "start_time": "2025-04-08T13:46:22.094354Z"
    }
   },
   "source": [
    "# TODO: check the expectations"
   ],
   "outputs": [],
   "execution_count": 21
  },
  {
   "cell_type": "markdown",
   "metadata": {},
   "source": [
    "# Task 4: Adjust for Autumn "
   ]
  },
  {
   "cell_type": "code",
   "metadata": {
    "ExecuteTime": {
     "end_time": "2025-04-08T13:46:22.100305Z",
     "start_time": "2025-04-08T13:46:22.098334Z"
    }
   },
   "source": [
    "# TODO: load new dataset"
   ],
   "outputs": [],
   "execution_count": 22
  },
  {
   "cell_type": "code",
   "metadata": {
    "ExecuteTime": {
     "end_time": "2025-04-08T13:46:22.107435Z",
     "start_time": "2025-04-08T13:46:22.106041Z"
    }
   },
   "source": [
    "# TODO: check the expectations"
   ],
   "outputs": [],
   "execution_count": 23
  },
  {
   "cell_type": "code",
   "metadata": {
    "ExecuteTime": {
     "end_time": "2025-04-08T13:46:22.113829Z",
     "start_time": "2025-04-08T13:46:22.112265Z"
    }
   },
   "source": [
    "# TODO: fix what needs fixing"
   ],
   "outputs": [],
   "execution_count": 24
  },
  {
   "cell_type": "code",
   "metadata": {
    "ExecuteTime": {
     "end_time": "2025-04-08T13:46:22.120870Z",
     "start_time": "2025-04-08T13:46:22.119385Z"
    }
   },
   "source": [
    "# TODO: Maybe add something even more complex?"
   ],
   "outputs": [],
   "execution_count": 25
  },
  {
   "cell_type": "code",
   "metadata": {
    "ExecuteTime": {
     "end_time": "2025-04-08T13:46:22.131821Z",
     "start_time": "2025-04-08T13:46:22.130468Z"
    }
   },
   "source": [
    "# TODO: Recheck the Expectations"
   ],
   "outputs": [],
   "execution_count": 26
  },
  {
   "cell_type": "markdown",
   "metadata": {},
   "source": [
    "# Task 5: Check with Winter and set final expectations\n",
    "You can check out all kinds of expectations here: https://greatexpectations.io/expectations/"
   ]
  },
  {
   "cell_type": "code",
   "metadata": {
    "ExecuteTime": {
     "end_time": "2025-04-08T13:46:22.144356Z",
     "start_time": "2025-04-08T13:46:22.142997Z"
    }
   },
   "source": [
    "# TODO: load new dataset"
   ],
   "outputs": [],
   "execution_count": 27
  },
  {
   "cell_type": "code",
   "metadata": {
    "ExecuteTime": {
     "end_time": "2025-04-08T13:46:22.147148Z",
     "start_time": "2025-04-08T13:46:22.145920Z"
    }
   },
   "source": [
    "# TODO: check the expectations"
   ],
   "outputs": [],
   "execution_count": 28
  },
  {
   "cell_type": "code",
   "metadata": {
    "ExecuteTime": {
     "end_time": "2025-04-08T13:46:22.153554Z",
     "start_time": "2025-04-08T13:46:22.152070Z"
    }
   },
   "source": [
    "# TODO: fix what needs fixing"
   ],
   "outputs": [],
   "execution_count": 29
  },
  {
   "cell_type": "code",
   "metadata": {
    "ExecuteTime": {
     "end_time": "2025-04-08T13:46:22.160869Z",
     "start_time": "2025-04-08T13:46:22.158635Z"
    }
   },
   "source": [
    "# TODO: Maybe add something even more complex?"
   ],
   "outputs": [],
   "execution_count": 30
  },
  {
   "cell_type": "code",
   "metadata": {
    "ExecuteTime": {
     "end_time": "2025-04-08T13:46:22.168231Z",
     "start_time": "2025-04-08T13:46:22.166636Z"
    }
   },
   "source": [
    "# TODO: Recheck the Expectations"
   ],
   "outputs": [],
   "execution_count": 31
  },
  {
   "cell_type": "markdown",
   "metadata": {},
   "source": [
    "# Task 6: Verify your data and see if something shifts the next year"
   ]
  },
  {
   "cell_type": "code",
   "metadata": {
    "ExecuteTime": {
     "end_time": "2025-04-08T13:46:22.176090Z",
     "start_time": "2025-04-08T13:46:22.174389Z"
    }
   },
   "source": [
    "# TODO: load new dataset"
   ],
   "outputs": [],
   "execution_count": 32
  },
  {
   "cell_type": "code",
   "metadata": {
    "ExecuteTime": {
     "end_time": "2025-04-08T13:46:22.182483Z",
     "start_time": "2025-04-08T13:46:22.180977Z"
    }
   },
   "source": [
    "# TODO: check the expectations"
   ],
   "outputs": [],
   "execution_count": 33
  },
  {
   "cell_type": "markdown",
   "metadata": {},
   "source": [
    "Discuss these expectations => did you do a good job? What changed? Do you now have confidence in your data foundation for your AI model? Discuss pros and cons of using a Testing Framework!"
   ]
  },
  {
   "cell_type": "markdown",
   "metadata": {},
   "source": [
    "# Task 7: Think about AI Implementation"
   ]
  },
  {
   "cell_type": "markdown",
   "metadata": {},
   "source": [
    "Could you now implement AI to design a flexible pricing model? How would you do it? What is the advantage over doing this by hand?"
   ]
  },
  {
   "cell_type": "code",
   "metadata": {
    "ExecuteTime": {
     "end_time": "2025-04-08T13:46:22.190121Z",
     "start_time": "2025-04-08T13:46:22.187786Z"
    }
   },
   "source": [
    "# TODO: Make this last part better and more to the point ^^"
   ],
   "outputs": [],
   "execution_count": 34
  },
  {
   "cell_type": "code",
   "metadata": {
    "ExecuteTime": {
     "end_time": "2025-04-08T13:46:22.196241Z",
     "start_time": "2025-04-08T13:46:22.194967Z"
    }
   },
   "source": [],
   "outputs": [],
   "execution_count": null
  }
 ],
 "metadata": {
  "kernelspec": {
   "display_name": ".venv",
   "language": "python",
   "name": "python3"
  },
  "language_info": {
   "codemirror_mode": {
    "name": "ipython",
    "version": 3
   },
   "file_extension": ".py",
   "mimetype": "text/x-python",
   "name": "python",
   "nbconvert_exporter": "python",
   "pygments_lexer": "ipython3",
   "version": "3.12.7"
  }
 },
 "nbformat": 4,
 "nbformat_minor": 2
}
