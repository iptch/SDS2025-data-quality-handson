{
 "cells": [
  {
   "cell_type": "markdown",
   "metadata": {},
   "source": [
    "# Data Quality Testing - Workshop SDS25"
   ]
  },
  {
   "cell_type": "markdown",
   "metadata": {},
   "source": [
    "## Goal\n",
    "The Goal of this Workshop is gaining hands-on experience in Data Quality assessment, using the Great Expectations Framework. However, the knowledge gained in this Workshop is transferrable to other Testing Frameworks as well. The Data Quality Assessment gives you confidence in the data foundation used in AI."
   ]
  },
  {
   "cell_type": "markdown",
   "metadata": {},
   "source": [
    "## DataSet\n",
    "The DataSet we will be using during this Workshop is the \"Bike Sharing\" Dataset (https://archive.ics.uci.edu/dataset/275/bike+sharing+dataset). It contains aggregated information about bike rental, either per hour or per day, over two years, in Washington D.C.\n",
    "\n",
    "The DataSet was already loaded into the database in this container (database.db). For each set of the exercise, the required data is loaded with a corresponding code cell, so you don't have to worry about it.\n",
    "\n",
    "The Notebook will lead you through the following scenarios:  \n",
    "- Making basic expectations based on Spring Data of the first year\n",
    "- Checking and refining expectations based on added Summar Data of the first year\n",
    "- Same for Autumn, using increasingly complex Expectations\n",
    "- Same for Winter\n",
    "- Finally using the data from year 2 to verify the expectations, identify datashifts etc.\n",
    "\n",
    "In the end, the goal is to have a solid data foundation to implement a flexible pricing system.\n",
    "\n"
   ]
  },
  {
   "cell_type": "markdown",
   "metadata": {},
   "source": [
    "# Task 1: Inspect the DataSet\n",
    "Familiarize yourself with the \"Bike Sharing\" Dataset (https://archive.ics.uci.edu/dataset/275/bike+sharing+dataset). Explore the dataset using the cells below."
   ]
  },
  {
   "cell_type": "code",
   "execution_count": 15,
   "metadata": {},
   "outputs": [],
   "source": [
    "import database\n",
    "import great_expectations as gx\n",
    "import sqlite3\n",
    "import pandas as pd"
   ]
  },
  {
   "cell_type": "code",
   "execution_count": 17,
   "metadata": {},
   "outputs": [
    {
     "name": "stdout",
     "output_type": "stream",
     "text": [
      "Database reset completed\n",
      "Initializing database to step 0: 0_spring_2011\n",
      "Migration 0_create_table.sql from 0_spring_2011 - Successfully applied\n",
      "Migration 1_bike_rental_2011_spring.sql from 0_spring_2011 - Successfully applied\n"
     ]
    },
    {
     "data": {
      "text/html": [
       "<div>\n",
       "<style scoped>\n",
       "    .dataframe tbody tr th:only-of-type {\n",
       "        vertical-align: middle;\n",
       "    }\n",
       "\n",
       "    .dataframe tbody tr th {\n",
       "        vertical-align: top;\n",
       "    }\n",
       "\n",
       "    .dataframe thead th {\n",
       "        text-align: right;\n",
       "    }\n",
       "</style>\n",
       "<table border=\"1\" class=\"dataframe\">\n",
       "  <thead>\n",
       "    <tr style=\"text-align: right;\">\n",
       "      <th></th>\n",
       "      <th>id</th>\n",
       "      <th>dteday</th>\n",
       "      <th>season</th>\n",
       "      <th>yr</th>\n",
       "      <th>mnth</th>\n",
       "      <th>hour</th>\n",
       "      <th>holiday</th>\n",
       "      <th>weekday</th>\n",
       "      <th>workingday</th>\n",
       "      <th>weathersit</th>\n",
       "      <th>...</th>\n",
       "      <th>atemp</th>\n",
       "      <th>hum</th>\n",
       "      <th>windspeed</th>\n",
       "      <th>casual</th>\n",
       "      <th>registered</th>\n",
       "      <th>total</th>\n",
       "      <th>felt_temp</th>\n",
       "      <th>humidity</th>\n",
       "      <th>year</th>\n",
       "      <th>weather</th>\n",
       "    </tr>\n",
       "  </thead>\n",
       "  <tbody>\n",
       "    <tr>\n",
       "      <th>0</th>\n",
       "      <td>1808</td>\n",
       "      <td>2011-03-21</td>\n",
       "      <td>Spring</td>\n",
       "      <td>None</td>\n",
       "      <td>3</td>\n",
       "      <td>0</td>\n",
       "      <td>0</td>\n",
       "      <td>Monday</td>\n",
       "      <td>1</td>\n",
       "      <td>None</td>\n",
       "      <td>...</td>\n",
       "      <td>None</td>\n",
       "      <td>None</td>\n",
       "      <td>26.0027</td>\n",
       "      <td>2</td>\n",
       "      <td>11</td>\n",
       "      <td>13</td>\n",
       "      <td>3.9980</td>\n",
       "      <td>66.0</td>\n",
       "      <td>2011</td>\n",
       "      <td>Bad</td>\n",
       "    </tr>\n",
       "    <tr>\n",
       "      <th>1</th>\n",
       "      <td>1809</td>\n",
       "      <td>2011-03-21</td>\n",
       "      <td>Spring</td>\n",
       "      <td>None</td>\n",
       "      <td>3</td>\n",
       "      <td>1</td>\n",
       "      <td>0</td>\n",
       "      <td>Monday</td>\n",
       "      <td>1</td>\n",
       "      <td>None</td>\n",
       "      <td>...</td>\n",
       "      <td>None</td>\n",
       "      <td>None</td>\n",
       "      <td>26.0027</td>\n",
       "      <td>1</td>\n",
       "      <td>6</td>\n",
       "      <td>7</td>\n",
       "      <td>3.9980</td>\n",
       "      <td>71.0</td>\n",
       "      <td>2011</td>\n",
       "      <td>Okay</td>\n",
       "    </tr>\n",
       "    <tr>\n",
       "      <th>2</th>\n",
       "      <td>1810</td>\n",
       "      <td>2011-03-21</td>\n",
       "      <td>Spring</td>\n",
       "      <td>None</td>\n",
       "      <td>3</td>\n",
       "      <td>2</td>\n",
       "      <td>0</td>\n",
       "      <td>Monday</td>\n",
       "      <td>1</td>\n",
       "      <td>None</td>\n",
       "      <td>...</td>\n",
       "      <td>None</td>\n",
       "      <td>None</td>\n",
       "      <td>22.0028</td>\n",
       "      <td>1</td>\n",
       "      <td>5</td>\n",
       "      <td>6</td>\n",
       "      <td>3.9980</td>\n",
       "      <td>71.0</td>\n",
       "      <td>2011</td>\n",
       "      <td>Okay</td>\n",
       "    </tr>\n",
       "    <tr>\n",
       "      <th>3</th>\n",
       "      <td>1811</td>\n",
       "      <td>2011-03-21</td>\n",
       "      <td>Spring</td>\n",
       "      <td>None</td>\n",
       "      <td>3</td>\n",
       "      <td>3</td>\n",
       "      <td>0</td>\n",
       "      <td>Monday</td>\n",
       "      <td>1</td>\n",
       "      <td>None</td>\n",
       "      <td>...</td>\n",
       "      <td>None</td>\n",
       "      <td>None</td>\n",
       "      <td>22.0028</td>\n",
       "      <td>0</td>\n",
       "      <td>1</td>\n",
       "      <td>1</td>\n",
       "      <td>3.9980</td>\n",
       "      <td>71.0</td>\n",
       "      <td>2011</td>\n",
       "      <td>Okay</td>\n",
       "    </tr>\n",
       "    <tr>\n",
       "      <th>4</th>\n",
       "      <td>1812</td>\n",
       "      <td>2011-03-21</td>\n",
       "      <td>Spring</td>\n",
       "      <td>None</td>\n",
       "      <td>3</td>\n",
       "      <td>5</td>\n",
       "      <td>0</td>\n",
       "      <td>Monday</td>\n",
       "      <td>1</td>\n",
       "      <td>None</td>\n",
       "      <td>...</td>\n",
       "      <td>None</td>\n",
       "      <td>None</td>\n",
       "      <td>19.9995</td>\n",
       "      <td>1</td>\n",
       "      <td>1</td>\n",
       "      <td>2</td>\n",
       "      <td>3.9980</td>\n",
       "      <td>81.0</td>\n",
       "      <td>2011</td>\n",
       "      <td>Good</td>\n",
       "    </tr>\n",
       "    <tr>\n",
       "      <th>...</th>\n",
       "      <td>...</td>\n",
       "      <td>...</td>\n",
       "      <td>...</td>\n",
       "      <td>...</td>\n",
       "      <td>...</td>\n",
       "      <td>...</td>\n",
       "      <td>...</td>\n",
       "      <td>...</td>\n",
       "      <td>...</td>\n",
       "      <td>...</td>\n",
       "      <td>...</td>\n",
       "      <td>...</td>\n",
       "      <td>...</td>\n",
       "      <td>...</td>\n",
       "      <td>...</td>\n",
       "      <td>...</td>\n",
       "      <td>...</td>\n",
       "      <td>...</td>\n",
       "      <td>...</td>\n",
       "      <td>...</td>\n",
       "      <td>...</td>\n",
       "    </tr>\n",
       "    <tr>\n",
       "      <th>2198</th>\n",
       "      <td>4006</td>\n",
       "      <td>2011-06-20</td>\n",
       "      <td>Spring</td>\n",
       "      <td>None</td>\n",
       "      <td>6</td>\n",
       "      <td>19</td>\n",
       "      <td>0</td>\n",
       "      <td>Monday</td>\n",
       "      <td>1</td>\n",
       "      <td>None</td>\n",
       "      <td>...</td>\n",
       "      <td>None</td>\n",
       "      <td>None</td>\n",
       "      <td>15.0013</td>\n",
       "      <td>62</td>\n",
       "      <td>369</td>\n",
       "      <td>431</td>\n",
       "      <td>24.9992</td>\n",
       "      <td>65.0</td>\n",
       "      <td>2011</td>\n",
       "      <td>Good</td>\n",
       "    </tr>\n",
       "    <tr>\n",
       "      <th>2199</th>\n",
       "      <td>4007</td>\n",
       "      <td>2011-06-20</td>\n",
       "      <td>Spring</td>\n",
       "      <td>None</td>\n",
       "      <td>6</td>\n",
       "      <td>20</td>\n",
       "      <td>0</td>\n",
       "      <td>Monday</td>\n",
       "      <td>1</td>\n",
       "      <td>None</td>\n",
       "      <td>...</td>\n",
       "      <td>None</td>\n",
       "      <td>None</td>\n",
       "      <td>15.0013</td>\n",
       "      <td>52</td>\n",
       "      <td>264</td>\n",
       "      <td>316</td>\n",
       "      <td>24.9992</td>\n",
       "      <td>69.0</td>\n",
       "      <td>2011</td>\n",
       "      <td>Good</td>\n",
       "    </tr>\n",
       "    <tr>\n",
       "      <th>2200</th>\n",
       "      <td>4008</td>\n",
       "      <td>2011-06-20</td>\n",
       "      <td>Spring</td>\n",
       "      <td>None</td>\n",
       "      <td>6</td>\n",
       "      <td>21</td>\n",
       "      <td>0</td>\n",
       "      <td>Monday</td>\n",
       "      <td>1</td>\n",
       "      <td>None</td>\n",
       "      <td>...</td>\n",
       "      <td>None</td>\n",
       "      <td>None</td>\n",
       "      <td>11.0014</td>\n",
       "      <td>39</td>\n",
       "      <td>167</td>\n",
       "      <td>206</td>\n",
       "      <td>24.0026</td>\n",
       "      <td>73.0</td>\n",
       "      <td>2011</td>\n",
       "      <td>Good</td>\n",
       "    </tr>\n",
       "    <tr>\n",
       "      <th>2201</th>\n",
       "      <td>4009</td>\n",
       "      <td>2011-06-20</td>\n",
       "      <td>Spring</td>\n",
       "      <td>None</td>\n",
       "      <td>6</td>\n",
       "      <td>22</td>\n",
       "      <td>0</td>\n",
       "      <td>Monday</td>\n",
       "      <td>1</td>\n",
       "      <td>None</td>\n",
       "      <td>...</td>\n",
       "      <td>None</td>\n",
       "      <td>None</td>\n",
       "      <td>15.0013</td>\n",
       "      <td>24</td>\n",
       "      <td>106</td>\n",
       "      <td>130</td>\n",
       "      <td>24.0026</td>\n",
       "      <td>73.0</td>\n",
       "      <td>2011</td>\n",
       "      <td>Okay</td>\n",
       "    </tr>\n",
       "    <tr>\n",
       "      <th>2202</th>\n",
       "      <td>4010</td>\n",
       "      <td>2011-06-20</td>\n",
       "      <td>Spring</td>\n",
       "      <td>None</td>\n",
       "      <td>6</td>\n",
       "      <td>23</td>\n",
       "      <td>0</td>\n",
       "      <td>Monday</td>\n",
       "      <td>1</td>\n",
       "      <td>None</td>\n",
       "      <td>...</td>\n",
       "      <td>None</td>\n",
       "      <td>None</td>\n",
       "      <td>16.9979</td>\n",
       "      <td>10</td>\n",
       "      <td>50</td>\n",
       "      <td>60</td>\n",
       "      <td>22.9994</td>\n",
       "      <td>78.0</td>\n",
       "      <td>2011</td>\n",
       "      <td>Good</td>\n",
       "    </tr>\n",
       "  </tbody>\n",
       "</table>\n",
       "<p>2203 rows × 21 columns</p>\n",
       "</div>"
      ],
      "text/plain": [
       "        id      dteday  season    yr  mnth  hour  holiday weekday  workingday  \\\n",
       "0     1808  2011-03-21  Spring  None     3     0        0  Monday           1   \n",
       "1     1809  2011-03-21  Spring  None     3     1        0  Monday           1   \n",
       "2     1810  2011-03-21  Spring  None     3     2        0  Monday           1   \n",
       "3     1811  2011-03-21  Spring  None     3     3        0  Monday           1   \n",
       "4     1812  2011-03-21  Spring  None     3     5        0  Monday           1   \n",
       "...    ...         ...     ...   ...   ...   ...      ...     ...         ...   \n",
       "2198  4006  2011-06-20  Spring  None     6    19        0  Monday           1   \n",
       "2199  4007  2011-06-20  Spring  None     6    20        0  Monday           1   \n",
       "2200  4008  2011-06-20  Spring  None     6    21        0  Monday           1   \n",
       "2201  4009  2011-06-20  Spring  None     6    22        0  Monday           1   \n",
       "2202  4010  2011-06-20  Spring  None     6    23        0  Monday           1   \n",
       "\n",
       "     weathersit  ...  atemp   hum windspeed  casual  registered  total  \\\n",
       "0          None  ...   None  None   26.0027       2          11     13   \n",
       "1          None  ...   None  None   26.0027       1           6      7   \n",
       "2          None  ...   None  None   22.0028       1           5      6   \n",
       "3          None  ...   None  None   22.0028       0           1      1   \n",
       "4          None  ...   None  None   19.9995       1           1      2   \n",
       "...         ...  ...    ...   ...       ...     ...         ...    ...   \n",
       "2198       None  ...   None  None   15.0013      62         369    431   \n",
       "2199       None  ...   None  None   15.0013      52         264    316   \n",
       "2200       None  ...   None  None   11.0014      39         167    206   \n",
       "2201       None  ...   None  None   15.0013      24         106    130   \n",
       "2202       None  ...   None  None   16.9979      10          50     60   \n",
       "\n",
       "      felt_temp  humidity  year weather  \n",
       "0        3.9980      66.0  2011     Bad  \n",
       "1        3.9980      71.0  2011    Okay  \n",
       "2        3.9980      71.0  2011    Okay  \n",
       "3        3.9980      71.0  2011    Okay  \n",
       "4        3.9980      81.0  2011    Good  \n",
       "...         ...       ...   ...     ...  \n",
       "2198    24.9992      65.0  2011    Good  \n",
       "2199    24.9992      69.0  2011    Good  \n",
       "2200    24.0026      73.0  2011    Good  \n",
       "2201    24.0026      73.0  2011    Okay  \n",
       "2202    22.9994      78.0  2011    Good  \n",
       "\n",
       "[2203 rows x 21 columns]"
      ]
     },
     "execution_count": 17,
     "metadata": {},
     "output_type": "execute_result"
    }
   ],
   "source": [
    "# Initialise the dataset\n",
    "database.init()\n",
    "\n",
    "conn = sqlite3.connect('database.db')\n",
    "\n",
    "\n",
    "pd.read_sql_query(\"SELECT * FROM bike_rental;\", conn)"
   ]
  },
  {
   "cell_type": "code",
   "execution_count": 3,
   "metadata": {},
   "outputs": [],
   "source": [
    "# Set the context for great expectations (the data set)\n",
    "context = gx.get_context()\n",
    "\n",
    "data_source = context.data_sources.add_sqlite(\"sample\", connection_string=\"sqlite:///database.db\")"
   ]
  },
  {
   "cell_type": "code",
   "execution_count": 4,
   "metadata": {},
   "outputs": [],
   "source": [
    "# Get the batch\n",
    "asset_name = \"bike_rental\"\n",
    "database_table_name = \"bike_rental\"\n",
    "table_data_asset = data_source.add_table_asset(\n",
    "    table_name=database_table_name, name=asset_name\n",
    ")\n",
    "\n",
    "full_table_batch_definition = table_data_asset.add_batch_definition_whole_table(\n",
    "    name=\"0_spring_2011\",\n",
    ")\n"
   ]
  },
  {
   "cell_type": "code",
   "execution_count": 5,
   "metadata": {},
   "outputs": [],
   "source": [
    "# TODO: fix something in database, atemp, humidity and weathersit are None, also the year is None => probably integer and double values were not transported correctly?"
   ]
  },
  {
   "cell_type": "code",
   "execution_count": 6,
   "metadata": {},
   "outputs": [
    {
     "data": {
      "application/vnd.jupyter.widget-view+json": {
       "model_id": "a12f6805ecc04a1c8e731c673edd952a",
       "version_major": 2,
       "version_minor": 0
      },
      "text/plain": [
       "Calculating Metrics:   0%|          | 0/1 [00:00<?, ?it/s]"
      ]
     },
     "metadata": {},
     "output_type": "display_data"
    },
    {
     "data": {
      "text/plain": [
       "     id      dteday  season    yr  mnth  hour  holiday weekday  workingday  \\\n",
       "0  1808  2011-03-21  Spring  None     3     0        0  Monday           1   \n",
       "1  1809  2011-03-21  Spring  None     3     1        0  Monday           1   \n",
       "2  1810  2011-03-21  Spring  None     3     2        0  Monday           1   \n",
       "3  1811  2011-03-21  Spring  None     3     3        0  Monday           1   \n",
       "4  1812  2011-03-21  Spring  None     3     5        0  Monday           1   \n",
       "\n",
       "  weathersit  ...  atemp   hum windspeed  casual  registered  total  \\\n",
       "0       None  ...   None  None   26.0027       2          11     13   \n",
       "1       None  ...   None  None   26.0027       1           6      7   \n",
       "2       None  ...   None  None   22.0028       1           5      6   \n",
       "3       None  ...   None  None   22.0028       0           1      1   \n",
       "4       None  ...   None  None   19.9995       1           1      2   \n",
       "\n",
       "   felt_temp  humidity  year weather  \n",
       "0      3.998      66.0  2011     Bad  \n",
       "1      3.998      71.0  2011    Okay  \n",
       "2      3.998      71.0  2011    Okay  \n",
       "3      3.998      71.0  2011    Okay  \n",
       "4      3.998      81.0  2011    Good  \n",
       "\n",
       "[5 rows x 21 columns]"
      ]
     },
     "execution_count": 6,
     "metadata": {},
     "output_type": "execute_result"
    }
   ],
   "source": [
    "full_table_batch = full_table_batch_definition.get_batch()\n",
    "full_table_batch.head()\n"
   ]
  },
  {
   "cell_type": "code",
   "execution_count": null,
   "metadata": {},
   "outputs": [],
   "source": [
    "# TODO: add some sql queries to show the user how to interact with the data"
   ]
  },
  {
   "cell_type": "markdown",
   "metadata": {},
   "source": [
    "# Task 2: Set Expectations for the Spring Data\n",
    "Now that you explored the dataset, it is time to set up your first expectations (exciting!)"
   ]
  },
  {
   "cell_type": "code",
   "execution_count": null,
   "metadata": {},
   "outputs": [],
   "source": [
    "# TODO: add some basics expectations as a markdown for example"
   ]
  },
  {
   "cell_type": "code",
   "execution_count": null,
   "metadata": {},
   "outputs": [],
   "source": [
    "# TODO: give one example of how to set expectations for a datatype"
   ]
  },
  {
   "cell_type": "code",
   "execution_count": null,
   "metadata": {},
   "outputs": [],
   "source": [
    "# TODO: make them set one expectation for another datatype themselves"
   ]
  },
  {
   "cell_type": "code",
   "execution_count": null,
   "metadata": {},
   "outputs": [],
   "source": [
    "# TODO: add expectations of maximum bike rentals according to the max today + 50 or so"
   ]
  },
  {
   "cell_type": "code",
   "execution_count": null,
   "metadata": {},
   "outputs": [],
   "source": [
    "# TODO: set expectation for correlation of rising temperatures to rising bike rentals"
   ]
  },
  {
   "cell_type": "code",
   "execution_count": null,
   "metadata": {},
   "outputs": [],
   "source": [
    "# TODO: check the expectations"
   ]
  },
  {
   "cell_type": "markdown",
   "metadata": {},
   "source": [
    "But, you didn't come to this Workshop just to see a fancy way of doing exactly the same as your basic unit test is doing, so let's get into more complex stuff"
   ]
  },
  {
   "cell_type": "markdown",
   "metadata": {},
   "source": [
    "# Task 3: Adjust and Set New Expectations for the Summer Data"
   ]
  },
  {
   "cell_type": "code",
   "execution_count": null,
   "metadata": {},
   "outputs": [],
   "source": [
    "# TODO: load the summer dataset"
   ]
  },
  {
   "cell_type": "code",
   "execution_count": null,
   "metadata": {},
   "outputs": [],
   "source": [
    "# TODO: run the expectations for that new dataset and look at the output"
   ]
  },
  {
   "cell_type": "markdown",
   "metadata": {},
   "source": [
    "## Excursion: Data Docs"
   ]
  },
  {
   "cell_type": "code",
   "execution_count": null,
   "metadata": {},
   "outputs": [],
   "source": [
    "# TODO: explain data docs and how it works"
   ]
  },
  {
   "cell_type": "code",
   "execution_count": null,
   "metadata": {},
   "outputs": [],
   "source": [
    "# TODO: generate the data docs"
   ]
  },
  {
   "cell_type": "code",
   "execution_count": null,
   "metadata": {},
   "outputs": [],
   "source": [
    "# TODO: look at the data docs"
   ]
  },
  {
   "cell_type": "markdown",
   "metadata": {},
   "source": [
    "## Back To Business"
   ]
  },
  {
   "cell_type": "code",
   "execution_count": 6,
   "metadata": {},
   "outputs": [],
   "source": [
    "# TODO: refine the expectations"
   ]
  },
  {
   "cell_type": "code",
   "execution_count": 7,
   "metadata": {},
   "outputs": [],
   "source": [
    "# TODO: add more complex expectations (give them a list of suggestions again)"
   ]
  },
  {
   "cell_type": "code",
   "execution_count": null,
   "metadata": {},
   "outputs": [],
   "source": [
    "# TODO: add a fun expectation, that expects bike rentals to rise, because they have risen before"
   ]
  },
  {
   "cell_type": "code",
   "execution_count": 8,
   "metadata": {},
   "outputs": [],
   "source": [
    "# TODO: check the expectations"
   ]
  },
  {
   "cell_type": "markdown",
   "metadata": {},
   "source": [
    "# Task 4: Adjust for Autumn "
   ]
  },
  {
   "cell_type": "code",
   "execution_count": null,
   "metadata": {},
   "outputs": [],
   "source": [
    "# TODO: load new dataset"
   ]
  },
  {
   "cell_type": "code",
   "execution_count": null,
   "metadata": {},
   "outputs": [],
   "source": [
    "# TODO: check the expectations"
   ]
  },
  {
   "cell_type": "code",
   "execution_count": null,
   "metadata": {},
   "outputs": [],
   "source": [
    "# TODO: fix what needs fixing"
   ]
  },
  {
   "cell_type": "code",
   "execution_count": null,
   "metadata": {},
   "outputs": [],
   "source": [
    "# TODO: Maybe add something even more complex?"
   ]
  },
  {
   "cell_type": "code",
   "execution_count": null,
   "metadata": {},
   "outputs": [],
   "source": [
    "# TODO: Recheck the Expectations"
   ]
  },
  {
   "cell_type": "markdown",
   "metadata": {},
   "source": [
    "# Task 5: Check with Winter and set final expectations\n",
    "You can check out all kinds of expectations here: https://greatexpectations.io/expectations/"
   ]
  },
  {
   "cell_type": "code",
   "execution_count": null,
   "metadata": {},
   "outputs": [],
   "source": [
    "# TODO: load new dataset"
   ]
  },
  {
   "cell_type": "code",
   "execution_count": null,
   "metadata": {},
   "outputs": [],
   "source": [
    "# TODO: check the expectations"
   ]
  },
  {
   "cell_type": "code",
   "execution_count": null,
   "metadata": {},
   "outputs": [],
   "source": [
    "# TODO: fix what needs fixing"
   ]
  },
  {
   "cell_type": "code",
   "execution_count": null,
   "metadata": {},
   "outputs": [],
   "source": [
    "# TODO: Maybe add something even more complex?"
   ]
  },
  {
   "cell_type": "code",
   "execution_count": null,
   "metadata": {},
   "outputs": [],
   "source": [
    "# TODO: Recheck the Expectations"
   ]
  },
  {
   "cell_type": "markdown",
   "metadata": {},
   "source": [
    "# Task 6: Verify your data and see if something shifts the next year"
   ]
  },
  {
   "cell_type": "code",
   "execution_count": null,
   "metadata": {},
   "outputs": [],
   "source": [
    "# TODO: load new dataset"
   ]
  },
  {
   "cell_type": "code",
   "execution_count": null,
   "metadata": {},
   "outputs": [],
   "source": [
    "# TODO: check the expectations"
   ]
  },
  {
   "cell_type": "markdown",
   "metadata": {},
   "source": [
    "Discuss these expectations => did you do a good job? What changed? Do you now have confidence in your data foundation for your AI model? Discuss pros and cons of using a Testing Framework!"
   ]
  },
  {
   "cell_type": "markdown",
   "metadata": {},
   "source": [
    "# Task 7: Think about AI Implementation"
   ]
  },
  {
   "cell_type": "markdown",
   "metadata": {},
   "source": [
    "Could you now implement AI to design a flexible pricing model? How would you do it? What is the advantage over doing this by hand?"
   ]
  },
  {
   "cell_type": "code",
   "execution_count": 9,
   "metadata": {},
   "outputs": [],
   "source": [
    "# TODO: Make this last part better and more to the point ^^"
   ]
  },
  {
   "cell_type": "code",
   "execution_count": null,
   "metadata": {},
   "outputs": [],
   "source": []
  }
 ],
 "metadata": {
  "kernelspec": {
   "display_name": ".venv",
   "language": "python",
   "name": "python3"
  },
  "language_info": {
   "codemirror_mode": {
    "name": "ipython",
    "version": 3
   },
   "file_extension": ".py",
   "mimetype": "text/x-python",
   "name": "python",
   "nbconvert_exporter": "python",
   "pygments_lexer": "ipython3",
   "version": "3.12.9"
  }
 },
 "nbformat": 4,
 "nbformat_minor": 2
}
