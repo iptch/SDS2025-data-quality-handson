{
 "cells": [
  {
   "cell_type": "markdown",
   "metadata": {},
   "source": [
    "# Data Quality Testing - Workshop SDS25"
   ]
  },
  {
   "cell_type": "markdown",
   "metadata": {},
   "source": [
    "## Goal\n",
    "The Goal of this Workshop is gaining hands-on experience in Data Quality assessment, using the Great Expectations Framework. However, the knowledge gained in this Workshop is transferrable to other Testing Frameworks as well. The Data Quality Assessment gives you confidence in the data foundation used in AI."
   ]
  },
  {
   "cell_type": "markdown",
   "metadata": {},
   "source": [
    "## DataSet\n",
    "The DataSet we will be using during this Workshop is the \"Bike Sharing\" Dataset (https://archive.ics.uci.edu/dataset/275/bike+sharing+dataset). It contains aggregated information about bike rental, either per hour or per day, over two years, in Washington D.C.\n",
    "\n",
    "The DataSet was already loaded into the database in this container (database.db). For each set of the exercise, the required data is loaded with a corresponding code cell, so you don't have to worry about it.\n",
    "\n",
    "The Notebook will lead you through the following scenarios:  \n",
    "- Making basic expectations based on Spring Data of the first year\n",
    "- Checking and refining expectations based on added Summar Data of the first year\n",
    "- Same for Autumn, using increasingly complex Expectations\n",
    "- Same for Winter\n",
    "- Finally using the data from year 2 to verify the expectations, identify datashifts etc.\n",
    "\n",
    "In the end, the goal is to have a solid data foundation to implement a flexible pricing system.\n",
    "\n"
   ]
  },
  {
   "cell_type": "markdown",
   "metadata": {},
   "source": [
    "# Task 1: Inspect the DataSet\n",
    "Familiarize yourself with the \"Bike Sharing\" Dataset (https://archive.ics.uci.edu/dataset/275/bike+sharing+dataset). Explore the dataset using the cells below."
   ]
  },
  {
   "cell_type": "code",
   "execution_count": 1,
   "metadata": {},
   "outputs": [
    {
     "name": "stderr",
     "output_type": "stream",
     "text": [
      "metric column.standard_deviation.aggregate_fn is being registered with different metric_provider; overwriting metric_provider\n"
     ]
    }
   ],
   "source": [
    "import database\n",
    "import great_expectations as gx\n",
    "import sqlite3\n",
    "import pandas as pd"
   ]
  },
  {
   "cell_type": "code",
   "execution_count": 18,
   "metadata": {},
   "outputs": [
    {
     "name": "stderr",
     "output_type": "stream",
     "text": [
      "\u001b[32m2025-04-08 15:08:57.530\u001b[0m | \u001b[1mINFO    \u001b[0m | \u001b[36mdatabase\u001b[0m:\u001b[36mreset_database\u001b[0m:\u001b[36m54\u001b[0m - \u001b[1mDatabase reset completed\u001b[0m\n",
      "\u001b[32m2025-04-08 15:08:57.531\u001b[0m | \u001b[1mINFO    \u001b[0m | \u001b[36mdatabase\u001b[0m:\u001b[36minit\u001b[0m:\u001b[36m142\u001b[0m - \u001b[1mInitializing database to step 0: 0_spring_2011\u001b[0m\n"
     ]
    },
    {
     "name": "stderr",
     "output_type": "stream",
     "text": [
      "\u001b[32m2025-04-08 15:08:57.533\u001b[0m | \u001b[1mINFO    \u001b[0m | \u001b[36mdatabase\u001b[0m:\u001b[36mapply_migration\u001b[0m:\u001b[36m88\u001b[0m - \u001b[1mMigration 0_create_table.sql from 0_spring_2011 - Successfully applied\u001b[0m\n",
      "\u001b[32m2025-04-08 15:08:57.552\u001b[0m | \u001b[1mINFO    \u001b[0m | \u001b[36mdatabase\u001b[0m:\u001b[36mapply_migration\u001b[0m:\u001b[36m88\u001b[0m - \u001b[1mMigration 1_bike_rental_2011_spring.sql from 0_spring_2011 - Successfully applied\u001b[0m\n"
     ]
    }
   ],
   "source": [
    "# Initialise the dataset\n",
    "database.init()\n",
    "\n",
    "conn = sqlite3.connect('database.db')"
   ]
  },
  {
   "cell_type": "code",
   "execution_count": 15,
   "metadata": {},
   "outputs": [
    {
     "name": "stderr",
     "output_type": "stream",
     "text": [
      "\u001b[32m2025-04-08 15:07:25.024\u001b[0m | \u001b[1mINFO    \u001b[0m | \u001b[36mdatabase\u001b[0m:\u001b[36mset_step\u001b[0m:\u001b[36m221\u001b[0m - \u001b[1mProcessing directory: 0_spring_2011\u001b[0m\n",
      "\u001b[32m2025-04-08 15:07:25.026\u001b[0m | \u001b[34m\u001b[1mDEBUG   \u001b[0m | \u001b[36mdatabase\u001b[0m:\u001b[36mset_step\u001b[0m:\u001b[36m228\u001b[0m - \u001b[34m\u001b[1mSkipping 0_create_table.sql (already applied)\u001b[0m\n",
      "\u001b[32m2025-04-08 15:07:25.026\u001b[0m | \u001b[34m\u001b[1mDEBUG   \u001b[0m | \u001b[36mdatabase\u001b[0m:\u001b[36mset_step\u001b[0m:\u001b[36m228\u001b[0m - \u001b[34m\u001b[1mSkipping 1_bike_rental_2011_spring.sql (already applied)\u001b[0m\n",
      "\u001b[32m2025-04-08 15:07:25.027\u001b[0m | \u001b[1mINFO    \u001b[0m | \u001b[36mdatabase\u001b[0m:\u001b[36mset_step\u001b[0m:\u001b[36m221\u001b[0m - \u001b[1mProcessing directory: 1_summer_2011\u001b[0m\n",
      "\u001b[32m2025-04-08 15:07:25.028\u001b[0m | \u001b[34m\u001b[1mDEBUG   \u001b[0m | \u001b[36mdatabase\u001b[0m:\u001b[36mset_step\u001b[0m:\u001b[36m228\u001b[0m - \u001b[34m\u001b[1mSkipping 0_bike_rental_2011_summer.sql (already applied)\u001b[0m\n",
      "\u001b[32m2025-04-08 15:07:25.030\u001b[0m | \u001b[1mINFO    \u001b[0m | \u001b[36mdatabase\u001b[0m:\u001b[36mset_step\u001b[0m:\u001b[36m221\u001b[0m - \u001b[1mProcessing directory: 2_fall_2011\u001b[0m\n",
      "\u001b[32m2025-04-08 15:07:25.031\u001b[0m | \u001b[34m\u001b[1mDEBUG   \u001b[0m | \u001b[36mdatabase\u001b[0m:\u001b[36mset_step\u001b[0m:\u001b[36m228\u001b[0m - \u001b[34m\u001b[1mSkipping 0_bike_rental_2011_fall.sql (already applied)\u001b[0m\n",
      "\u001b[32m2025-04-08 15:07:25.032\u001b[0m | \u001b[1mINFO    \u001b[0m | \u001b[36mdatabase\u001b[0m:\u001b[36mset_step\u001b[0m:\u001b[36m221\u001b[0m - \u001b[1mProcessing directory: 3_winter_2011\u001b[0m\n",
      "\u001b[32m2025-04-08 15:07:25.033\u001b[0m | \u001b[34m\u001b[1mDEBUG   \u001b[0m | \u001b[36mdatabase\u001b[0m:\u001b[36mset_step\u001b[0m:\u001b[36m228\u001b[0m - \u001b[34m\u001b[1mSkipping 0_bike_rental_2011_winter.sql (already applied)\u001b[0m\n"
     ]
    },
    {
     "data": {
      "text/html": [
       "<div>\n",
       "<style scoped>\n",
       "    .dataframe tbody tr th:only-of-type {\n",
       "        vertical-align: middle;\n",
       "    }\n",
       "\n",
       "    .dataframe tbody tr th {\n",
       "        vertical-align: top;\n",
       "    }\n",
       "\n",
       "    .dataframe thead th {\n",
       "        text-align: right;\n",
       "    }\n",
       "</style>\n",
       "<table border=\"1\" class=\"dataframe\">\n",
       "  <thead>\n",
       "    <tr style=\"text-align: right;\">\n",
       "      <th></th>\n",
       "      <th>id</th>\n",
       "      <th>dteday</th>\n",
       "      <th>season</th>\n",
       "      <th>yr</th>\n",
       "      <th>mnth</th>\n",
       "      <th>hour</th>\n",
       "      <th>holiday</th>\n",
       "      <th>weekday</th>\n",
       "      <th>workingday</th>\n",
       "      <th>weathersit</th>\n",
       "      <th>...</th>\n",
       "      <th>atemp</th>\n",
       "      <th>hum</th>\n",
       "      <th>windspeed</th>\n",
       "      <th>casual</th>\n",
       "      <th>registered</th>\n",
       "      <th>total</th>\n",
       "      <th>felt_temp</th>\n",
       "      <th>humidity</th>\n",
       "      <th>year</th>\n",
       "      <th>weather</th>\n",
       "    </tr>\n",
       "  </thead>\n",
       "  <tbody>\n",
       "    <tr>\n",
       "      <th>0</th>\n",
       "      <td>1808</td>\n",
       "      <td>2011-03-21</td>\n",
       "      <td>Spring</td>\n",
       "      <td>None</td>\n",
       "      <td>3</td>\n",
       "      <td>0</td>\n",
       "      <td>0</td>\n",
       "      <td>Monday</td>\n",
       "      <td>1</td>\n",
       "      <td>None</td>\n",
       "      <td>...</td>\n",
       "      <td>None</td>\n",
       "      <td>None</td>\n",
       "      <td>26.0027</td>\n",
       "      <td>2</td>\n",
       "      <td>11</td>\n",
       "      <td>13</td>\n",
       "      <td>3.9980</td>\n",
       "      <td>66.0</td>\n",
       "      <td>2011</td>\n",
       "      <td>Bad</td>\n",
       "    </tr>\n",
       "    <tr>\n",
       "      <th>1</th>\n",
       "      <td>1809</td>\n",
       "      <td>2011-03-21</td>\n",
       "      <td>Spring</td>\n",
       "      <td>None</td>\n",
       "      <td>3</td>\n",
       "      <td>1</td>\n",
       "      <td>0</td>\n",
       "      <td>Monday</td>\n",
       "      <td>1</td>\n",
       "      <td>None</td>\n",
       "      <td>...</td>\n",
       "      <td>None</td>\n",
       "      <td>None</td>\n",
       "      <td>26.0027</td>\n",
       "      <td>1</td>\n",
       "      <td>6</td>\n",
       "      <td>7</td>\n",
       "      <td>3.9980</td>\n",
       "      <td>71.0</td>\n",
       "      <td>2011</td>\n",
       "      <td>Okay</td>\n",
       "    </tr>\n",
       "    <tr>\n",
       "      <th>2</th>\n",
       "      <td>1810</td>\n",
       "      <td>2011-03-21</td>\n",
       "      <td>Spring</td>\n",
       "      <td>None</td>\n",
       "      <td>3</td>\n",
       "      <td>2</td>\n",
       "      <td>0</td>\n",
       "      <td>Monday</td>\n",
       "      <td>1</td>\n",
       "      <td>None</td>\n",
       "      <td>...</td>\n",
       "      <td>None</td>\n",
       "      <td>None</td>\n",
       "      <td>22.0028</td>\n",
       "      <td>1</td>\n",
       "      <td>5</td>\n",
       "      <td>6</td>\n",
       "      <td>3.9980</td>\n",
       "      <td>71.0</td>\n",
       "      <td>2011</td>\n",
       "      <td>Okay</td>\n",
       "    </tr>\n",
       "    <tr>\n",
       "      <th>3</th>\n",
       "      <td>1811</td>\n",
       "      <td>2011-03-21</td>\n",
       "      <td>Spring</td>\n",
       "      <td>None</td>\n",
       "      <td>3</td>\n",
       "      <td>3</td>\n",
       "      <td>0</td>\n",
       "      <td>Monday</td>\n",
       "      <td>1</td>\n",
       "      <td>None</td>\n",
       "      <td>...</td>\n",
       "      <td>None</td>\n",
       "      <td>None</td>\n",
       "      <td>22.0028</td>\n",
       "      <td>0</td>\n",
       "      <td>1</td>\n",
       "      <td>1</td>\n",
       "      <td>3.9980</td>\n",
       "      <td>71.0</td>\n",
       "      <td>2011</td>\n",
       "      <td>Okay</td>\n",
       "    </tr>\n",
       "    <tr>\n",
       "      <th>4</th>\n",
       "      <td>1812</td>\n",
       "      <td>2011-03-21</td>\n",
       "      <td>Spring</td>\n",
       "      <td>None</td>\n",
       "      <td>3</td>\n",
       "      <td>5</td>\n",
       "      <td>0</td>\n",
       "      <td>Monday</td>\n",
       "      <td>1</td>\n",
       "      <td>None</td>\n",
       "      <td>...</td>\n",
       "      <td>None</td>\n",
       "      <td>None</td>\n",
       "      <td>19.9995</td>\n",
       "      <td>1</td>\n",
       "      <td>1</td>\n",
       "      <td>2</td>\n",
       "      <td>3.9980</td>\n",
       "      <td>81.0</td>\n",
       "      <td>2011</td>\n",
       "      <td>Good</td>\n",
       "    </tr>\n",
       "    <tr>\n",
       "      <th>...</th>\n",
       "      <td>...</td>\n",
       "      <td>...</td>\n",
       "      <td>...</td>\n",
       "      <td>...</td>\n",
       "      <td>...</td>\n",
       "      <td>...</td>\n",
       "      <td>...</td>\n",
       "      <td>...</td>\n",
       "      <td>...</td>\n",
       "      <td>...</td>\n",
       "      <td>...</td>\n",
       "      <td>...</td>\n",
       "      <td>...</td>\n",
       "      <td>...</td>\n",
       "      <td>...</td>\n",
       "      <td>...</td>\n",
       "      <td>...</td>\n",
       "      <td>...</td>\n",
       "      <td>...</td>\n",
       "      <td>...</td>\n",
       "      <td>...</td>\n",
       "    </tr>\n",
       "    <tr>\n",
       "      <th>8640</th>\n",
       "      <td>8641</td>\n",
       "      <td>2011-12-31</td>\n",
       "      <td>Winter</td>\n",
       "      <td>None</td>\n",
       "      <td>12</td>\n",
       "      <td>19</td>\n",
       "      <td>0</td>\n",
       "      <td>Saturday</td>\n",
       "      <td>0</td>\n",
       "      <td>None</td>\n",
       "      <td>...</td>\n",
       "      <td>None</td>\n",
       "      <td>None</td>\n",
       "      <td>15.0013</td>\n",
       "      <td>19</td>\n",
       "      <td>73</td>\n",
       "      <td>92</td>\n",
       "      <td>11.9972</td>\n",
       "      <td>54</td>\n",
       "      <td>2011</td>\n",
       "      <td>Good</td>\n",
       "    </tr>\n",
       "    <tr>\n",
       "      <th>8641</th>\n",
       "      <td>8642</td>\n",
       "      <td>2011-12-31</td>\n",
       "      <td>Winter</td>\n",
       "      <td>None</td>\n",
       "      <td>12</td>\n",
       "      <td>20</td>\n",
       "      <td>0</td>\n",
       "      <td>Saturday</td>\n",
       "      <td>0</td>\n",
       "      <td>None</td>\n",
       "      <td>...</td>\n",
       "      <td>None</td>\n",
       "      <td>None</td>\n",
       "      <td>15.0013</td>\n",
       "      <td>8</td>\n",
       "      <td>63</td>\n",
       "      <td>71</td>\n",
       "      <td>11.9972</td>\n",
       "      <td>54</td>\n",
       "      <td>2011</td>\n",
       "      <td>Good</td>\n",
       "    </tr>\n",
       "    <tr>\n",
       "      <th>8642</th>\n",
       "      <td>8643</td>\n",
       "      <td>2011-12-31</td>\n",
       "      <td>Winter</td>\n",
       "      <td>None</td>\n",
       "      <td>12</td>\n",
       "      <td>21</td>\n",
       "      <td>0</td>\n",
       "      <td>Saturday</td>\n",
       "      <td>0</td>\n",
       "      <td>None</td>\n",
       "      <td>...</td>\n",
       "      <td>None</td>\n",
       "      <td>None</td>\n",
       "      <td>12.9980</td>\n",
       "      <td>2</td>\n",
       "      <td>50</td>\n",
       "      <td>52</td>\n",
       "      <td>11.0006</td>\n",
       "      <td>58.0</td>\n",
       "      <td>2011</td>\n",
       "      <td>Good</td>\n",
       "    </tr>\n",
       "    <tr>\n",
       "      <th>8643</th>\n",
       "      <td>8644</td>\n",
       "      <td>2011-12-31</td>\n",
       "      <td>Winter</td>\n",
       "      <td>None</td>\n",
       "      <td>12</td>\n",
       "      <td>22</td>\n",
       "      <td>0</td>\n",
       "      <td>Saturday</td>\n",
       "      <td>0</td>\n",
       "      <td>None</td>\n",
       "      <td>...</td>\n",
       "      <td>None</td>\n",
       "      <td>None</td>\n",
       "      <td>8.9981</td>\n",
       "      <td>2</td>\n",
       "      <td>36</td>\n",
       "      <td>38</td>\n",
       "      <td>9.9974</td>\n",
       "      <td>62</td>\n",
       "      <td>2011</td>\n",
       "      <td>Good</td>\n",
       "    </tr>\n",
       "    <tr>\n",
       "      <th>8644</th>\n",
       "      <td>8645</td>\n",
       "      <td>2011-12-31</td>\n",
       "      <td>Winter</td>\n",
       "      <td>None</td>\n",
       "      <td>12</td>\n",
       "      <td>23</td>\n",
       "      <td>0</td>\n",
       "      <td>Saturday</td>\n",
       "      <td>0</td>\n",
       "      <td>None</td>\n",
       "      <td>...</td>\n",
       "      <td>None</td>\n",
       "      <td>None</td>\n",
       "      <td>0.0000</td>\n",
       "      <td>4</td>\n",
       "      <td>27</td>\n",
       "      <td>31</td>\n",
       "      <td>9.0008</td>\n",
       "      <td>66</td>\n",
       "      <td>2011</td>\n",
       "      <td>Good</td>\n",
       "    </tr>\n",
       "  </tbody>\n",
       "</table>\n",
       "<p>8645 rows × 21 columns</p>\n",
       "</div>"
      ],
      "text/plain": [
       "        id      dteday  season    yr  mnth  hour  holiday   weekday  \\\n",
       "0     1808  2011-03-21  Spring  None     3     0        0    Monday   \n",
       "1     1809  2011-03-21  Spring  None     3     1        0    Monday   \n",
       "2     1810  2011-03-21  Spring  None     3     2        0    Monday   \n",
       "3     1811  2011-03-21  Spring  None     3     3        0    Monday   \n",
       "4     1812  2011-03-21  Spring  None     3     5        0    Monday   \n",
       "...    ...         ...     ...   ...   ...   ...      ...       ...   \n",
       "8640  8641  2011-12-31  Winter  None    12    19        0  Saturday   \n",
       "8641  8642  2011-12-31  Winter  None    12    20        0  Saturday   \n",
       "8642  8643  2011-12-31  Winter  None    12    21        0  Saturday   \n",
       "8643  8644  2011-12-31  Winter  None    12    22        0  Saturday   \n",
       "8644  8645  2011-12-31  Winter  None    12    23        0  Saturday   \n",
       "\n",
       "      workingday weathersit  ...  atemp   hum windspeed  casual  registered  \\\n",
       "0              1       None  ...   None  None   26.0027       2          11   \n",
       "1              1       None  ...   None  None   26.0027       1           6   \n",
       "2              1       None  ...   None  None   22.0028       1           5   \n",
       "3              1       None  ...   None  None   22.0028       0           1   \n",
       "4              1       None  ...   None  None   19.9995       1           1   \n",
       "...          ...        ...  ...    ...   ...       ...     ...         ...   \n",
       "8640           0       None  ...   None  None   15.0013      19          73   \n",
       "8641           0       None  ...   None  None   15.0013       8          63   \n",
       "8642           0       None  ...   None  None   12.9980       2          50   \n",
       "8643           0       None  ...   None  None    8.9981       2          36   \n",
       "8644           0       None  ...   None  None    0.0000       4          27   \n",
       "\n",
       "      total  felt_temp  humidity  year weather  \n",
       "0        13     3.9980      66.0  2011     Bad  \n",
       "1         7     3.9980      71.0  2011    Okay  \n",
       "2         6     3.9980      71.0  2011    Okay  \n",
       "3         1     3.9980      71.0  2011    Okay  \n",
       "4         2     3.9980      81.0  2011    Good  \n",
       "...     ...        ...       ...   ...     ...  \n",
       "8640     92    11.9972        54  2011    Good  \n",
       "8641     71    11.9972        54  2011    Good  \n",
       "8642     52    11.0006      58.0  2011    Good  \n",
       "8643     38     9.9974        62  2011    Good  \n",
       "8644     31     9.0008        66  2011    Good  \n",
       "\n",
       "[8645 rows x 21 columns]"
      ]
     },
     "execution_count": 15,
     "metadata": {},
     "output_type": "execute_result"
    }
   ],
   "source": [
    "database.set_step(3)\n",
    "pd.read_sql_query(\"SELECT * FROM bike_rental;\", conn)"
   ]
  },
  {
   "cell_type": "code",
   "execution_count": 16,
   "metadata": {},
   "outputs": [],
   "source": [
    "# Set the context for great expectations (the data set)\n",
    "context = gx.get_context()\n",
    "\n",
    "data_source = context.data_sources.add_sqlite(\"sample\", connection_string=\"sqlite:///database.db\")"
   ]
  },
  {
   "cell_type": "code",
   "execution_count": 17,
   "metadata": {},
   "outputs": [],
   "source": [
    "# Get the batch\n",
    "asset_name = \"bike_rental\"\n",
    "database_table_name = \"bike_rental\"\n",
    "table_data_asset = data_source.add_table_asset(\n",
    "    table_name=database_table_name, name=asset_name\n",
    ")\n",
    "\n",
    "full_table_batch_definition = table_data_asset.add_batch_definition_whole_table(\n",
    "    name=\"0_spring_2011\",\n",
    ")\n"
   ]
  },
  {
   "cell_type": "code",
   "execution_count": 5,
   "metadata": {},
   "outputs": [],
   "source": [
    "# TODO: fix something in database, atemp, humidity and weathersit are None, also the year is None => probably integer and double values were not transported correctly?"
   ]
  },
  {
   "cell_type": "code",
   "execution_count": 6,
   "metadata": {},
   "outputs": [
    {
     "data": {
      "application/vnd.jupyter.widget-view+json": {
       "model_id": "a12f6805ecc04a1c8e731c673edd952a",
       "version_major": 2,
       "version_minor": 0
      },
      "text/plain": [
       "Calculating Metrics:   0%|          | 0/1 [00:00<?, ?it/s]"
      ]
     },
     "metadata": {},
     "output_type": "display_data"
    },
    {
     "data": {
      "text/plain": [
       "     id      dteday  season    yr  mnth  hour  holiday weekday  workingday  \\\n",
       "0  1808  2011-03-21  Spring  None     3     0        0  Monday           1   \n",
       "1  1809  2011-03-21  Spring  None     3     1        0  Monday           1   \n",
       "2  1810  2011-03-21  Spring  None     3     2        0  Monday           1   \n",
       "3  1811  2011-03-21  Spring  None     3     3        0  Monday           1   \n",
       "4  1812  2011-03-21  Spring  None     3     5        0  Monday           1   \n",
       "\n",
       "  weathersit  ...  atemp   hum windspeed  casual  registered  total  \\\n",
       "0       None  ...   None  None   26.0027       2          11     13   \n",
       "1       None  ...   None  None   26.0027       1           6      7   \n",
       "2       None  ...   None  None   22.0028       1           5      6   \n",
       "3       None  ...   None  None   22.0028       0           1      1   \n",
       "4       None  ...   None  None   19.9995       1           1      2   \n",
       "\n",
       "   felt_temp  humidity  year weather  \n",
       "0      3.998      66.0  2011     Bad  \n",
       "1      3.998      71.0  2011    Okay  \n",
       "2      3.998      71.0  2011    Okay  \n",
       "3      3.998      71.0  2011    Okay  \n",
       "4      3.998      81.0  2011    Good  \n",
       "\n",
       "[5 rows x 21 columns]"
      ]
     },
     "execution_count": 6,
     "metadata": {},
     "output_type": "execute_result"
    }
   ],
   "source": [
    "full_table_batch = full_table_batch_definition.get_batch()\n",
    "full_table_batch.head()\n"
   ]
  },
  {
   "cell_type": "code",
   "execution_count": 23,
   "metadata": {},
   "outputs": [
    {
     "data": {
      "text/html": [
       "<div>\n",
       "<style scoped>\n",
       "    .dataframe tbody tr th:only-of-type {\n",
       "        vertical-align: middle;\n",
       "    }\n",
       "\n",
       "    .dataframe tbody tr th {\n",
       "        vertical-align: top;\n",
       "    }\n",
       "\n",
       "    .dataframe thead th {\n",
       "        text-align: right;\n",
       "    }\n",
       "</style>\n",
       "<table border=\"1\" class=\"dataframe\">\n",
       "  <thead>\n",
       "    <tr style=\"text-align: right;\">\n",
       "      <th></th>\n",
       "      <th>id</th>\n",
       "      <th>dteday</th>\n",
       "      <th>season</th>\n",
       "      <th>yr</th>\n",
       "      <th>mnth</th>\n",
       "      <th>hour</th>\n",
       "      <th>holiday</th>\n",
       "      <th>weekday</th>\n",
       "      <th>workingday</th>\n",
       "      <th>weathersit</th>\n",
       "      <th>...</th>\n",
       "      <th>atemp</th>\n",
       "      <th>hum</th>\n",
       "      <th>windspeed</th>\n",
       "      <th>casual</th>\n",
       "      <th>registered</th>\n",
       "      <th>total</th>\n",
       "      <th>felt_temp</th>\n",
       "      <th>humidity</th>\n",
       "      <th>year</th>\n",
       "      <th>weather</th>\n",
       "    </tr>\n",
       "  </thead>\n",
       "  <tbody>\n",
       "    <tr>\n",
       "      <th>0</th>\n",
       "      <td>1808</td>\n",
       "      <td>2011-03-21</td>\n",
       "      <td>Spring</td>\n",
       "      <td>None</td>\n",
       "      <td>3</td>\n",
       "      <td>0</td>\n",
       "      <td>0</td>\n",
       "      <td>Monday</td>\n",
       "      <td>1</td>\n",
       "      <td>None</td>\n",
       "      <td>...</td>\n",
       "      <td>None</td>\n",
       "      <td>None</td>\n",
       "      <td>26.0027</td>\n",
       "      <td>2</td>\n",
       "      <td>11</td>\n",
       "      <td>13</td>\n",
       "      <td>3.9980</td>\n",
       "      <td>66.0</td>\n",
       "      <td>2011</td>\n",
       "      <td>Bad</td>\n",
       "    </tr>\n",
       "    <tr>\n",
       "      <th>1</th>\n",
       "      <td>1813</td>\n",
       "      <td>2011-03-21</td>\n",
       "      <td>Spring</td>\n",
       "      <td>None</td>\n",
       "      <td>3</td>\n",
       "      <td>6</td>\n",
       "      <td>0</td>\n",
       "      <td>Monday</td>\n",
       "      <td>1</td>\n",
       "      <td>None</td>\n",
       "      <td>...</td>\n",
       "      <td>None</td>\n",
       "      <td>None</td>\n",
       "      <td>16.9979</td>\n",
       "      <td>2</td>\n",
       "      <td>30</td>\n",
       "      <td>32</td>\n",
       "      <td>3.9980</td>\n",
       "      <td>76.0</td>\n",
       "      <td>2011</td>\n",
       "      <td>Bad</td>\n",
       "    </tr>\n",
       "    <tr>\n",
       "      <th>2</th>\n",
       "      <td>1837</td>\n",
       "      <td>2011-03-22</td>\n",
       "      <td>Spring</td>\n",
       "      <td>None</td>\n",
       "      <td>3</td>\n",
       "      <td>6</td>\n",
       "      <td>0</td>\n",
       "      <td>Tuesday</td>\n",
       "      <td>1</td>\n",
       "      <td>None</td>\n",
       "      <td>...</td>\n",
       "      <td>None</td>\n",
       "      <td>None</td>\n",
       "      <td>16.9979</td>\n",
       "      <td>2</td>\n",
       "      <td>58</td>\n",
       "      <td>60</td>\n",
       "      <td>11.0006</td>\n",
       "      <td>87.0</td>\n",
       "      <td>2011</td>\n",
       "      <td>Good</td>\n",
       "    </tr>\n",
       "    <tr>\n",
       "      <th>3</th>\n",
       "      <td>1877</td>\n",
       "      <td>2011-03-23</td>\n",
       "      <td>Spring</td>\n",
       "      <td>None</td>\n",
       "      <td>3</td>\n",
       "      <td>23</td>\n",
       "      <td>0</td>\n",
       "      <td>Wednesday</td>\n",
       "      <td>1</td>\n",
       "      <td>None</td>\n",
       "      <td>...</td>\n",
       "      <td>None</td>\n",
       "      <td>None</td>\n",
       "      <td>0.0000</td>\n",
       "      <td>2</td>\n",
       "      <td>24</td>\n",
       "      <td>26</td>\n",
       "      <td>5.9978</td>\n",
       "      <td>90.0</td>\n",
       "      <td>2011</td>\n",
       "      <td>Bad</td>\n",
       "    </tr>\n",
       "    <tr>\n",
       "      <th>4</th>\n",
       "      <td>1885</td>\n",
       "      <td>2011-03-24</td>\n",
       "      <td>Spring</td>\n",
       "      <td>None</td>\n",
       "      <td>3</td>\n",
       "      <td>7</td>\n",
       "      <td>0</td>\n",
       "      <td>Thursday</td>\n",
       "      <td>1</td>\n",
       "      <td>None</td>\n",
       "      <td>...</td>\n",
       "      <td>None</td>\n",
       "      <td>None</td>\n",
       "      <td>15.0013</td>\n",
       "      <td>2</td>\n",
       "      <td>106</td>\n",
       "      <td>108</td>\n",
       "      <td>1.0016</td>\n",
       "      <td>100.0</td>\n",
       "      <td>2011</td>\n",
       "      <td>Bad</td>\n",
       "    </tr>\n",
       "    <tr>\n",
       "      <th>...</th>\n",
       "      <td>...</td>\n",
       "      <td>...</td>\n",
       "      <td>...</td>\n",
       "      <td>...</td>\n",
       "      <td>...</td>\n",
       "      <td>...</td>\n",
       "      <td>...</td>\n",
       "      <td>...</td>\n",
       "      <td>...</td>\n",
       "      <td>...</td>\n",
       "      <td>...</td>\n",
       "      <td>...</td>\n",
       "      <td>...</td>\n",
       "      <td>...</td>\n",
       "      <td>...</td>\n",
       "      <td>...</td>\n",
       "      <td>...</td>\n",
       "      <td>...</td>\n",
       "      <td>...</td>\n",
       "      <td>...</td>\n",
       "      <td>...</td>\n",
       "    </tr>\n",
       "    <tr>\n",
       "      <th>81</th>\n",
       "      <td>3824</td>\n",
       "      <td>2011-06-13</td>\n",
       "      <td>Spring</td>\n",
       "      <td>None</td>\n",
       "      <td>6</td>\n",
       "      <td>5</td>\n",
       "      <td>0</td>\n",
       "      <td>Monday</td>\n",
       "      <td>1</td>\n",
       "      <td>None</td>\n",
       "      <td>...</td>\n",
       "      <td>None</td>\n",
       "      <td>None</td>\n",
       "      <td>26.0027</td>\n",
       "      <td>2</td>\n",
       "      <td>27</td>\n",
       "      <td>29</td>\n",
       "      <td>18.0032</td>\n",
       "      <td>64.0</td>\n",
       "      <td>2011</td>\n",
       "      <td>Good</td>\n",
       "    </tr>\n",
       "    <tr>\n",
       "      <th>82</th>\n",
       "      <td>3845</td>\n",
       "      <td>2011-06-14</td>\n",
       "      <td>Spring</td>\n",
       "      <td>None</td>\n",
       "      <td>6</td>\n",
       "      <td>2</td>\n",
       "      <td>0</td>\n",
       "      <td>Tuesday</td>\n",
       "      <td>1</td>\n",
       "      <td>None</td>\n",
       "      <td>...</td>\n",
       "      <td>None</td>\n",
       "      <td>None</td>\n",
       "      <td>19.0012</td>\n",
       "      <td>2</td>\n",
       "      <td>8</td>\n",
       "      <td>10</td>\n",
       "      <td>24.9992</td>\n",
       "      <td>49.0</td>\n",
       "      <td>2011</td>\n",
       "      <td>Good</td>\n",
       "    </tr>\n",
       "    <tr>\n",
       "      <th>83</th>\n",
       "      <td>3914</td>\n",
       "      <td>2011-06-16</td>\n",
       "      <td>Spring</td>\n",
       "      <td>None</td>\n",
       "      <td>6</td>\n",
       "      <td>23</td>\n",
       "      <td>0</td>\n",
       "      <td>Thursday</td>\n",
       "      <td>1</td>\n",
       "      <td>None</td>\n",
       "      <td>...</td>\n",
       "      <td>None</td>\n",
       "      <td>None</td>\n",
       "      <td>16.9979</td>\n",
       "      <td>2</td>\n",
       "      <td>14</td>\n",
       "      <td>16</td>\n",
       "      <td>20.9996</td>\n",
       "      <td>83.0</td>\n",
       "      <td>2011</td>\n",
       "      <td>Bad</td>\n",
       "    </tr>\n",
       "    <tr>\n",
       "      <th>84</th>\n",
       "      <td>3917</td>\n",
       "      <td>2011-06-17</td>\n",
       "      <td>Spring</td>\n",
       "      <td>None</td>\n",
       "      <td>6</td>\n",
       "      <td>2</td>\n",
       "      <td>0</td>\n",
       "      <td>Friday</td>\n",
       "      <td>1</td>\n",
       "      <td>None</td>\n",
       "      <td>...</td>\n",
       "      <td>None</td>\n",
       "      <td>None</td>\n",
       "      <td>7.0015</td>\n",
       "      <td>2</td>\n",
       "      <td>11</td>\n",
       "      <td>13</td>\n",
       "      <td>18.9998</td>\n",
       "      <td>94.0</td>\n",
       "      <td>2011</td>\n",
       "      <td>Good</td>\n",
       "    </tr>\n",
       "    <tr>\n",
       "      <th>85</th>\n",
       "      <td>3989</td>\n",
       "      <td>2011-06-20</td>\n",
       "      <td>Spring</td>\n",
       "      <td>None</td>\n",
       "      <td>6</td>\n",
       "      <td>2</td>\n",
       "      <td>0</td>\n",
       "      <td>Monday</td>\n",
       "      <td>1</td>\n",
       "      <td>None</td>\n",
       "      <td>...</td>\n",
       "      <td>None</td>\n",
       "      <td>None</td>\n",
       "      <td>6.0032</td>\n",
       "      <td>2</td>\n",
       "      <td>0</td>\n",
       "      <td>2</td>\n",
       "      <td>22.0028</td>\n",
       "      <td>89.0</td>\n",
       "      <td>2011</td>\n",
       "      <td>Good</td>\n",
       "    </tr>\n",
       "  </tbody>\n",
       "</table>\n",
       "<p>86 rows × 21 columns</p>\n",
       "</div>"
      ],
      "text/plain": [
       "      id      dteday  season    yr  mnth  hour  holiday    weekday  \\\n",
       "0   1808  2011-03-21  Spring  None     3     0        0     Monday   \n",
       "1   1813  2011-03-21  Spring  None     3     6        0     Monday   \n",
       "2   1837  2011-03-22  Spring  None     3     6        0    Tuesday   \n",
       "3   1877  2011-03-23  Spring  None     3    23        0  Wednesday   \n",
       "4   1885  2011-03-24  Spring  None     3     7        0   Thursday   \n",
       "..   ...         ...     ...   ...   ...   ...      ...        ...   \n",
       "81  3824  2011-06-13  Spring  None     6     5        0     Monday   \n",
       "82  3845  2011-06-14  Spring  None     6     2        0    Tuesday   \n",
       "83  3914  2011-06-16  Spring  None     6    23        0   Thursday   \n",
       "84  3917  2011-06-17  Spring  None     6     2        0     Friday   \n",
       "85  3989  2011-06-20  Spring  None     6     2        0     Monday   \n",
       "\n",
       "    workingday weathersit  ...  atemp   hum windspeed  casual  registered  \\\n",
       "0            1       None  ...   None  None   26.0027       2          11   \n",
       "1            1       None  ...   None  None   16.9979       2          30   \n",
       "2            1       None  ...   None  None   16.9979       2          58   \n",
       "3            1       None  ...   None  None    0.0000       2          24   \n",
       "4            1       None  ...   None  None   15.0013       2         106   \n",
       "..         ...        ...  ...    ...   ...       ...     ...         ...   \n",
       "81           1       None  ...   None  None   26.0027       2          27   \n",
       "82           1       None  ...   None  None   19.0012       2           8   \n",
       "83           1       None  ...   None  None   16.9979       2          14   \n",
       "84           1       None  ...   None  None    7.0015       2          11   \n",
       "85           1       None  ...   None  None    6.0032       2           0   \n",
       "\n",
       "    total  felt_temp  humidity  year weather  \n",
       "0      13     3.9980      66.0  2011     Bad  \n",
       "1      32     3.9980      76.0  2011     Bad  \n",
       "2      60    11.0006      87.0  2011    Good  \n",
       "3      26     5.9978      90.0  2011     Bad  \n",
       "4     108     1.0016     100.0  2011     Bad  \n",
       "..    ...        ...       ...   ...     ...  \n",
       "81     29    18.0032      64.0  2011    Good  \n",
       "82     10    24.9992      49.0  2011    Good  \n",
       "83     16    20.9996      83.0  2011     Bad  \n",
       "84     13    18.9998      94.0  2011    Good  \n",
       "85      2    22.0028      89.0  2011    Good  \n",
       "\n",
       "[86 rows x 21 columns]"
      ]
     },
     "execution_count": 23,
     "metadata": {},
     "output_type": "execute_result"
    }
   ],
   "source": [
    "# Read the data from the database using SQL\n",
    "query = \"\"\"\n",
    "SELECT * FROM bike_rental\n",
    "WHERE casual = 2\n",
    "\"\"\"\n",
    "\n",
    "pd.read_sql_query(query, conn)"
   ]
  },
  {
   "cell_type": "markdown",
   "metadata": {},
   "source": [
    "# Task 2: Set Expectations for the Spring Data\n",
    "Now that you explored the dataset, it is time to set up your first expectations (exciting!)"
   ]
  },
  {
   "cell_type": "markdown",
   "metadata": {},
   "source": [
    "# TODO: add some basics expectations as a markdown for example"
   ]
  },
  {
   "cell_type": "code",
   "execution_count": null,
   "metadata": {},
   "outputs": [],
   "source": [
    "# TODO: give one example of how to set expectations for a datatype\n"
   ]
  },
  {
   "cell_type": "code",
   "execution_count": null,
   "metadata": {},
   "outputs": [],
   "source": [
    "# TODO: make them set one expectation for another datatype themselves"
   ]
  },
  {
   "cell_type": "code",
   "execution_count": null,
   "metadata": {},
   "outputs": [],
   "source": [
    "# TODO: add expectations of maximum bike rentals according to the max today + 50 or so"
   ]
  },
  {
   "cell_type": "code",
   "execution_count": null,
   "metadata": {},
   "outputs": [],
   "source": [
    "# TODO: set expectation for correlation of rising temperatures to rising bike rentals"
   ]
  },
  {
   "cell_type": "code",
   "execution_count": null,
   "metadata": {},
   "outputs": [],
   "source": [
    "# TODO: check the expectations"
   ]
  },
  {
   "cell_type": "markdown",
   "metadata": {},
   "source": [
    "But, you didn't come to this Workshop just to see a fancy way of doing exactly the same as your basic unit test is doing, so let's get into more complex stuff"
   ]
  },
  {
   "cell_type": "markdown",
   "metadata": {},
   "source": [
    "# Task 3: Adjust and Set New Expectations for the Summer Data"
   ]
  },
  {
   "cell_type": "code",
   "execution_count": null,
   "metadata": {},
   "outputs": [],
   "source": [
    "# TODO: load the summer dataset"
   ]
  },
  {
   "cell_type": "code",
   "execution_count": null,
   "metadata": {},
   "outputs": [],
   "source": [
    "# TODO: run the expectations for that new dataset and look at the output"
   ]
  },
  {
   "cell_type": "markdown",
   "metadata": {},
   "source": [
    "## Excursion: Data Docs"
   ]
  },
  {
   "cell_type": "code",
   "execution_count": null,
   "metadata": {},
   "outputs": [],
   "source": [
    "# TODO: explain data docs and how it works"
   ]
  },
  {
   "cell_type": "code",
   "execution_count": null,
   "metadata": {},
   "outputs": [],
   "source": [
    "# TODO: generate the data docs"
   ]
  },
  {
   "cell_type": "code",
   "execution_count": null,
   "metadata": {},
   "outputs": [],
   "source": [
    "# TODO: look at the data docs"
   ]
  },
  {
   "cell_type": "markdown",
   "metadata": {},
   "source": [
    "## Back To Business"
   ]
  },
  {
   "cell_type": "code",
   "execution_count": 6,
   "metadata": {},
   "outputs": [],
   "source": [
    "# TODO: refine the expectations"
   ]
  },
  {
   "cell_type": "code",
   "execution_count": 7,
   "metadata": {},
   "outputs": [],
   "source": [
    "# TODO: add more complex expectations (give them a list of suggestions again)"
   ]
  },
  {
   "cell_type": "code",
   "execution_count": null,
   "metadata": {},
   "outputs": [],
   "source": [
    "# TODO: add a fun expectation, that expects bike rentals to rise, because they have risen before"
   ]
  },
  {
   "cell_type": "code",
   "execution_count": 8,
   "metadata": {},
   "outputs": [],
   "source": [
    "# TODO: check the expectations"
   ]
  },
  {
   "cell_type": "markdown",
   "metadata": {},
   "source": [
    "# Task 4: Adjust for Autumn "
   ]
  },
  {
   "cell_type": "code",
   "execution_count": null,
   "metadata": {},
   "outputs": [],
   "source": [
    "# TODO: load new dataset"
   ]
  },
  {
   "cell_type": "code",
   "execution_count": null,
   "metadata": {},
   "outputs": [],
   "source": [
    "# TODO: check the expectations"
   ]
  },
  {
   "cell_type": "code",
   "execution_count": null,
   "metadata": {},
   "outputs": [],
   "source": [
    "# TODO: fix what needs fixing"
   ]
  },
  {
   "cell_type": "code",
   "execution_count": null,
   "metadata": {},
   "outputs": [],
   "source": [
    "# TODO: Maybe add something even more complex?"
   ]
  },
  {
   "cell_type": "code",
   "execution_count": null,
   "metadata": {},
   "outputs": [],
   "source": [
    "# TODO: Recheck the Expectations"
   ]
  },
  {
   "cell_type": "markdown",
   "metadata": {},
   "source": [
    "# Task 5: Check with Winter and set final expectations\n",
    "You can check out all kinds of expectations here: https://greatexpectations.io/expectations/"
   ]
  },
  {
   "cell_type": "code",
   "execution_count": null,
   "metadata": {},
   "outputs": [],
   "source": [
    "# TODO: load new dataset"
   ]
  },
  {
   "cell_type": "code",
   "execution_count": null,
   "metadata": {},
   "outputs": [],
   "source": [
    "# TODO: check the expectations"
   ]
  },
  {
   "cell_type": "code",
   "execution_count": null,
   "metadata": {},
   "outputs": [],
   "source": [
    "# TODO: fix what needs fixing"
   ]
  },
  {
   "cell_type": "code",
   "execution_count": null,
   "metadata": {},
   "outputs": [],
   "source": [
    "# TODO: Maybe add something even more complex?"
   ]
  },
  {
   "cell_type": "code",
   "execution_count": null,
   "metadata": {},
   "outputs": [],
   "source": [
    "# TODO: Recheck the Expectations"
   ]
  },
  {
   "cell_type": "markdown",
   "metadata": {},
   "source": [
    "# Task 6: Verify your data and see if something shifts the next year"
   ]
  },
  {
   "cell_type": "code",
   "execution_count": null,
   "metadata": {},
   "outputs": [],
   "source": [
    "# TODO: load new dataset"
   ]
  },
  {
   "cell_type": "code",
   "execution_count": null,
   "metadata": {},
   "outputs": [],
   "source": [
    "# TODO: check the expectations"
   ]
  },
  {
   "cell_type": "markdown",
   "metadata": {},
   "source": [
    "Discuss these expectations => did you do a good job? What changed? Do you now have confidence in your data foundation for your AI model? Discuss pros and cons of using a Testing Framework!"
   ]
  },
  {
   "cell_type": "markdown",
   "metadata": {},
   "source": [
    "# Task 7: Think about AI Implementation"
   ]
  },
  {
   "cell_type": "markdown",
   "metadata": {},
   "source": [
    "Could you now implement AI to design a flexible pricing model? How would you do it? What is the advantage over doing this by hand?"
   ]
  },
  {
   "cell_type": "code",
   "execution_count": 9,
   "metadata": {},
   "outputs": [],
   "source": [
    "# TODO: Make this last part better and more to the point ^^"
   ]
  },
  {
   "cell_type": "code",
   "execution_count": null,
   "metadata": {},
   "outputs": [],
   "source": []
  }
 ],
 "metadata": {
  "kernelspec": {
   "display_name": ".venv",
   "language": "python",
   "name": "python3"
  },
  "language_info": {
   "codemirror_mode": {
    "name": "ipython",
    "version": 3
   },
   "file_extension": ".py",
   "mimetype": "text/x-python",
   "name": "python",
   "nbconvert_exporter": "python",
   "pygments_lexer": "ipython3",
   "version": "3.12.7"
  }
 },
 "nbformat": 4,
 "nbformat_minor": 2
}
