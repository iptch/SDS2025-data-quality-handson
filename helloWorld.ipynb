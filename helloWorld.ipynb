{
 "cells": [
  {
   "cell_type": "code",
   "execution_count": 9,
   "metadata": {},
   "outputs": [
    {
     "ename": "ValueError",
     "evalue": "numpy.dtype size changed, may indicate binary incompatibility. Expected 96 from C header, got 88 from PyObject",
     "output_type": "error",
     "traceback": [
      "\u001b[31m---------------------------------------------------------------------------\u001b[39m",
      "\u001b[31mValueError\u001b[39m                                Traceback (most recent call last)",
      "\u001b[36mCell\u001b[39m\u001b[36m \u001b[39m\u001b[32mIn[9]\u001b[39m\u001b[32m, line 1\u001b[39m\n\u001b[32m----> \u001b[39m\u001b[32m1\u001b[39m \u001b[38;5;28;01mimport\u001b[39;00m\u001b[38;5;250m \u001b[39m\u001b[34;01mgreat_expectations\u001b[39;00m\u001b[38;5;250m \u001b[39m\u001b[38;5;28;01mas\u001b[39;00m\u001b[38;5;250m \u001b[39m\u001b[34;01mgx\u001b[39;00m\n\u001b[32m      3\u001b[39m context = gx.get_context()\n\u001b[32m      5\u001b[39m data_source = context.data_sources.add_sqlite(\u001b[33m\"\u001b[39m\u001b[33msample\u001b[39m\u001b[33m\"\u001b[39m, connection_string=\u001b[33m\"\u001b[39m\u001b[33msqlite:///database.db\u001b[39m\u001b[33m\"\u001b[39m)\n",
      "\u001b[36mFile \u001b[39m\u001b[32m~/PycharmProjects/DataQuality/.venv/lib/python3.12/site-packages/great_expectations/__init__.py:10\u001b[39m\n\u001b[32m      7\u001b[39m \u001b[38;5;28;01mdel\u001b[39;00m _get_versions\n\u001b[32m      9\u001b[39m \u001b[38;5;66;03m# great_expectations.data_context must be imported first or we will have circular dependency issues\u001b[39;00m\n\u001b[32m---> \u001b[39m\u001b[32m10\u001b[39m \u001b[38;5;28;01mimport\u001b[39;00m\u001b[38;5;250m \u001b[39m\u001b[34;01mgreat_expectations\u001b[39;00m\u001b[34;01m.\u001b[39;00m\u001b[34;01mdata_context\u001b[39;00m  \u001b[38;5;66;03m# isort:skip\u001b[39;00m\n\u001b[32m     11\u001b[39m \u001b[38;5;28;01mimport\u001b[39;00m\u001b[38;5;250m \u001b[39m\u001b[34;01mgreat_expectations\u001b[39;00m\u001b[34;01m.\u001b[39;00m\u001b[34;01mcore\u001b[39;00m\n\u001b[32m     13\u001b[39m \u001b[38;5;28;01mfrom\u001b[39;00m\u001b[38;5;250m \u001b[39m\u001b[34;01mgreat_expectations\u001b[39;00m\u001b[34;01m.\u001b[39;00m\u001b[34;01mdata_context\u001b[39;00m\u001b[34;01m.\u001b[39;00m\u001b[34;01mdata_context\u001b[39;00m\u001b[34;01m.\u001b[39;00m\u001b[34;01mcontext_factory\u001b[39;00m\u001b[38;5;250m \u001b[39m\u001b[38;5;28;01mimport\u001b[39;00m get_context\n",
      "\u001b[36mFile \u001b[39m\u001b[32m~/PycharmProjects/DataQuality/.venv/lib/python3.12/site-packages/great_expectations/data_context/__init__.py:1\u001b[39m\n\u001b[32m----> \u001b[39m\u001b[32m1\u001b[39m \u001b[38;5;28;01mfrom\u001b[39;00m\u001b[38;5;250m \u001b[39m\u001b[34;01mgreat_expectations\u001b[39;00m\u001b[34;01m.\u001b[39;00m\u001b[34;01mdata_context\u001b[39;00m\u001b[34;01m.\u001b[39;00m\u001b[34;01mdata_context\u001b[39;00m\u001b[38;5;250m \u001b[39m\u001b[38;5;28;01mimport\u001b[39;00m (\n\u001b[32m      2\u001b[39m     AbstractDataContext,\n\u001b[32m      3\u001b[39m     CloudDataContext,\n\u001b[32m      4\u001b[39m     EphemeralDataContext,\n\u001b[32m      5\u001b[39m     FileDataContext,\n\u001b[32m      6\u001b[39m     get_context,\n\u001b[32m      7\u001b[39m     project_manager,\n\u001b[32m      8\u001b[39m     set_context,\n\u001b[32m      9\u001b[39m )\n",
      "\u001b[36mFile \u001b[39m\u001b[32m~/PycharmProjects/DataQuality/.venv/lib/python3.12/site-packages/great_expectations/data_context/data_context/__init__.py:1\u001b[39m\n\u001b[32m----> \u001b[39m\u001b[32m1\u001b[39m \u001b[38;5;28;01mfrom\u001b[39;00m\u001b[38;5;250m \u001b[39m\u001b[34;01mgreat_expectations\u001b[39;00m\u001b[34;01m.\u001b[39;00m\u001b[34;01mdata_context\u001b[39;00m\u001b[34;01m.\u001b[39;00m\u001b[34;01mdata_context\u001b[39;00m\u001b[34;01m.\u001b[39;00m\u001b[34;01mabstract_data_context\u001b[39;00m\u001b[38;5;250m \u001b[39m\u001b[38;5;28;01mimport\u001b[39;00m (\n\u001b[32m      2\u001b[39m     AbstractDataContext,\n\u001b[32m      3\u001b[39m )\n\u001b[32m      4\u001b[39m \u001b[38;5;28;01mfrom\u001b[39;00m\u001b[38;5;250m \u001b[39m\u001b[34;01mgreat_expectations\u001b[39;00m\u001b[34;01m.\u001b[39;00m\u001b[34;01mdata_context\u001b[39;00m\u001b[34;01m.\u001b[39;00m\u001b[34;01mdata_context\u001b[39;00m\u001b[34;01m.\u001b[39;00m\u001b[34;01mcloud_data_context\u001b[39;00m\u001b[38;5;250m \u001b[39m\u001b[38;5;28;01mimport\u001b[39;00m (\n\u001b[32m      5\u001b[39m     CloudDataContext,\n\u001b[32m      6\u001b[39m )\n\u001b[32m      7\u001b[39m \u001b[38;5;28;01mfrom\u001b[39;00m\u001b[38;5;250m \u001b[39m\u001b[34;01mgreat_expectations\u001b[39;00m\u001b[34;01m.\u001b[39;00m\u001b[34;01mdata_context\u001b[39;00m\u001b[34;01m.\u001b[39;00m\u001b[34;01mdata_context\u001b[39;00m\u001b[34;01m.\u001b[39;00m\u001b[34;01mcontext_factory\u001b[39;00m\u001b[38;5;250m \u001b[39m\u001b[38;5;28;01mimport\u001b[39;00m (\n\u001b[32m      8\u001b[39m     get_context,\n\u001b[32m      9\u001b[39m     project_manager,\n\u001b[32m     10\u001b[39m     set_context,\n\u001b[32m     11\u001b[39m )\n",
      "\u001b[36mFile \u001b[39m\u001b[32m~/PycharmProjects/DataQuality/.venv/lib/python3.12/site-packages/great_expectations/data_context/data_context/abstract_data_context.py:43\u001b[39m\n\u001b[32m     41\u001b[39m \u001b[38;5;28;01mfrom\u001b[39;00m\u001b[38;5;250m \u001b[39m\u001b[34;01mgreat_expectations\u001b[39;00m\u001b[34;01m.\u001b[39;00m\u001b[34;01manalytics\u001b[39;00m\u001b[34;01m.\u001b[39;00m\u001b[34;01mevents\u001b[39;00m\u001b[38;5;250m \u001b[39m\u001b[38;5;28;01mimport\u001b[39;00m DataContextInitializedEvent\n\u001b[32m     42\u001b[39m \u001b[38;5;28;01mfrom\u001b[39;00m\u001b[38;5;250m \u001b[39m\u001b[34;01mgreat_expectations\u001b[39;00m\u001b[34;01m.\u001b[39;00m\u001b[34;01mcompatibility\u001b[39;00m\u001b[34;01m.\u001b[39;00m\u001b[34;01mtyping_extensions\u001b[39;00m\u001b[38;5;250m \u001b[39m\u001b[38;5;28;01mimport\u001b[39;00m override\n\u001b[32m---> \u001b[39m\u001b[32m43\u001b[39m \u001b[38;5;28;01mfrom\u001b[39;00m\u001b[38;5;250m \u001b[39m\u001b[34;01mgreat_expectations\u001b[39;00m\u001b[34;01m.\u001b[39;00m\u001b[34;01mcore\u001b[39;00m\u001b[38;5;250m \u001b[39m\u001b[38;5;28;01mimport\u001b[39;00m ExpectationSuite\n\u001b[32m     44\u001b[39m \u001b[38;5;28;01mfrom\u001b[39;00m\u001b[38;5;250m \u001b[39m\u001b[34;01mgreat_expectations\u001b[39;00m\u001b[34;01m.\u001b[39;00m\u001b[34;01mcore\u001b[39;00m\u001b[34;01m.\u001b[39;00m\u001b[34;01mbatch\u001b[39;00m\u001b[38;5;250m \u001b[39m\u001b[38;5;28;01mimport\u001b[39;00m (\n\u001b[32m     45\u001b[39m     Batch,\n\u001b[32m     46\u001b[39m     BatchRequestBase,\n\u001b[32m     47\u001b[39m     IDDict,\n\u001b[32m     48\u001b[39m     get_batch_request_from_acceptable_arguments,\n\u001b[32m     49\u001b[39m )\n\u001b[32m     50\u001b[39m \u001b[38;5;28;01mfrom\u001b[39;00m\u001b[38;5;250m \u001b[39m\u001b[34;01mgreat_expectations\u001b[39;00m\u001b[34;01m.\u001b[39;00m\u001b[34;01mcore\u001b[39;00m\u001b[34;01m.\u001b[39;00m\u001b[34;01mconfig_peer\u001b[39;00m\u001b[38;5;250m \u001b[39m\u001b[38;5;28;01mimport\u001b[39;00m ConfigPeer\n",
      "\u001b[36mFile \u001b[39m\u001b[32m~/PycharmProjects/DataQuality/.venv/lib/python3.12/site-packages/great_expectations/core/__init__.py:3\u001b[39m\n\u001b[32m      1\u001b[39m \u001b[38;5;28;01mimport\u001b[39;00m\u001b[38;5;250m \u001b[39m\u001b[34;01mlogging\u001b[39;00m\n\u001b[32m----> \u001b[39m\u001b[32m3\u001b[39m \u001b[38;5;28;01mfrom\u001b[39;00m\u001b[38;5;250m \u001b[39m\u001b[34;01m.\u001b[39;00m\u001b[34;01mdomain\u001b[39;00m\u001b[38;5;250m \u001b[39m\u001b[38;5;28;01mimport\u001b[39;00m Domain\n\u001b[32m      4\u001b[39m \u001b[38;5;28;01mfrom\u001b[39;00m\u001b[38;5;250m \u001b[39m\u001b[34;01m.\u001b[39;00m\u001b[34;01mexpectation_suite\u001b[39;00m\u001b[38;5;250m \u001b[39m\u001b[38;5;28;01mimport\u001b[39;00m (\n\u001b[32m      5\u001b[39m     ExpectationSuite,\n\u001b[32m      6\u001b[39m     ExpectationSuiteSchema,\n\u001b[32m      7\u001b[39m     expectationSuiteSchema,\n\u001b[32m      8\u001b[39m )\n\u001b[32m      9\u001b[39m \u001b[38;5;28;01mfrom\u001b[39;00m\u001b[38;5;250m \u001b[39m\u001b[34;01m.\u001b[39;00m\u001b[34;01mexpectation_validation_result\u001b[39;00m\u001b[38;5;250m \u001b[39m\u001b[38;5;28;01mimport\u001b[39;00m (\n\u001b[32m     10\u001b[39m     ExpectationSuiteValidationResult,\n\u001b[32m     11\u001b[39m     ExpectationSuiteValidationResultSchema,\n\u001b[32m   (...)\u001b[39m\u001b[32m     16\u001b[39m     get_metric_kwargs_id,\n\u001b[32m     17\u001b[39m )\n",
      "\u001b[36mFile \u001b[39m\u001b[32m~/PycharmProjects/DataQuality/.venv/lib/python3.12/site-packages/great_expectations/core/domain.py:9\u001b[39m\n\u001b[32m      6\u001b[39m \u001b[38;5;28;01mfrom\u001b[39;00m\u001b[38;5;250m \u001b[39m\u001b[34;01mtyping\u001b[39;00m\u001b[38;5;250m \u001b[39m\u001b[38;5;28;01mimport\u001b[39;00m Any, Dict, Optional, TypeVar, Union\n\u001b[32m      8\u001b[39m \u001b[38;5;28;01mfrom\u001b[39;00m\u001b[38;5;250m \u001b[39m\u001b[34;01mgreat_expectations\u001b[39;00m\u001b[34;01m.\u001b[39;00m\u001b[34;01mcompatibility\u001b[39;00m\u001b[34;01m.\u001b[39;00m\u001b[34;01mtyping_extensions\u001b[39;00m\u001b[38;5;250m \u001b[39m\u001b[38;5;28;01mimport\u001b[39;00m override\n\u001b[32m----> \u001b[39m\u001b[32m9\u001b[39m \u001b[38;5;28;01mfrom\u001b[39;00m\u001b[38;5;250m \u001b[39m\u001b[34;01mgreat_expectations\u001b[39;00m\u001b[34;01m.\u001b[39;00m\u001b[34;01mcore\u001b[39;00m\u001b[34;01m.\u001b[39;00m\u001b[34;01mid_dict\u001b[39;00m\u001b[38;5;250m \u001b[39m\u001b[38;5;28;01mimport\u001b[39;00m IDDict\n\u001b[32m     10\u001b[39m \u001b[38;5;28;01mfrom\u001b[39;00m\u001b[38;5;250m \u001b[39m\u001b[34;01mgreat_expectations\u001b[39;00m\u001b[34;01m.\u001b[39;00m\u001b[34;01mcore\u001b[39;00m\u001b[34;01m.\u001b[39;00m\u001b[34;01mmetric_domain_types\u001b[39;00m\u001b[38;5;250m \u001b[39m\u001b[38;5;28;01mimport\u001b[39;00m MetricDomainTypes\n\u001b[32m     11\u001b[39m \u001b[38;5;28;01mfrom\u001b[39;00m\u001b[38;5;250m \u001b[39m\u001b[34;01mgreat_expectations\u001b[39;00m\u001b[34;01m.\u001b[39;00m\u001b[34;01mtypes\u001b[39;00m\u001b[38;5;250m \u001b[39m\u001b[38;5;28;01mimport\u001b[39;00m SerializableDictDot, SerializableDotDict\n",
      "\u001b[36mFile \u001b[39m\u001b[32m~/PycharmProjects/DataQuality/.venv/lib/python3.12/site-packages/great_expectations/core/id_dict.py:8\u001b[39m\n\u001b[32m      5\u001b[39m \u001b[38;5;28;01mfrom\u001b[39;00m\u001b[38;5;250m \u001b[39m\u001b[34;01mtyping\u001b[39;00m\u001b[38;5;250m \u001b[39m\u001b[38;5;28;01mimport\u001b[39;00m Any, Set, TypeVar, Union\n\u001b[32m      7\u001b[39m \u001b[38;5;28;01mfrom\u001b[39;00m\u001b[38;5;250m \u001b[39m\u001b[34;01mgreat_expectations\u001b[39;00m\u001b[34;01m.\u001b[39;00m\u001b[34;01mcompatibility\u001b[39;00m\u001b[34;01m.\u001b[39;00m\u001b[34;01mtyping_extensions\u001b[39;00m\u001b[38;5;250m \u001b[39m\u001b[38;5;28;01mimport\u001b[39;00m override\n\u001b[32m----> \u001b[39m\u001b[32m8\u001b[39m \u001b[38;5;28;01mfrom\u001b[39;00m\u001b[38;5;250m \u001b[39m\u001b[34;01mgreat_expectations\u001b[39;00m\u001b[34;01m.\u001b[39;00m\u001b[34;01mutil\u001b[39;00m\u001b[38;5;250m \u001b[39m\u001b[38;5;28;01mimport\u001b[39;00m convert_to_json_serializable  \u001b[38;5;66;03m# noqa: TID251 # FIXME CoP\u001b[39;00m\n\u001b[32m     10\u001b[39m T = TypeVar(\u001b[33m\"\u001b[39m\u001b[33mT\u001b[39m\u001b[33m\"\u001b[39m)\n\u001b[32m     13\u001b[39m IDDictID = Union[\u001b[38;5;28mstr\u001b[39m, \u001b[38;5;28mtuple\u001b[39m[()]]\n",
      "\u001b[36mFile \u001b[39m\u001b[32m~/PycharmProjects/DataQuality/.venv/lib/python3.12/site-packages/great_expectations/util.py:43\u001b[39m\n\u001b[32m     26\u001b[39m \u001b[38;5;28;01mfrom\u001b[39;00m\u001b[38;5;250m \u001b[39m\u001b[34;01mtyping\u001b[39;00m\u001b[38;5;250m \u001b[39m\u001b[38;5;28;01mimport\u001b[39;00m (\n\u001b[32m     27\u001b[39m     TYPE_CHECKING,\n\u001b[32m     28\u001b[39m     Any,\n\u001b[32m   (...)\u001b[39m\u001b[32m     39\u001b[39m     overload,\n\u001b[32m     40\u001b[39m )\n\u001b[32m     42\u001b[39m \u001b[38;5;28;01mimport\u001b[39;00m\u001b[38;5;250m \u001b[39m\u001b[34;01mnumpy\u001b[39;00m\u001b[38;5;250m \u001b[39m\u001b[38;5;28;01mas\u001b[39;00m\u001b[38;5;250m \u001b[39m\u001b[34;01mnp\u001b[39;00m\n\u001b[32m---> \u001b[39m\u001b[32m43\u001b[39m \u001b[38;5;28;01mimport\u001b[39;00m\u001b[38;5;250m \u001b[39m\u001b[34;01mpandas\u001b[39;00m\u001b[38;5;250m \u001b[39m\u001b[38;5;28;01mas\u001b[39;00m\u001b[38;5;250m \u001b[39m\u001b[34;01mpd\u001b[39;00m\n\u001b[32m     44\u001b[39m \u001b[38;5;28;01mfrom\u001b[39;00m\u001b[38;5;250m \u001b[39m\u001b[34;01mdateutil\u001b[39;00m\u001b[34;01m.\u001b[39;00m\u001b[34;01mparser\u001b[39;00m\u001b[38;5;250m \u001b[39m\u001b[38;5;28;01mimport\u001b[39;00m parse\n\u001b[32m     45\u001b[39m \u001b[38;5;28;01mfrom\u001b[39;00m\u001b[38;5;250m \u001b[39m\u001b[34;01mpackaging\u001b[39;00m\u001b[38;5;250m \u001b[39m\u001b[38;5;28;01mimport\u001b[39;00m version\n",
      "\u001b[36mFile \u001b[39m\u001b[32m~/PycharmProjects/DataQuality/.venv/lib/python3.12/site-packages/pandas/__init__.py:46\u001b[39m\n\u001b[32m     43\u001b[39m \u001b[38;5;66;03m# let init-time option registration happen\u001b[39;00m\n\u001b[32m     44\u001b[39m \u001b[38;5;28;01mimport\u001b[39;00m\u001b[38;5;250m \u001b[39m\u001b[34;01mpandas\u001b[39;00m\u001b[34;01m.\u001b[39;00m\u001b[34;01mcore\u001b[39;00m\u001b[34;01m.\u001b[39;00m\u001b[34;01mconfig_init\u001b[39;00m  \u001b[38;5;66;03m# pyright: ignore[reportUnusedImport] # noqa: F401\u001b[39;00m\n\u001b[32m---> \u001b[39m\u001b[32m46\u001b[39m \u001b[38;5;28;01mfrom\u001b[39;00m\u001b[38;5;250m \u001b[39m\u001b[34;01mpandas\u001b[39;00m\u001b[34;01m.\u001b[39;00m\u001b[34;01mcore\u001b[39;00m\u001b[34;01m.\u001b[39;00m\u001b[34;01mapi\u001b[39;00m\u001b[38;5;250m \u001b[39m\u001b[38;5;28;01mimport\u001b[39;00m (\n\u001b[32m     47\u001b[39m     \u001b[38;5;66;03m# dtype\u001b[39;00m\n\u001b[32m     48\u001b[39m     ArrowDtype,\n\u001b[32m     49\u001b[39m     Int8Dtype,\n\u001b[32m     50\u001b[39m     Int16Dtype,\n\u001b[32m     51\u001b[39m     Int32Dtype,\n\u001b[32m     52\u001b[39m     Int64Dtype,\n\u001b[32m     53\u001b[39m     UInt8Dtype,\n\u001b[32m     54\u001b[39m     UInt16Dtype,\n\u001b[32m     55\u001b[39m     UInt32Dtype,\n\u001b[32m     56\u001b[39m     UInt64Dtype,\n\u001b[32m     57\u001b[39m     Float32Dtype,\n\u001b[32m     58\u001b[39m     Float64Dtype,\n\u001b[32m     59\u001b[39m     CategoricalDtype,\n\u001b[32m     60\u001b[39m     PeriodDtype,\n\u001b[32m     61\u001b[39m     IntervalDtype,\n\u001b[32m     62\u001b[39m     DatetimeTZDtype,\n\u001b[32m     63\u001b[39m     StringDtype,\n\u001b[32m     64\u001b[39m     BooleanDtype,\n\u001b[32m     65\u001b[39m     \u001b[38;5;66;03m# missing\u001b[39;00m\n\u001b[32m     66\u001b[39m     NA,\n\u001b[32m     67\u001b[39m     isna,\n\u001b[32m     68\u001b[39m     isnull,\n\u001b[32m     69\u001b[39m     notna,\n\u001b[32m     70\u001b[39m     notnull,\n\u001b[32m     71\u001b[39m     \u001b[38;5;66;03m# indexes\u001b[39;00m\n\u001b[32m     72\u001b[39m     Index,\n\u001b[32m     73\u001b[39m     CategoricalIndex,\n\u001b[32m     74\u001b[39m     RangeIndex,\n\u001b[32m     75\u001b[39m     MultiIndex,\n\u001b[32m     76\u001b[39m     IntervalIndex,\n\u001b[32m     77\u001b[39m     TimedeltaIndex,\n\u001b[32m     78\u001b[39m     DatetimeIndex,\n\u001b[32m     79\u001b[39m     PeriodIndex,\n\u001b[32m     80\u001b[39m     IndexSlice,\n\u001b[32m     81\u001b[39m     \u001b[38;5;66;03m# tseries\u001b[39;00m\n\u001b[32m     82\u001b[39m     NaT,\n\u001b[32m     83\u001b[39m     Period,\n\u001b[32m     84\u001b[39m     period_range,\n\u001b[32m     85\u001b[39m     Timedelta,\n\u001b[32m     86\u001b[39m     timedelta_range,\n\u001b[32m     87\u001b[39m     Timestamp,\n\u001b[32m     88\u001b[39m     date_range,\n\u001b[32m     89\u001b[39m     bdate_range,\n\u001b[32m     90\u001b[39m     Interval,\n\u001b[32m     91\u001b[39m     interval_range,\n\u001b[32m     92\u001b[39m     DateOffset,\n\u001b[32m     93\u001b[39m     \u001b[38;5;66;03m# conversion\u001b[39;00m\n\u001b[32m     94\u001b[39m     to_numeric,\n\u001b[32m     95\u001b[39m     to_datetime,\n\u001b[32m     96\u001b[39m     to_timedelta,\n\u001b[32m     97\u001b[39m     \u001b[38;5;66;03m# misc\u001b[39;00m\n\u001b[32m     98\u001b[39m     Flags,\n\u001b[32m     99\u001b[39m     Grouper,\n\u001b[32m    100\u001b[39m     factorize,\n\u001b[32m    101\u001b[39m     unique,\n\u001b[32m    102\u001b[39m     value_counts,\n\u001b[32m    103\u001b[39m     NamedAgg,\n\u001b[32m    104\u001b[39m     array,\n\u001b[32m    105\u001b[39m     Categorical,\n\u001b[32m    106\u001b[39m     set_eng_float_format,\n\u001b[32m    107\u001b[39m     Series,\n\u001b[32m    108\u001b[39m     DataFrame,\n\u001b[32m    109\u001b[39m )\n\u001b[32m    111\u001b[39m \u001b[38;5;28;01mfrom\u001b[39;00m\u001b[38;5;250m \u001b[39m\u001b[34;01mpandas\u001b[39;00m\u001b[34;01m.\u001b[39;00m\u001b[34;01mcore\u001b[39;00m\u001b[34;01m.\u001b[39;00m\u001b[34;01mdtypes\u001b[39;00m\u001b[34;01m.\u001b[39;00m\u001b[34;01mdtypes\u001b[39;00m\u001b[38;5;250m \u001b[39m\u001b[38;5;28;01mimport\u001b[39;00m SparseDtype\n\u001b[32m    113\u001b[39m \u001b[38;5;28;01mfrom\u001b[39;00m\u001b[38;5;250m \u001b[39m\u001b[34;01mpandas\u001b[39;00m\u001b[34;01m.\u001b[39;00m\u001b[34;01mtseries\u001b[39;00m\u001b[34;01m.\u001b[39;00m\u001b[34;01mapi\u001b[39;00m\u001b[38;5;250m \u001b[39m\u001b[38;5;28;01mimport\u001b[39;00m infer_freq\n",
      "\u001b[36mFile \u001b[39m\u001b[32m~/PycharmProjects/DataQuality/.venv/lib/python3.12/site-packages/pandas/core/api.py:1\u001b[39m\n\u001b[32m----> \u001b[39m\u001b[32m1\u001b[39m \u001b[38;5;28;01mfrom\u001b[39;00m\u001b[38;5;250m \u001b[39m\u001b[34;01mpandas\u001b[39;00m\u001b[34;01m.\u001b[39;00m\u001b[34;01m_libs\u001b[39;00m\u001b[38;5;250m \u001b[39m\u001b[38;5;28;01mimport\u001b[39;00m (\n\u001b[32m      2\u001b[39m     NaT,\n\u001b[32m      3\u001b[39m     Period,\n\u001b[32m      4\u001b[39m     Timedelta,\n\u001b[32m      5\u001b[39m     Timestamp,\n\u001b[32m      6\u001b[39m )\n\u001b[32m      7\u001b[39m \u001b[38;5;28;01mfrom\u001b[39;00m\u001b[38;5;250m \u001b[39m\u001b[34;01mpandas\u001b[39;00m\u001b[34;01m.\u001b[39;00m\u001b[34;01m_libs\u001b[39;00m\u001b[34;01m.\u001b[39;00m\u001b[34;01mmissing\u001b[39;00m\u001b[38;5;250m \u001b[39m\u001b[38;5;28;01mimport\u001b[39;00m NA\n\u001b[32m      9\u001b[39m \u001b[38;5;28;01mfrom\u001b[39;00m\u001b[38;5;250m \u001b[39m\u001b[34;01mpandas\u001b[39;00m\u001b[34;01m.\u001b[39;00m\u001b[34;01mcore\u001b[39;00m\u001b[34;01m.\u001b[39;00m\u001b[34;01mdtypes\u001b[39;00m\u001b[34;01m.\u001b[39;00m\u001b[34;01mdtypes\u001b[39;00m\u001b[38;5;250m \u001b[39m\u001b[38;5;28;01mimport\u001b[39;00m (\n\u001b[32m     10\u001b[39m     ArrowDtype,\n\u001b[32m     11\u001b[39m     CategoricalDtype,\n\u001b[32m   (...)\u001b[39m\u001b[32m     14\u001b[39m     PeriodDtype,\n\u001b[32m     15\u001b[39m )\n",
      "\u001b[36mFile \u001b[39m\u001b[32m~/PycharmProjects/DataQuality/.venv/lib/python3.12/site-packages/pandas/_libs/__init__.py:18\u001b[39m\n\u001b[32m     16\u001b[39m \u001b[38;5;28;01mimport\u001b[39;00m\u001b[38;5;250m \u001b[39m\u001b[34;01mpandas\u001b[39;00m\u001b[34;01m.\u001b[39;00m\u001b[34;01m_libs\u001b[39;00m\u001b[34;01m.\u001b[39;00m\u001b[34;01mpandas_parser\u001b[39;00m  \u001b[38;5;66;03m# noqa: E501 # isort: skip # type: ignore[reportUnusedImport]\u001b[39;00m\n\u001b[32m     17\u001b[39m \u001b[38;5;28;01mimport\u001b[39;00m\u001b[38;5;250m \u001b[39m\u001b[34;01mpandas\u001b[39;00m\u001b[34;01m.\u001b[39;00m\u001b[34;01m_libs\u001b[39;00m\u001b[34;01m.\u001b[39;00m\u001b[34;01mpandas_datetime\u001b[39;00m  \u001b[38;5;66;03m# noqa: F401,E501 # isort: skip # type: ignore[reportUnusedImport]\u001b[39;00m\n\u001b[32m---> \u001b[39m\u001b[32m18\u001b[39m \u001b[38;5;28;01mfrom\u001b[39;00m\u001b[38;5;250m \u001b[39m\u001b[34;01mpandas\u001b[39;00m\u001b[34;01m.\u001b[39;00m\u001b[34;01m_libs\u001b[39;00m\u001b[34;01m.\u001b[39;00m\u001b[34;01minterval\u001b[39;00m\u001b[38;5;250m \u001b[39m\u001b[38;5;28;01mimport\u001b[39;00m Interval\n\u001b[32m     19\u001b[39m \u001b[38;5;28;01mfrom\u001b[39;00m\u001b[38;5;250m \u001b[39m\u001b[34;01mpandas\u001b[39;00m\u001b[34;01m.\u001b[39;00m\u001b[34;01m_libs\u001b[39;00m\u001b[34;01m.\u001b[39;00m\u001b[34;01mtslibs\u001b[39;00m\u001b[38;5;250m \u001b[39m\u001b[38;5;28;01mimport\u001b[39;00m (\n\u001b[32m     20\u001b[39m     NaT,\n\u001b[32m     21\u001b[39m     NaTType,\n\u001b[32m   (...)\u001b[39m\u001b[32m     26\u001b[39m     iNaT,\n\u001b[32m     27\u001b[39m )\n",
      "\u001b[36mFile \u001b[39m\u001b[32minterval.pyx:1\u001b[39m, in \u001b[36minit pandas._libs.interval\u001b[39m\u001b[34m()\u001b[39m\n",
      "\u001b[31mValueError\u001b[39m: numpy.dtype size changed, may indicate binary incompatibility. Expected 96 from C header, got 88 from PyObject"
     ]
    }
   ],
   "source": [
    "import great_expectations as gx\n",
    "\n",
    "context = gx.get_context()\n",
    "\n",
    "data_source = context.data_sources.add_sqlite(\"sample\", connection_string=\"sqlite:///database.db\")"
   ]
  },
  {
   "cell_type": "code",
   "execution_count": null,
   "metadata": {},
   "outputs": [],
   "source": [
    "asset_name = \"users\"\n",
    "database_table_name = \"users\"\n",
    "table_data_asset = data_source.add_table_asset(\n",
    "    table_name=database_table_name, name=asset_name\n",
    ")"
   ]
  },
  {
   "cell_type": "code",
   "execution_count": null,
   "metadata": {},
   "outputs": [],
   "source": [
    "full_table_batch_definition = table_data_asset.add_batch_definition_whole_table(\n",
    "    name=\"users_full_table\",\n",
    ")"
   ]
  },
  {
   "cell_type": "code",
   "execution_count": null,
   "metadata": {},
   "outputs": [
    {
     "data": {
      "application/vnd.jupyter.widget-view+json": {
       "model_id": "3ccb183b77cc479e8619cd662c4547b2",
       "version_major": 2,
       "version_minor": 0
      },
      "text/plain": [
       "Calculating Metrics:   0%|          | 0/1 [00:00<?, ?it/s]"
      ]
     },
     "metadata": {},
     "output_type": "display_data"
    },
    {
     "data": {
      "text/plain": [
       "   id username                email           created_at\n",
       "0   1  initial  initial@example.com  2025-03-31 09:59:35\n",
       "1   2    admin    admin@example.com  2025-03-31 11:11:17\n",
       "2   3    user1    user1@example.com  2025-03-31 11:11:17\n",
       "3   4    user2    user2@example.com  2025-03-31 11:11:17"
      ]
     },
     "execution_count": 5,
     "metadata": {},
     "output_type": "execute_result"
    }
   ],
   "source": [
    "full_table_batch = full_table_batch_definition.get_batch()\n",
    "full_table_batch.head()\n"
   ]
  },
  {
   "cell_type": "code",
   "execution_count": null,
   "metadata": {},
   "outputs": [
    {
     "data": {
      "application/vnd.jupyter.widget-view+json": {
       "model_id": "a8f93fb5f94d48cfb2fa28589dd314d3",
       "version_major": 2,
       "version_minor": 0
      },
      "text/plain": [
       "Calculating Metrics:   0%|          | 0/13 [00:00<?, ?it/s]"
      ]
     },
     "metadata": {},
     "output_type": "display_data"
    }
   ],
   "source": [
    "preset_expectation = gx.expectations.ExpectColumnValuesToMatchRegex(\n",
    "    column=\"username\", regex=\"user.*\"\n",
    ")\n",
    "validation_results = full_table_batch.validate(preset_expectation, result_format=\"COMPLETE\")"
   ]
  },
  {
   "cell_type": "code",
   "execution_count": null,
   "metadata": {},
   "outputs": [],
   "source": [
    "assert ['admin', 'initial'] == validation_results.get(\"result\").get(\"unexpected_list\")"
   ]
  },
  {
   "cell_type": "markdown",
   "metadata": {},
   "source": [
    "## Database Interactions\n"
   ]
  },
  {
   "cell_type": "code",
   "execution_count": 10,
   "metadata": {},
   "outputs": [],
   "source": [
    "import database"
   ]
  },
  {
   "cell_type": "code",
   "execution_count": 11,
   "metadata": {},
   "outputs": [
    {
     "name": "stdout",
     "output_type": "stream",
     "text": [
      "Database reset completed\n",
      "Initializing database to step 0: 0_spring_2011\n",
      "Migration _create_table.sql from 0_spring_2011 - Successfully applied\n",
      "Migration bike_rental_2011_Spring.sql from 0_spring_2011 - Successfully applied\n"
     ]
    },
    {
     "data": {
      "text/plain": [
       "True"
      ]
     },
     "execution_count": 11,
     "metadata": {},
     "output_type": "execute_result"
    }
   ],
   "source": [
    "database.init()"
   ]
  },
  {
   "cell_type": "code",
   "execution_count": 12,
   "metadata": {},
   "outputs": [
    {
     "name": "stdout",
     "output_type": "stream",
     "text": [
      "Applied migrations: 2\n",
      "Directory 0_spring_2011: 2/2 files applied\n",
      "Directory 1_summer_2011: 0/1 files applied\n",
      "Directory 2_fall_2011: 0/1 files applied\n",
      "Directory 3_winter_2011: 0/1 files applied\n",
      "Directory 4_full_2012: 0/4 files applied\n"
     ]
    },
    {
     "data": {
      "text/plain": [
       "{'total_applied': 2,\n",
       " 'directories': {'0_spring_2011': {'applied': 2, 'total': 2},\n",
       "  '1_summer_2011': {'applied': 0, 'total': 1},\n",
       "  '2_fall_2011': {'applied': 0, 'total': 1},\n",
       "  '3_winter_2011': {'applied': 0, 'total': 1},\n",
       "  '4_full_2012': {'applied': 0, 'total': 4}}}"
      ]
     },
     "execution_count": 12,
     "metadata": {},
     "output_type": "execute_result"
    }
   ],
   "source": [
    "database.status()"
   ]
  },
  {
   "cell_type": "code",
   "execution_count": 13,
   "metadata": {},
   "outputs": [
    {
     "name": "stdout",
     "output_type": "stream",
     "text": [
      "Processing directory: 0_spring_2011\n",
      "Skipping _create_table.sql (already applied)\n",
      "Skipping bike_rental_2011_Spring.sql (already applied)\n",
      "Processing directory: 1_summer_2011\n",
      "Migration bike_rental_2011_Summer.sql from 1_summer_2011 - Successfully applied\n",
      "Processing directory: 2_fall_2011\n",
      "Migration bike_rental_2011_Fall.sql from 2_fall_2011 - Successfully applied\n",
      "Processing directory: 3_winter_2011\n",
      "Migration bike_rental_2011_Winter.sql from 3_winter_2011 - Successfully applied\n"
     ]
    },
    {
     "data": {
      "text/plain": [
       "True"
      ]
     },
     "execution_count": 13,
     "metadata": {},
     "output_type": "execute_result"
    }
   ],
   "source": [
    "database.set(3)"
   ]
  },
  {
   "cell_type": "code",
   "execution_count": 5,
   "metadata": {},
   "outputs": [
    {
     "name": "stdout",
     "output_type": "stream",
     "text": [
      "Applied migrations: 3\n",
      "Directory 0_spring_2011: 1/1 files applied\n",
      "Directory 1_summer_2011: 1/1 files applied\n",
      "Directory 2_fall_2011: 1/1 files applied\n",
      "Directory 3_winter_2011: 0/1 files applied\n",
      "Directory 4_full_2012: 0/4 files applied\n"
     ]
    },
    {
     "data": {
      "text/plain": [
       "{'total_applied': 3,\n",
       " 'directories': {'0_spring_2011': {'applied': 1, 'total': 1},\n",
       "  '1_summer_2011': {'applied': 1, 'total': 1},\n",
       "  '2_fall_2011': {'applied': 1, 'total': 1},\n",
       "  '3_winter_2011': {'applied': 0, 'total': 1},\n",
       "  '4_full_2012': {'applied': 0, 'total': 4}}}"
      ]
     },
     "execution_count": 5,
     "metadata": {},
     "output_type": "execute_result"
    }
   ],
   "source": [
    "database.status()"
   ]
  }
 ],
 "metadata": {
  "kernelspec": {
   "display_name": ".venv",
   "language": "python",
   "name": "python3"
  },
  "language_info": {
   "codemirror_mode": {
    "name": "ipython",
    "version": 3
   },
   "file_extension": ".py",
   "mimetype": "text/x-python",
   "name": "python",
   "nbconvert_exporter": "python",
   "pygments_lexer": "ipython3",
   "version": "3.12.7"
  }
 },
 "nbformat": 4,
 "nbformat_minor": 2
}
